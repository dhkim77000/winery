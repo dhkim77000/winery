{
 "cells": [
  {
   "cell_type": "code",
   "execution_count": 5,
   "metadata": {},
   "outputs": [],
   "source": [
    "import pandas as pd\n",
    "import os"
   ]
  },
  {
   "cell_type": "code",
   "execution_count": 6,
   "metadata": {},
   "outputs": [],
   "source": [
    "def bayesian_adj_rating(df):\n",
    "    min_votes = 30\n",
    "\n",
    "    tmp_df = df.dropna(subset=['rating', 'num_votes'])\n",
    "\n",
    "    tmp_df['w_rating'] = tmp_df['rating'] * tmp_df['num_votes'] / (tmp_df['num_votes'].sum())\n",
    "    bayesian_weight = 4  # Bayesian 가중치 (조절 가능)\n",
    "    tmp_df['b_rating'] = (\n",
    "        (tmp_df['num_votes'] / (tmp_df['num_votes'] + min_votes)) * tmp_df['rating'] +\n",
    "        (min_votes / (tmp_df['num_votes'] + min_votes)) * tmp_df['rating'].mean()\n",
    "    )\n",
    "    df = pd.merge(tmp_df[['wine_id', 'b_rating']], df, how='right', on='wine_id')\n",
    "\n",
    "    return df\n",
    "\n",
    "def get_item_data():\n",
    "    data_path = \"/home/dhkim/server_front/winery_server/data\"\n",
    "    data = pd.read_csv(os.path.join(data_path, \"item_data.csv\"))\n",
    "    data = bayesian_adj_rating(data)\n",
    "    # \"grape\"\n",
    "    wine_column = ['wine_id','winetype','Red Fruit', 'Tropical', 'Tree Fruit', 'Oaky',\\\n",
    "        'Ageing', 'Black Fruit', 'Citrus', 'Dried Fruit', 'Earthy', 'Floral', \\\n",
    "        'Microbio','Spices', 'Vegetal', 'Light', 'Bold', 'Smooth', 'Tannic', 'Dry',\\\n",
    "        'Sweet', 'Soft', 'Acidic', 'Fizzy', 'Gentle','vintage','price',\\\n",
    "        'rating','b_rating', 'num_votes','country','region1','winery','name','wine_style','house',\\\n",
    "        'grape', 'pairing']\n",
    "\n",
    "    # EX\n",
    "    rename_rule = {\n",
    "        'Red Fruit' : 'Red_Fruit',\n",
    "        'Tree Fruit': 'Tree_Fruit',\n",
    "        'Black Fruit':'Black_Fruit',\n",
    "        'Dried Fruit':'Dried_Fruit',\n",
    "\n",
    "    }\n",
    "\n",
    "    df = data[wine_column]\n",
    "    df = data.rename(columns=rename_rule)\n",
    "    df.loc[df['vintage'].isna(), 'vintage'] = 0\n",
    "    df[['grape','pairing']] = df[['grape','pairing']].astype(str)\n",
    "    df['grape'] = df['grape'].copy().apply(lambda x: x.split() if x is not None else [])\n",
    "    df['pairing'] = df['pairing'].copy().apply(lambda x: x.split() if x is not None else [])\n",
    "    #df['winetype'].fillna(0, inplace=True)\n",
    "    # for data in range(df.shape[0]):\n",
    "    #     df['rating'][data] = float(df['rating'][data])\n",
    "    return df"
   ]
  },
  {
   "cell_type": "code",
   "execution_count": 7,
   "metadata": {},
   "outputs": [
    {
     "name": "stderr",
     "output_type": "stream",
     "text": [
      "<ipython-input-6-668ca154e54e>:6: SettingWithCopyWarning: \n",
      "A value is trying to be set on a copy of a slice from a DataFrame.\n",
      "Try using .loc[row_indexer,col_indexer] = value instead\n",
      "\n",
      "See the caveats in the documentation: https://pandas.pydata.org/pandas-docs/stable/user_guide/indexing.html#returning-a-view-versus-a-copy\n",
      "  tmp_df['w_rating'] = tmp_df['rating'] * tmp_df['num_votes'] / (tmp_df['num_votes'].sum())\n",
      "<ipython-input-6-668ca154e54e>:8: SettingWithCopyWarning: \n",
      "A value is trying to be set on a copy of a slice from a DataFrame.\n",
      "Try using .loc[row_indexer,col_indexer] = value instead\n",
      "\n",
      "See the caveats in the documentation: https://pandas.pydata.org/pandas-docs/stable/user_guide/indexing.html#returning-a-view-versus-a-copy\n",
      "  tmp_df['b_rating'] = (\n"
     ]
    }
   ],
   "source": [
    "df = get_item_data()"
   ]
  },
  {
   "cell_type": "code",
   "execution_count": 8,
   "metadata": {},
   "outputs": [
    {
     "data": {
      "text/html": [
       "<div>\n",
       "<style scoped>\n",
       "    .dataframe tbody tr th:only-of-type {\n",
       "        vertical-align: middle;\n",
       "    }\n",
       "\n",
       "    .dataframe tbody tr th {\n",
       "        vertical-align: top;\n",
       "    }\n",
       "\n",
       "    .dataframe thead th {\n",
       "        text-align: right;\n",
       "    }\n",
       "</style>\n",
       "<table border=\"1\" class=\"dataframe\">\n",
       "  <thead>\n",
       "    <tr style=\"text-align: right;\">\n",
       "      <th></th>\n",
       "      <th>wine_style</th>\n",
       "      <th>b_rating</th>\n",
       "      <th>wine_id</th>\n",
       "    </tr>\n",
       "  </thead>\n",
       "  <tbody>\n",
       "    <tr>\n",
       "      <th>0</th>\n",
       "      <td>Alsace Gewürztraminer</td>\n",
       "      <td>4.406514</td>\n",
       "      <td>26005</td>\n",
       "    </tr>\n",
       "    <tr>\n",
       "      <th>1</th>\n",
       "      <td>Alsace Gewürztraminer</td>\n",
       "      <td>4.255158</td>\n",
       "      <td>25998</td>\n",
       "    </tr>\n",
       "    <tr>\n",
       "      <th>2</th>\n",
       "      <td>Alsace Gewürztraminer</td>\n",
       "      <td>4.232928</td>\n",
       "      <td>26001</td>\n",
       "    </tr>\n",
       "    <tr>\n",
       "      <th>3</th>\n",
       "      <td>Alsace Gewürztraminer</td>\n",
       "      <td>4.211794</td>\n",
       "      <td>26000</td>\n",
       "    </tr>\n",
       "    <tr>\n",
       "      <th>4</th>\n",
       "      <td>Alsace Gewürztraminer</td>\n",
       "      <td>4.206548</td>\n",
       "      <td>59638</td>\n",
       "    </tr>\n",
       "    <tr>\n",
       "      <th>...</th>\n",
       "      <td>...</td>\n",
       "      <td>...</td>\n",
       "      <td>...</td>\n",
       "    </tr>\n",
       "    <tr>\n",
       "      <th>23734</th>\n",
       "      <td>Washington State Red Blend</td>\n",
       "      <td>3.540134</td>\n",
       "      <td>41189</td>\n",
       "    </tr>\n",
       "    <tr>\n",
       "      <th>23735</th>\n",
       "      <td>Washington State Red Blend</td>\n",
       "      <td>3.525805</td>\n",
       "      <td>18899</td>\n",
       "    </tr>\n",
       "    <tr>\n",
       "      <th>23736</th>\n",
       "      <td>Washington State Red Blend</td>\n",
       "      <td>3.522408</td>\n",
       "      <td>55475</td>\n",
       "    </tr>\n",
       "    <tr>\n",
       "      <th>23737</th>\n",
       "      <td>Washington State Red Blend</td>\n",
       "      <td>3.514763</td>\n",
       "      <td>12199</td>\n",
       "    </tr>\n",
       "    <tr>\n",
       "      <th>23738</th>\n",
       "      <td>Washington State Red Blend</td>\n",
       "      <td>3.420072</td>\n",
       "      <td>67997</td>\n",
       "    </tr>\n",
       "  </tbody>\n",
       "</table>\n",
       "<p>23739 rows × 3 columns</p>\n",
       "</div>"
      ],
      "text/plain": [
       "                       wine_style  b_rating  wine_id\n",
       "0           Alsace Gewürztraminer  4.406514    26005\n",
       "1           Alsace Gewürztraminer  4.255158    25998\n",
       "2           Alsace Gewürztraminer  4.232928    26001\n",
       "3           Alsace Gewürztraminer  4.211794    26000\n",
       "4           Alsace Gewürztraminer  4.206548    59638\n",
       "...                           ...       ...      ...\n",
       "23734  Washington State Red Blend  3.540134    41189\n",
       "23735  Washington State Red Blend  3.525805    18899\n",
       "23736  Washington State Red Blend  3.522408    55475\n",
       "23737  Washington State Red Blend  3.514763    12199\n",
       "23738  Washington State Red Blend  3.420072    67997\n",
       "\n",
       "[23739 rows x 3 columns]"
      ]
     },
     "execution_count": 8,
     "metadata": {},
     "output_type": "execute_result"
    }
   ],
   "source": [
    "top_300_df = df.groupby('wine_style', group_keys=False).apply(lambda group: group.nlargest(300, 'b_rating'))\n",
    "# Reset index if needed\n",
    "top_300_df.reset_index(drop=True, inplace=True)\n",
    "# Display the resulting DataFrame\n",
    "top_300_df.loc[:,['wine_style','b_rating','wine_id']]"
   ]
  },
  {
   "cell_type": "code",
   "execution_count": 9,
   "metadata": {},
   "outputs": [
    {
     "data": {
      "text/plain": [
       "array(['Bordeaux Red', \"Italian Moscato d'Asti\", 'Beaujolais Red', nan,\n",
       "       'French Champagne', 'Loire Chenin Blanc', 'Californian Sparkling',\n",
       "       'Washington State Red Blend', 'Bordeaux Pessac-Léognan',\n",
       "       'Californian Chardonnay', 'Californian Pinot Noir',\n",
       "       'German Riesling', 'Portuguese Dão Red', 'Argentinian Malbec',\n",
       "       'Washington State Cabernet Sauvignon',\n",
       "       'Californian Cabernet Sauvignon', 'Italian Amarone',\n",
       "       'Bordeaux Saint-Estèphe', 'Provence Rosé', 'Southern Italy Red',\n",
       "       'Italian Vino Nobile Di Montepulciano',\n",
       "       'Austrian Grüner Veltliner', 'Bordeaux Margaux',\n",
       "       'Southern Rhône Red', 'Northern Italy Red',\n",
       "       'Languedoc-Roussillon Red', 'Burgundy Red', 'Northern Italy White',\n",
       "       'Spanish Monastrell', 'Italian Barolo', 'Bordeaux Médoc',\n",
       "       'Californian Red Blend', 'Bordeaux Saint-Émilion',\n",
       "       'Chilean Cabernet Sauvignon', 'Chilean Chardonnay',\n",
       "       'Upper Loire White', 'Southern Rhône White', 'Spanish Grenache',\n",
       "       'Bordeaux Pomerol', 'Australian Cabernet Sauvignon',\n",
       "       'Californian Merlot', 'Italian Barbera',\n",
       "       'New Zealand Sauvignon Blanc', 'Washington State Merlot',\n",
       "       'Portuguese Vinho Verde White', 'Oregon Pinot Noir',\n",
       "       'Southern Italy White', 'Spanish Ribera Del Duero Red',\n",
       "       'Californian Sauvignon Blanc', 'Bordeaux Saint-Julien',\n",
       "       'Burgundy Chablis', 'Languedoc-Roussillon White',\n",
       "       \"Italian Montepulciano d'Abruzzo\", 'Loire Muscadet',\n",
       "       'Spanish Rioja Red', 'Central Italy White', 'Italian Ripasso',\n",
       "       'Italian Chianti', 'Italian Barbaresco', 'Burgundy White',\n",
       "       'Alsace Riesling', 'Californian Syrah',\n",
       "       'Argentinian Cabernet Sauvignon', 'Californian Zinfandel',\n",
       "       'Italian Brunello', 'Australian Shiraz',\n",
       "       'South African Sauvignon Blanc', 'Chilean Bordeaux Blend',\n",
       "       'Spanish Red', 'Southern Portugal Red', 'Bordeaux Pauillac',\n",
       "       'Bordeaux White', 'Central Italy Red', 'Australian Chardonnay',\n",
       "       'Portuguese Douro Red', 'Chilean Carménère', 'Greek Nemea Red',\n",
       "       'South African Pinotage', 'Italian Valpolicella Red',\n",
       "       'Argentinian Pinot Noir', 'Italian Prosecco', 'Jura White',\n",
       "       'Spanish Verdejo', 'Spanish Albariño', 'Spanish Toro Red',\n",
       "       'Chilean Pinot Noir', 'Chilean Sauvignon Blanc',\n",
       "       'Italian Bolgheri', 'English Sparkling', 'Australian Pinot Noir',\n",
       "       'Northern Italy Pinot Grigio', 'Northern Portugal White',\n",
       "       'Austrian Zweigelt', 'Spanish Priorat Red',\n",
       "       'New Zealand Pinot Noir', 'Southern Italy Primitivo',\n",
       "       'Uruguay Tannat', 'South African Chardonnay',\n",
       "       'Argentinian Chardonnay', 'Alsace Pinot Gris',\n",
       "       'Californian Pinot Gris', 'South African Cabernet Sauvignon',\n",
       "       'Bordeaux Graves Red', 'Chilean Syrah', 'Argentinian Syrah',\n",
       "       'Chilean Malbec', 'South African Syrah',\n",
       "       'Californian Petite Sirah', 'Argentinian Merlot',\n",
       "       'Spanish Sparkling', 'Australian Cabernet - Shiraz',\n",
       "       'Argentinian Torrontés', 'Bordeaux Libournais Red',\n",
       "       'Portuguese Alentejo Red', 'Alsace Gewürztraminer',\n",
       "       'Argentinian Pinot Gris', 'Brazilian Sparkling',\n",
       "       'South African Cabernet Franc', 'Portuguese Port',\n",
       "       'South African Merlot', 'Australian Merlot',\n",
       "       'Southern Portugal White', 'Australian Bordeaux Blend',\n",
       "       'Chilean Merlot', 'German Silvaner', 'Jura Vin Jaune',\n",
       "       'Northern Portugal Red', 'Alsace Pinot Noir',\n",
       "       'Brazilian Cabernet Sauvignon', 'Swiss Chasselas'], dtype=object)"
      ]
     },
     "execution_count": 9,
     "metadata": {},
     "output_type": "execute_result"
    }
   ],
   "source": [
    "unique_wine_styles = df['wine_style'].unique()\n",
    "unique_wine_styles"
   ]
  },
  {
   "cell_type": "code",
   "execution_count": 15,
   "metadata": {},
   "outputs": [],
   "source": [
    "def style_topK(df, style, K):\n",
    "    if style != \"Popular\":\n",
    "        filtered = df[df['wine_style'] == style]\n",
    "    else:\n",
    "        K = 100 \n",
    "        filtered = df\n",
    "\n",
    "    sorted_df = filtered.sort_values(by='b_rating', ascending=False)\n",
    "    topK = sorted_df.head(K).loc[:, ['wine_id', 'name', 'rating','num_votes','b_rating']]\n",
    "    return topK\n"
   ]
  },
  {
   "cell_type": "code",
   "execution_count": 16,
   "metadata": {},
   "outputs": [],
   "source": [
    "mbti_styles = [\n",
    "    \"Popular\",\n",
    "    \"Portuguese Port\",\n",
    "    \"French Champagne\",\n",
    "    \"Spanish Cava\",\n",
    "    \"Italian Moscato d'Asti\",\n",
    "    \"Californian Chardonnay\",\n",
    "    \"Californian Sauvignon Blanc\",\n",
    "    \"Bordeaux White\",\n",
    "    \"Bourgogne Chablis\",\n",
    "    \"German Riesling\",\n",
    "    \"New Zealand Sauvignon Blanc\",\n",
    "    \"Californian Pinot Noir\",\n",
    "    \"Californian Cabernet Sauvignon\",\n",
    "    \"Californian Merlot\",\n",
    "    \"Italian Barolo\",\n",
    "    \"Italian Barbaresco\",\n",
    "    \"Italian Brunello di Montalcino\",\n",
    "    \"Italian Chianti\",\n",
    "    \"Beaujolais Red\",\n",
    "    \"Bordeaux Red\",\n",
    "    \"Bourgogne Red\",\n",
    "    \"Argentinian Malbec\",\n",
    "    \"Australian Shiraz\",\n",
    "    \"Spanish Rioja Red\"\n",
    "]\n"
   ]
  },
  {
   "cell_type": "code",
   "execution_count": 20,
   "metadata": {},
   "outputs": [],
   "source": [
    "styletopK = {}\n",
    "for style in mbti_styles:\n",
    "    styletopK[style] = list(style_topK(df, style, 500)['wine_id'])"
   ]
  },
  {
   "cell_type": "code",
   "execution_count": 21,
   "metadata": {},
   "outputs": [],
   "source": [
    "import json\n",
    "with open('/home/dhkim/server_front/winery_server/data/styletopK.json', 'w') as json_file:\n",
    "    json.dump(styletopK, json_file)"
   ]
  },
  {
   "cell_type": "code",
   "execution_count": 14,
   "metadata": {},
   "outputs": [
    {
     "data": {
      "text/plain": [
       "(['a1', 'b3', 'c2', 'd3', 'e2'],)"
      ]
     },
     "execution_count": 14,
     "metadata": {},
     "output_type": "execute_result"
    }
   ],
   "source": [
    " ['a1', 'b3', 'c2', 'd3', 'e2'],"
   ]
  },
  {
   "cell_type": "code",
   "execution_count": 4,
   "metadata": {},
   "outputs": [
    {
     "ename": "NameError",
     "evalue": "name 'df' is not defined",
     "output_type": "error",
     "traceback": [
      "\u001b[0;31m---------------------------------------------------------------------------\u001b[0m",
      "\u001b[0;31mNameError\u001b[0m                                 Traceback (most recent call last)",
      "\u001b[0;32m<ipython-input-4-00cf07b74dcd>\u001b[0m in \u001b[0;36m<module>\u001b[0;34m\u001b[0m\n\u001b[0;32m----> 1\u001b[0;31m \u001b[0mdf\u001b[0m\u001b[0;34m\u001b[0m\u001b[0;34m\u001b[0m\u001b[0m\n\u001b[0m",
      "\u001b[0;31mNameError\u001b[0m: name 'df' is not defined"
     ]
    }
   ],
   "source": [
    "df"
   ]
  },
  {
   "cell_type": "code",
   "execution_count": 34,
   "metadata": {},
   "outputs": [
    {
     "data": {
      "text/plain": [
       "Index(['wine_id', 'b_rating', 'country', 'winery', 'winetype', 'name',\n",
       "       'vintage', 'house', 'price', 'rating', 'num_votes', 'star5', 'star4',\n",
       "       'star3', 'star2', 'star1', 'pairing', 'wine_style', 'Red_Fruit',\n",
       "       'Tropical', 'Tree_Fruit', 'Oaky', 'Ageing', 'Black_Fruit', 'Citrus',\n",
       "       'Dried_Fruit', 'Earthy', 'Floral', 'Microbio', 'Spices', 'Vegetal',\n",
       "       'region2', 'region1', 'region3', 'region4', 'region5',\n",
       "       'alcohol content', 'allergens', 'grape', 'wine style', 'grape_detail',\n",
       "       'Light', 'Bold', 'Smooth', 'Tannic', 'Dry', 'Sweet', 'Soft', 'Acidic',\n",
       "       'Fizzy', 'Gentle'],\n",
       "      dtype='object')"
      ]
     },
     "execution_count": 34,
     "metadata": {},
     "output_type": "execute_result"
    }
   ],
   "source": [
    "df.columns"
   ]
  },
  {
   "cell_type": "code",
   "execution_count": null,
   "metadata": {},
   "outputs": [],
   "source": []
  }
 ],
 "metadata": {
  "kernelspec": {
   "display_name": "Python 3",
   "language": "python",
   "name": "python3"
  },
  "language_info": {
   "codemirror_mode": {
    "name": "ipython",
    "version": 3
   },
   "file_extension": ".py",
   "mimetype": "text/x-python",
   "name": "python",
   "nbconvert_exporter": "python",
   "pygments_lexer": "ipython3",
   "version": "3.8.3"
  }
 },
 "nbformat": 4,
 "nbformat_minor": 2
}
