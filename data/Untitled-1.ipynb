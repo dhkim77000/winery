{
 "cells": [
  {
   "cell_type": "code",
   "execution_count": 1,
   "metadata": {},
   "outputs": [],
   "source": [
    "import pickle\n",
    "import json\n",
    "import pandas as pd"
   ]
  },
  {
   "cell_type": "code",
   "execution_count": 2,
   "metadata": {},
   "outputs": [],
   "source": [
    "with open('/opt/ml/wine/data/vine_dic.pkl','rb') as f:\n",
    "    urls = pickle.load(f)"
   ]
  },
  {
   "cell_type": "code",
   "execution_count": 30,
   "metadata": {},
   "outputs": [],
   "source": [
    "with open('/opt/ml/wine/data/wine_styles_url.json','w') as f:\n",
    "    json.dump(wine_mbti, f)"
   ]
  },
  {
   "cell_type": "code",
   "execution_count": 3,
   "metadata": {},
   "outputs": [],
   "source": [
    "wine_df = pd.read_csv('/opt/ml/wine/data/wine_df.csv')"
   ]
  },
  {
   "cell_type": "code",
   "execution_count": 29,
   "metadata": {},
   "outputs": [],
   "source": [
    "wine_mbti = []\n",
    "for style in wine_df['wine_style'].value_counts()[:150].index:\n",
    "    wine_mbti.append(\n",
    "        {style : \"https://www.vivino.com/wine-styles/\" + style.lower().replace(' ','-')}\n",
    "    )"
   ]
  },
  {
   "cell_type": "code",
   "execution_count": 5,
   "metadata": {},
   "outputs": [
    {
     "data": {
      "text/plain": [
       "Index(['Californian Pinot Noir', 'Californian Chardonnay',\n",
       "       'Californian Cabernet Sauvignon', 'Italian Barolo', 'French Champagne',\n",
       "       'German Riesling', 'Bordeaux Saint-Émilion', 'Argentinian Malbec',\n",
       "       'Northern Italy White', 'Oregon Pinot Noir', 'Southern Italy Red',\n",
       "       'Italian Brunello', 'Northern Italy Red', 'Italian Chianti',\n",
       "       'Spanish Rioja Red', 'Southern Rhône Red', 'Californian Red Blend',\n",
       "       'Burgundy Chablis', 'Southern Italy White', 'Californian Zinfandel',\n",
       "       'Californian Sauvignon Blanc', 'Beaujolais Red', 'Australian Shiraz',\n",
       "       'Bordeaux Pomerol', 'Italian Barbaresco', 'Californian Merlot',\n",
       "       'Central Italy White', 'Bordeaux Margaux', 'Bordeaux Médoc',\n",
       "       'Languedoc-Roussillon Red', 'Burgundy White', 'Bordeaux Red',\n",
       "       'Bordeaux Pauillac', 'Upper Loire White', 'Burgundy Red',\n",
       "       'New Zealand Sauvignon Blanc', 'Northern Italy Pinot Grigio',\n",
       "       'Bordeaux Saint-Julien', 'Italian Barbera', 'Loire Chenin Blanc',\n",
       "       'Provence Rosé', 'Bordeaux White',\n",
       "       'Washington State Cabernet Sauvignon', 'Californian Syrah',\n",
       "       'Spanish Ribera Del Duero Red', 'Bordeaux Pessac-Léognan',\n",
       "       'Spanish Red', 'Austrian Grüner Veltliner',\n",
       "       'Chilean Cabernet Sauvignon', 'Italian Amarone'],\n",
       "      dtype='object', name='wine_style')"
      ]
     },
     "execution_count": 5,
     "metadata": {},
     "output_type": "execute_result"
    }
   ],
   "source": [
    "wine_df['wine_style'].value_counts()[:50].index"
   ]
  },
  {
   "cell_type": "code",
   "execution_count": null,
   "metadata": {},
   "outputs": [],
   "source": []
  }
 ],
 "metadata": {
  "kernelspec": {
   "display_name": "base",
   "language": "python",
   "name": "python3"
  },
  "language_info": {
   "codemirror_mode": {
    "name": "ipython",
    "version": 3
   },
   "file_extension": ".py",
   "mimetype": "text/x-python",
   "name": "python",
   "nbconvert_exporter": "python",
   "pygments_lexer": "ipython3",
   "version": "3.8.5"
  },
  "orig_nbformat": 4
 },
 "nbformat": 4,
 "nbformat_minor": 2
}
