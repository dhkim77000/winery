{
 "cells": [
  {
   "cell_type": "code",
   "execution_count": 1,
   "id": "6cc9b2bf-3434-4781-a2a4-f056c687dfbb",
   "metadata": {},
   "outputs": [],
   "source": [
    "import os\n",
    "import json\n",
    "import argparse\n",
    "import pandas as pd\n",
    "import numpy as np\n",
    "import time, datetime\n",
    "from tqdm import tqdm\n",
    "from logging import getLogger\n",
    "import torch"
   ]
  },
  {
   "cell_type": "code",
   "execution_count": 2,
   "id": "e9d86f37",
   "metadata": {},
   "outputs": [],
   "source": [
    "def string2array(x):\n",
    "    x = x.replace('\\n', '').strip('[]')\n",
    "    x_list = [float(i) for i in x.split(' ') if len(i) != 0]\n",
    "    return np.array(x_list)"
   ]
  },
  {
   "cell_type": "code",
   "execution_count": 3,
   "id": "da2c08dd",
   "metadata": {},
   "outputs": [],
   "source": [
    "def data_to_normal(data,user_id,timestamp,rating,wine_id):\n",
    "    grouped_data = data.groupby(user_id)[rating].agg(['mean', 'std','count'])\n",
    "\n",
    "    # 여러개 구매한 유저\n",
    "    other_user = grouped_data[(grouped_data['count']>=5) & (grouped_data['std'] != 0)]\n",
    "\n",
    "    other_user\n",
    "\n",
    "    other_userlist = list(other_user.index)\n",
    "\n",
    "    other_user_data = data[data[user_id].isin(other_userlist)].sort_values(by=user_id)\n",
    "    other_user_data\n",
    "\n",
    "    other_data = pd.merge(other_user_data,other_user, on =user_id,how='left')\n",
    "\n",
    "    other_data = other_data.set_index(other_user_data.index)\n",
    "\n",
    "    other_data['scaled_rating'] = (other_data[rating]-other_data['mean'])/other_data['std']\n",
    "    print(other_data['scaled_rating'].quantile(0.75))\n",
    "    result = other_data[[user_id,timestamp,'scaled_rating',wine_id]]\n",
    "    result.rename(columns = {'scaled_rating':'rating'})\n",
    "    return result\n"
   ]
  },
  {
   "cell_type": "code",
   "execution_count": 4,
   "id": "c492e2dc",
   "metadata": {},
   "outputs": [],
   "source": [
    "item_data = pd.read_csv('/opt/ml/wine/data/item_data_vec.csv', encoding='utf-8-sig')"
   ]
  },
  {
   "cell_type": "code",
   "execution_count": 5,
   "id": "afb60e95",
   "metadata": {},
   "outputs": [],
   "source": [
    "def bayesian_average(df, min_votes=20, prior_rating=None):\n",
    "    v = df['num_votes']\n",
    "    R = df['wine_rating']\n",
    "    \n",
    "    if prior_rating is None:\n",
    "        C = df['wine_rating'].mean()  # Mean rating as the prior rating\n",
    "    else:\n",
    "        C = prior_rating\n",
    "\n",
    "    m = min_votes\n",
    "\n",
    "    df['popularity_adjusted_rating'] = ((v / (v + m)) * R) + ((m / (v + m)) * C)\n",
    "    return df"
   ]
  },
  {
   "cell_type": "code",
   "execution_count": 6,
   "id": "06a4d972",
   "metadata": {},
   "outputs": [],
   "source": [
    "min_votes = 20\n",
    "item_data = bayesian_average(item_data, min_votes)\n",
    "# Calculate Bayesian average and add it as a new column in the DataFrame"
   ]
  },
  {
   "cell_type": "code",
   "execution_count": 7,
   "id": "99e21967",
   "metadata": {},
   "outputs": [],
   "source": [
    "item_data = item_data.rename(columns = {'item_id':'wine_id'})"
   ]
  },
  {
   "cell_type": "code",
   "execution_count": 8,
   "id": "74054aad",
   "metadata": {},
   "outputs": [
    {
     "name": "stderr",
     "output_type": "stream",
     "text": [
      "100%|██████████| 74922/74922 [08:11<00:00, 152.53it/s]\n"
     ]
    }
   ],
   "source": [
    "note_cols = ['Red Fruit', 'Tropical', 'Tree Fruit', 'Oaky', 'Ageing', 'Black Fruit', 'Citrus', 'Dried Fruit', 'Earthy', 'Floral', 'Microbio', 'Spices', 'Vegetal']\n",
    "for idx in tqdm(item_data.index):\n",
    "    total = item_data.loc[idx, note_cols].sum()\n",
    "    if total != 0:\n",
    "        for col in note_cols:\n",
    "            item_data.loc[idx, col] = (item_data.loc[idx, col]/total) * 100\n",
    "    else:\n",
    "        item_data.loc[idx, note_cols] = 0"
   ]
  },
  {
   "cell_type": "code",
   "execution_count": 9,
   "id": "59f80290",
   "metadata": {},
   "outputs": [],
   "source": [
    "with open('/opt/ml/wine/data/wine_vector.json','r') as f: vec = json.load(f)"
   ]
  },
  {
   "cell_type": "code",
   "execution_count": 10,
   "id": "f6c144ab",
   "metadata": {},
   "outputs": [
    {
     "ename": "FileNotFoundError",
     "evalue": "[Errno 2] No such file or directory: '/opt/ml/wine/data/inter_sample.csv'",
     "output_type": "error",
     "traceback": [
      "\u001b[0;31m---------------------------------------------------------------------------\u001b[0m",
      "\u001b[0;31mFileNotFoundError\u001b[0m                         Traceback (most recent call last)",
      "\u001b[0;32m<ipython-input-10-1d5a2b848e5d>\u001b[0m in \u001b[0;36m<module>\u001b[0;34m\u001b[0m\n\u001b[0;32m----> 1\u001b[0;31m inter = pd.read_csv('/opt/ml/wine/data/inter_sample.csv', \n\u001b[0m\u001b[1;32m      2\u001b[0m                                     \u001b[0mencoding\u001b[0m\u001b[0;34m=\u001b[0m\u001b[0;34m'utf-8-sig'\u001b[0m\u001b[0;34m,\u001b[0m\u001b[0;34m\u001b[0m\u001b[0;34m\u001b[0m\u001b[0m\n\u001b[1;32m      3\u001b[0m                                     usecols = ['email','rating','timestamp','wine_id'])\n\u001b[1;32m      4\u001b[0m \u001b[0;34m\u001b[0m\u001b[0m\n\u001b[1;32m      5\u001b[0m \u001b[0minter\u001b[0m \u001b[0;34m=\u001b[0m \u001b[0minter\u001b[0m\u001b[0;34m.\u001b[0m\u001b[0mdropna\u001b[0m\u001b[0;34m(\u001b[0m\u001b[0msubset\u001b[0m\u001b[0;34m=\u001b[0m\u001b[0;34m[\u001b[0m\u001b[0;34m'wine_id'\u001b[0m\u001b[0;34m]\u001b[0m\u001b[0;34m,\u001b[0m \u001b[0maxis\u001b[0m\u001b[0;34m=\u001b[0m\u001b[0;36m0\u001b[0m\u001b[0;34m)\u001b[0m\u001b[0;34m\u001b[0m\u001b[0;34m\u001b[0m\u001b[0m\n",
      "\u001b[0;32m/opt/conda/lib/python3.8/site-packages/pandas/io/parsers/readers.py\u001b[0m in \u001b[0;36mread_csv\u001b[0;34m(filepath_or_buffer, sep, delimiter, header, names, index_col, usecols, dtype, engine, converters, true_values, false_values, skipinitialspace, skiprows, skipfooter, nrows, na_values, keep_default_na, na_filter, verbose, skip_blank_lines, parse_dates, infer_datetime_format, keep_date_col, date_parser, date_format, dayfirst, cache_dates, iterator, chunksize, compression, thousands, decimal, lineterminator, quotechar, quoting, doublequote, escapechar, comment, encoding, encoding_errors, dialect, on_bad_lines, delim_whitespace, low_memory, memory_map, float_precision, storage_options, dtype_backend)\u001b[0m\n\u001b[1;32m    910\u001b[0m     \u001b[0mkwds\u001b[0m\u001b[0;34m.\u001b[0m\u001b[0mupdate\u001b[0m\u001b[0;34m(\u001b[0m\u001b[0mkwds_defaults\u001b[0m\u001b[0;34m)\u001b[0m\u001b[0;34m\u001b[0m\u001b[0;34m\u001b[0m\u001b[0m\n\u001b[1;32m    911\u001b[0m \u001b[0;34m\u001b[0m\u001b[0m\n\u001b[0;32m--> 912\u001b[0;31m     \u001b[0;32mreturn\u001b[0m \u001b[0m_read\u001b[0m\u001b[0;34m(\u001b[0m\u001b[0mfilepath_or_buffer\u001b[0m\u001b[0;34m,\u001b[0m \u001b[0mkwds\u001b[0m\u001b[0;34m)\u001b[0m\u001b[0;34m\u001b[0m\u001b[0;34m\u001b[0m\u001b[0m\n\u001b[0m\u001b[1;32m    913\u001b[0m \u001b[0;34m\u001b[0m\u001b[0m\n\u001b[1;32m    914\u001b[0m \u001b[0;34m\u001b[0m\u001b[0m\n",
      "\u001b[0;32m/opt/conda/lib/python3.8/site-packages/pandas/io/parsers/readers.py\u001b[0m in \u001b[0;36m_read\u001b[0;34m(filepath_or_buffer, kwds)\u001b[0m\n\u001b[1;32m    575\u001b[0m \u001b[0;34m\u001b[0m\u001b[0m\n\u001b[1;32m    576\u001b[0m     \u001b[0;31m# Create the parser.\u001b[0m\u001b[0;34m\u001b[0m\u001b[0;34m\u001b[0m\u001b[0;34m\u001b[0m\u001b[0m\n\u001b[0;32m--> 577\u001b[0;31m     \u001b[0mparser\u001b[0m \u001b[0;34m=\u001b[0m \u001b[0mTextFileReader\u001b[0m\u001b[0;34m(\u001b[0m\u001b[0mfilepath_or_buffer\u001b[0m\u001b[0;34m,\u001b[0m \u001b[0;34m**\u001b[0m\u001b[0mkwds\u001b[0m\u001b[0;34m)\u001b[0m\u001b[0;34m\u001b[0m\u001b[0;34m\u001b[0m\u001b[0m\n\u001b[0m\u001b[1;32m    578\u001b[0m \u001b[0;34m\u001b[0m\u001b[0m\n\u001b[1;32m    579\u001b[0m     \u001b[0;32mif\u001b[0m \u001b[0mchunksize\u001b[0m \u001b[0;32mor\u001b[0m \u001b[0miterator\u001b[0m\u001b[0;34m:\u001b[0m\u001b[0;34m\u001b[0m\u001b[0;34m\u001b[0m\u001b[0m\n",
      "\u001b[0;32m/opt/conda/lib/python3.8/site-packages/pandas/io/parsers/readers.py\u001b[0m in \u001b[0;36m__init__\u001b[0;34m(self, f, engine, **kwds)\u001b[0m\n\u001b[1;32m   1405\u001b[0m \u001b[0;34m\u001b[0m\u001b[0m\n\u001b[1;32m   1406\u001b[0m         \u001b[0mself\u001b[0m\u001b[0;34m.\u001b[0m\u001b[0mhandles\u001b[0m\u001b[0;34m:\u001b[0m \u001b[0mIOHandles\u001b[0m \u001b[0;34m|\u001b[0m \u001b[0;32mNone\u001b[0m \u001b[0;34m=\u001b[0m \u001b[0;32mNone\u001b[0m\u001b[0;34m\u001b[0m\u001b[0;34m\u001b[0m\u001b[0m\n\u001b[0;32m-> 1407\u001b[0;31m         \u001b[0mself\u001b[0m\u001b[0;34m.\u001b[0m\u001b[0m_engine\u001b[0m \u001b[0;34m=\u001b[0m \u001b[0mself\u001b[0m\u001b[0;34m.\u001b[0m\u001b[0m_make_engine\u001b[0m\u001b[0;34m(\u001b[0m\u001b[0mf\u001b[0m\u001b[0;34m,\u001b[0m \u001b[0mself\u001b[0m\u001b[0;34m.\u001b[0m\u001b[0mengine\u001b[0m\u001b[0;34m)\u001b[0m\u001b[0;34m\u001b[0m\u001b[0;34m\u001b[0m\u001b[0m\n\u001b[0m\u001b[1;32m   1408\u001b[0m \u001b[0;34m\u001b[0m\u001b[0m\n\u001b[1;32m   1409\u001b[0m     \u001b[0;32mdef\u001b[0m \u001b[0mclose\u001b[0m\u001b[0;34m(\u001b[0m\u001b[0mself\u001b[0m\u001b[0;34m)\u001b[0m \u001b[0;34m->\u001b[0m \u001b[0;32mNone\u001b[0m\u001b[0;34m:\u001b[0m\u001b[0;34m\u001b[0m\u001b[0;34m\u001b[0m\u001b[0m\n",
      "\u001b[0;32m/opt/conda/lib/python3.8/site-packages/pandas/io/parsers/readers.py\u001b[0m in \u001b[0;36m_make_engine\u001b[0;34m(self, f, engine)\u001b[0m\n\u001b[1;32m   1659\u001b[0m                 \u001b[0;32mif\u001b[0m \u001b[0;34m\"b\"\u001b[0m \u001b[0;32mnot\u001b[0m \u001b[0;32min\u001b[0m \u001b[0mmode\u001b[0m\u001b[0;34m:\u001b[0m\u001b[0;34m\u001b[0m\u001b[0;34m\u001b[0m\u001b[0m\n\u001b[1;32m   1660\u001b[0m                     \u001b[0mmode\u001b[0m \u001b[0;34m+=\u001b[0m \u001b[0;34m\"b\"\u001b[0m\u001b[0;34m\u001b[0m\u001b[0;34m\u001b[0m\u001b[0m\n\u001b[0;32m-> 1661\u001b[0;31m             self.handles = get_handle(\n\u001b[0m\u001b[1;32m   1662\u001b[0m                 \u001b[0mf\u001b[0m\u001b[0;34m,\u001b[0m\u001b[0;34m\u001b[0m\u001b[0;34m\u001b[0m\u001b[0m\n\u001b[1;32m   1663\u001b[0m                 \u001b[0mmode\u001b[0m\u001b[0;34m,\u001b[0m\u001b[0;34m\u001b[0m\u001b[0;34m\u001b[0m\u001b[0m\n",
      "\u001b[0;32m/opt/conda/lib/python3.8/site-packages/pandas/io/common.py\u001b[0m in \u001b[0;36mget_handle\u001b[0;34m(path_or_buf, mode, encoding, compression, memory_map, is_text, errors, storage_options)\u001b[0m\n\u001b[1;32m    857\u001b[0m         \u001b[0;32mif\u001b[0m \u001b[0mioargs\u001b[0m\u001b[0;34m.\u001b[0m\u001b[0mencoding\u001b[0m \u001b[0;32mand\u001b[0m \u001b[0;34m\"b\"\u001b[0m \u001b[0;32mnot\u001b[0m \u001b[0;32min\u001b[0m \u001b[0mioargs\u001b[0m\u001b[0;34m.\u001b[0m\u001b[0mmode\u001b[0m\u001b[0;34m:\u001b[0m\u001b[0;34m\u001b[0m\u001b[0;34m\u001b[0m\u001b[0m\n\u001b[1;32m    858\u001b[0m             \u001b[0;31m# Encoding\u001b[0m\u001b[0;34m\u001b[0m\u001b[0;34m\u001b[0m\u001b[0;34m\u001b[0m\u001b[0m\n\u001b[0;32m--> 859\u001b[0;31m             handle = open(\n\u001b[0m\u001b[1;32m    860\u001b[0m                 \u001b[0mhandle\u001b[0m\u001b[0;34m,\u001b[0m\u001b[0;34m\u001b[0m\u001b[0;34m\u001b[0m\u001b[0m\n\u001b[1;32m    861\u001b[0m                 \u001b[0mioargs\u001b[0m\u001b[0;34m.\u001b[0m\u001b[0mmode\u001b[0m\u001b[0;34m,\u001b[0m\u001b[0;34m\u001b[0m\u001b[0;34m\u001b[0m\u001b[0m\n",
      "\u001b[0;31mFileNotFoundError\u001b[0m: [Errno 2] No such file or directory: '/opt/ml/wine/data/inter_sample.csv'"
     ]
    }
   ],
   "source": [
    "inter = pd.read_csv('/opt/ml/wine/data/inter_sample.csv', \n",
    "                                    encoding='utf-8-sig',\n",
    "                                    usecols = ['email','rating','timestamp','wine_id'])\n",
    "\n",
    "inter = inter.dropna(subset=['wine_id'], axis=0)\n",
    "inter['wine_id'] = inter['wine_id'].astype(int).astype('category')\n",
    "inter = inter[inter['wine_id'].isin(item_data['wine_id'])]\n",
    "inter = data_to_normal(inter,'email','timestamp','rating','wine_id')\n",
    "users = inter['email'].unique()\n",
    "user2idx = {feature: index for index, feature in enumerate(users)}\n",
    "idx2user = {index: feature for index, feature in enumerate(users)}"
   ]
  },
  {
   "cell_type": "code",
   "execution_count": null,
   "id": "fd0b0b2e",
   "metadata": {},
   "outputs": [],
   "source": [
    "col_to_use = ['wine_id', 'price', 'winetype', 'country', 'Red Fruit', 'Tropical', 'Tree Fruit', 'Oaky', 'Ageing', 'Black Fruit', 'Citrus', 'Dried Fruit', 'Earthy', 'Floral', 'Microbio', 'Spices', 'Vegetal', 'Light', 'Bold', 'Smooth', 'Tannic', 'Dry', 'Sweet', 'Soft', 'Acidic', 'Fizzy', 'Gentle']\n",
    "\n",
    "inter = pd.merge(inter, item_data.loc[:, col_to_use], on='wine_id', how='inner')\n",
    "\n",
    "# Group by 'email' and calculate the count of 'wine_id', mean of 'rating' and mean of other columns\n",
    "user_data = inter.groupby('email').agg({'wine_id': 'count',\n",
    "                                        'scaled_rating': 'mean',\n",
    "                                        'price': 'mean',\n",
    "                                        'Red Fruit': 'mean',\n",
    "                                        'Tropical': 'mean',\n",
    "                                        'Tree Fruit': 'mean',\n",
    "                                        'Oaky': 'mean',\n",
    "                                        'Ageing': 'mean',\n",
    "                                        'Black Fruit': 'mean',\n",
    "                                        'Citrus': 'mean',\n",
    "                                        'Dried Fruit': 'mean',\n",
    "                                        'Earthy': 'mean',\n",
    "                                        'Floral': 'mean',\n",
    "                                        'Microbio': 'mean',\n",
    "                                        'Spices': 'mean',\n",
    "                                        'Vegetal': 'mean',\n",
    "                                        'Light': 'mean',\n",
    "                                        'Bold': 'mean',\n",
    "                                        'Smooth': 'mean',\n",
    "                                        'Tannic': 'mean',\n",
    "                                        'Dry': 'mean',\n",
    "                                        'Sweet': 'mean',\n",
    "                                        'Soft': 'mean',\n",
    "                                        'Acidic': 'mean',\n",
    "                                        'Fizzy': 'mean',\n",
    "                                        'Gentle': 'mean'}).sort_values(by='wine_id', ascending=False)\n"
   ]
  },
  {
   "cell_type": "code",
   "execution_count": null,
   "id": "2266f9a8",
   "metadata": {},
   "outputs": [],
   "source": [
    "heavy_user_rating_correlation = user_data['wine_id'].corr(user_data['rating'])\n",
    "heavy_user_price_correlation = user_data['wine_id'].corr(user_data['price'])\n"
   ]
  },
  {
   "cell_type": "code",
   "execution_count": null,
   "id": "7212211c",
   "metadata": {},
   "outputs": [],
   "source": [
    "user_data_except_1 = user_data[user_data['wine_id'] > 2]"
   ]
  },
  {
   "cell_type": "code",
   "execution_count": null,
   "id": "6f5867f4",
   "metadata": {},
   "outputs": [],
   "source": [
    "user_data_except_1.describe()"
   ]
  },
  {
   "cell_type": "code",
   "execution_count": null,
   "id": "9adb0eac",
   "metadata": {},
   "outputs": [],
   "source": [
    "heavy_user_rating_correlation = user_data_except_1['wine_id'].corr(user_data_except_1['rating'])\n",
    "heavy_user_price_correlation = user_data_except_1['wine_id'].corr(user_data_except_1['price'])\n",
    "print(heavy_user_price_correlation, heavy_user_rating_correlation)"
   ]
  },
  {
   "cell_type": "code",
   "execution_count": null,
   "id": "6a208c2b",
   "metadata": {},
   "outputs": [],
   "source": [
    "custom_bins = [0, 5, 10, 50, 100, 200, 500, 1000, float('inf')]\n",
    "custom_labels = ['0-5', '5-10', '10-50', '50-100', '100-200', '200-500', '500-1000', '1000+']\n",
    "# Create a new column in the DataFrame with the custom bins\n",
    "user_data['vote_bins'] =pd.cut(user_data['wine_id'], bins=custom_bins, labels=custom_labels, right=False)\n",
    "\n",
    "# Group the data by the custom bins and get the frequency count for each bin\n",
    "bin_counts = user_data['vote_bins'].value_counts().sort_index()\n",
    "\n",
    "# Create a bar plot to visualize the frequency distribution\n",
    "plt.bar(bin_counts.index, bin_counts.values)\n",
    "\n",
    "# Set labels and title\n",
    "plt.xlabel('Number of Votes')\n",
    "plt.ylabel('Frequency')\n",
    "plt.title('Frequency Distribution of Number of Votes')\n",
    "\n",
    "# Show the plot\n",
    "plt.show()"
   ]
  },
  {
   "cell_type": "code",
   "execution_count": null,
   "id": "bbcf5317",
   "metadata": {},
   "outputs": [],
   "source": [
    "user_data['vote_bins'].value_counts()"
   ]
  },
  {
   "cell_type": "code",
   "execution_count": null,
   "id": "fab291b5",
   "metadata": {},
   "outputs": [],
   "source": [
    "heavy_user = user_data[user_data['wine_id'] >= 50 ]\n",
    "medium_user = user_data[(user_data['wine_id'] >= 10) & (user_data['wine_id'] < 50)]\n",
    "light_user = user_data[user_data['wine_id'] < 10]"
   ]
  },
  {
   "cell_type": "code",
   "execution_count": null,
   "id": "0c535daa",
   "metadata": {},
   "outputs": [],
   "source": [
    "heavy_user_set = set(list(heavy_user.index))\n",
    "medium_user_set = set(list(medium_user.index))\n",
    "light_user_set = set(list(light_user.index))"
   ]
  },
  {
   "cell_type": "code",
   "execution_count": null,
   "id": "94e10865",
   "metadata": {},
   "outputs": [],
   "source": [
    "heavys_inter = inter[inter['email'].isin(heavy_user_set)]\n",
    "mediums_inter = inter[inter['email'].isin(medium_user_set)]\n",
    "lights_inter = inter[inter['email'].isin(light_user_set)]"
   ]
  },
  {
   "cell_type": "code",
   "execution_count": null,
   "id": "24a3589b",
   "metadata": {},
   "outputs": [],
   "source": [
    "def get_item_report(inter_df):\n",
    "    country_df = inter_df.groupby('country').agg({\n",
    "    'price': 'mean',\n",
    "    'wine_id': 'count',\n",
    "    'scaled_rating':'mean',\n",
    "    'Red Fruit': 'mean',\n",
    "    'Tropical': 'mean',\n",
    "    'Tree Fruit': 'mean',\n",
    "    'Oaky': 'mean',\n",
    "    'Ageing': 'mean',\n",
    "    'Black Fruit': 'mean',\n",
    "    'Citrus': 'mean',\n",
    "    'Dried Fruit': 'mean',\n",
    "    'Earthy': 'mean',\n",
    "    'Floral': 'mean',\n",
    "    'Microbio': 'mean',\n",
    "    'Spices': 'mean',\n",
    "    'Vegetal': 'mean',\n",
    "    'Light': 'mean',\n",
    "    'Bold': 'mean',\n",
    "    'Smooth': 'mean',\n",
    "    'Tannic': 'mean',\n",
    "    'Dry': 'mean',\n",
    "    'Sweet': 'mean',\n",
    "    'Soft': 'mean',\n",
    "    'Acidic': 'mean',\n",
    "    'Fizzy': 'mean',\n",
    "    'Gentle': 'mean'\n",
    "    })\n",
    "    country_df = country_df[country_df['wine_id'].notna()]\n",
    "    total = country_df['wine_id'].sum()\n",
    "    country_df['wine_id'] = country_df['wine_id'].apply(lambda x: x/total * 100)\n",
    "    country_df = country_df[country_df['wine_id'] > 1]\n",
    "    country_df = country_df.sort_values(by = 'wine_id', ascending = False)\n",
    "    country_df = country_df.rename(columns = {'wine_id':'percentage'})\n",
    "\n",
    "    winetype_df = inter_df.groupby('winetype').agg({\n",
    "    'price': 'mean',\n",
    "    'wine_id': 'count',\n",
    "    'scaled_rating':'mean',\n",
    "    'Red Fruit': 'mean',\n",
    "    'Tropical': 'mean',\n",
    "    'Tree Fruit': 'mean',\n",
    "    'Oaky': 'mean',\n",
    "    'Ageing': 'mean',\n",
    "    'Black Fruit': 'mean',\n",
    "    'Citrus': 'mean',\n",
    "    'Dried Fruit': 'mean',\n",
    "    'Earthy': 'mean',\n",
    "    'Floral': 'mean',\n",
    "    'Microbio': 'mean',\n",
    "    'Spices': 'mean',\n",
    "    'Vegetal': 'mean',\n",
    "    'Light': 'mean',\n",
    "    'Bold': 'mean',\n",
    "    'Smooth': 'mean',\n",
    "    'Tannic': 'mean',\n",
    "    'Dry': 'mean',\n",
    "    'Sweet': 'mean',\n",
    "    'Soft': 'mean',\n",
    "    'Acidic': 'mean',\n",
    "    'Fizzy': 'mean',\n",
    "    'Gentle': 'mean'\n",
    "    })\n",
    "    winetype_df = winetype_df[winetype_df['wine_id'].notna()]\n",
    "    total = winetype_df['wine_id'].sum()\n",
    "    winetype_df['wine_id'] = winetype_df['wine_id'].apply(lambda x: x/total * 100)\n",
    "    winetype_df = winetype_df[winetype_df['wine_id'] > 1]\n",
    "    winetype_df = winetype_df.sort_values(by = 'wine_id', ascending = False)\n",
    "    winetype_df = winetype_df.rename(columns = {'wine_id':'percentage'})\n",
    "    return country_df.round(2), winetype_df.round(2)\n"
   ]
  },
  {
   "cell_type": "code",
   "execution_count": null,
   "id": "a230710e",
   "metadata": {},
   "outputs": [],
   "source": [
    "inter_rose = inter[inter['winetype'] == 'roswine']"
   ]
  },
  {
   "cell_type": "code",
   "execution_count": null,
   "id": "181c5f45",
   "metadata": {},
   "outputs": [],
   "source": [
    "\n",
    "# price_series의 히스토그램 그리기\n",
    "plt.hist(inter_rose['price'], bins=10, alpha=0.5, color='blue')\n",
    "plt.title('Histogram of Price')\n",
    "plt.xlabel('Price')\n",
    "plt.ylabel('Frequency')\n",
    "plt.show()"
   ]
  },
  {
   "cell_type": "code",
   "execution_count": null,
   "id": "fb0ffb5e",
   "metadata": {},
   "outputs": [],
   "source": [
    "heavys_inter.groupby('winetype').agg({'price':'mean',\n",
    "                                      'scaled_rating':'mean'})"
   ]
  },
  {
   "cell_type": "code",
   "execution_count": null,
   "id": "70fbd3d9",
   "metadata": {},
   "outputs": [],
   "source": [
    "heavys_inter.groupby('winetype').agg({'price':'std'})"
   ]
  },
  {
   "cell_type": "code",
   "execution_count": null,
   "id": "6b56e8bc",
   "metadata": {},
   "outputs": [],
   "source": [
    "heavy_report = heavys_inter.groupby('country').agg({'price':'mean',\n",
    "                                     'wine_id':'count',\n",
    "                                      'scaled_rating':'mean'})\n",
    "heavy_report = heavy_report[heavy_report['wine_id'].notna()]\n",
    "total = heavy_report['wine_id'].sum()\n",
    "heavy_report['wine_id'] = heavy_report['wine_id'].apply(lambda x: x/total * 100)\n",
    "heavy_report = heavy_report[heavy_report['wine_id'] > 1]\n",
    "heavy_report = heavy_report.sort_values(by = 'wine_id', ascending = False)\n",
    "heavy_report = heavy_report.rename(columns = {'wine_id':'percentage'})\n",
    "heavy_report"
   ]
  },
  {
   "cell_type": "code",
   "execution_count": null,
   "id": "576f5ae0",
   "metadata": {},
   "outputs": [],
   "source": [
    "mediums_inter.groupby('winetype').agg({'price':'mean',\n",
    "                                      'scaled_rating':'mean'})"
   ]
  },
  {
   "cell_type": "code",
   "execution_count": null,
   "id": "ecbff783",
   "metadata": {},
   "outputs": [],
   "source": [
    "medium_report = mediums_inter.groupby('country').agg({'price':'mean',\n",
    "                                     'wine_id':'count',\n",
    "                                      'scaled_rating':'mean'})\n",
    "medium_report = medium_report[medium_report['wine_id'].notna()]\n",
    "total = medium_report['wine_id'].sum()\n",
    "medium_report['wine_id'] = medium_report['wine_id'].apply(lambda x: x/total * 100)\n",
    "medium_report = medium_report[medium_report['wine_id'] > 1]\n",
    "medium_report = medium_report.sort_values(by = 'wine_id', ascending = False)\n",
    "medium_report = medium_report.rename(columns = {'wine_id':'percentage'})\n",
    "medium_report"
   ]
  },
  {
   "cell_type": "code",
   "execution_count": null,
   "id": "ec95f3cf",
   "metadata": {},
   "outputs": [],
   "source": [
    "lights_inter.groupby('winetype').agg({'price':'mean',\n",
    "                                      'scaled_rating':'mean'})"
   ]
  },
  {
   "cell_type": "code",
   "execution_count": null,
   "id": "b724c836",
   "metadata": {},
   "outputs": [],
   "source": [
    "light_report = lights_inter.groupby('country').agg({'price':'mean',\n",
    "                                     'wine_id':'count',\n",
    "                                      'scaled_rating':'mean'})\n",
    "light_report = light_report[light_report['wine_id'].notna()]\n",
    "total = light_report['wine_id'].sum()\n",
    "light_report['wine_id'] = light_report['wine_id'].apply(lambda x: x/total * 100)\n",
    "light_report = light_report[light_report['wine_id'] > 1]\n",
    "light_report = light_report.sort_values(by = 'wine_id', ascending = False)\n",
    "light_report = light_report.rename(columns = {'wine_id':'percentage'})\n",
    "light_report"
   ]
  },
  {
   "cell_type": "code",
   "execution_count": null,
   "id": "5c265fb5",
   "metadata": {},
   "outputs": [],
   "source": [
    "hvy_country, hvy_winetype = get_item_report(heavys_inter)"
   ]
  },
  {
   "cell_type": "code",
   "execution_count": null,
   "id": "d4f0fac4",
   "metadata": {},
   "outputs": [],
   "source": [
    "med_country, med_winetype = get_item_report(mediums_inter)"
   ]
  },
  {
   "cell_type": "code",
   "execution_count": null,
   "id": "a9ba450c",
   "metadata": {},
   "outputs": [],
   "source": [
    "lgt_country, lgt_winetype = get_item_report(lights_inter)"
   ]
  },
  {
   "cell_type": "code",
   "execution_count": null,
   "id": "36c4be7b",
   "metadata": {},
   "outputs": [],
   "source": [
    "lgt_country.to_csv('/opt/ml/wine/EDA/lgt_country.csv')\n",
    "lgt_winetype.to_csv('/opt/ml/wine/EDA/lgt_winetype.csv')"
   ]
  },
  {
   "cell_type": "code",
   "execution_count": null,
   "id": "26ed7f33",
   "metadata": {},
   "outputs": [],
   "source": [
    "import pandas as pd\n",
    "import seaborn as sns\n",
    "import matplotlib.pyplot as plt\n"
   ]
  },
  {
   "cell_type": "code",
   "execution_count": null,
   "id": "6091ec4f",
   "metadata": {},
   "outputs": [],
   "source": [
    "def get_winetype_corr(inter, user_type):\n",
    "    use_cols = ['Light', 'Bold', 'Smooth', \n",
    "               'Tannic', 'Dry', 'Sweet', \n",
    "               'Soft', 'Acidic','Fizzy', \n",
    "               'Gentle','scaled_rating']\n",
    "    for winetype in inter['winetype'].unique():\n",
    "\n",
    "        winetype_inter = inter[inter['winetype'] == winetype]\n",
    "\n",
    "        correlation_df = winetype_inter.loc[:,use_cols].corr()['scaled_rating']\n",
    "        plt.figure(figsize=(10, 8))\n",
    "        sns.heatmap(correlation_df.to_frame(), annot=True, cmap='coolwarm', fmt='.2f')\n",
    "        plt.title(f\"Correlation Heatmap - {user_type}_{winetype}\")\n",
    "        plt.savefig(f'/opt/ml/wine/EDA/{user_type}_{winetype}_heatmap.png')"
   ]
  },
  {
   "cell_type": "code",
   "execution_count": null,
   "id": "746381aa",
   "metadata": {},
   "outputs": [],
   "source": [
    "get_winetype_corr(lights_inter, 'light')"
   ]
  },
  {
   "cell_type": "code",
   "execution_count": null,
   "id": "68c89fbd",
   "metadata": {},
   "outputs": [],
   "source": [
    "hvy_red = heavys_inter[heavys_inter['winetype'] == 'dessertwine']"
   ]
  },
  {
   "cell_type": "code",
   "execution_count": null,
   "id": "07b8225b",
   "metadata": {},
   "outputs": [],
   "source": [
    "hvy_red.loc[:, ['Light', 'Bold', 'Smooth', 'Tannic', 'Dry', 'Sweet', 'Soft', 'Acidic',\n",
    "       'Fizzy', 'Gentle','scaled_rating']].corr()['scaled_rating']"
   ]
  },
  {
   "cell_type": "code",
   "execution_count": null,
   "id": "cdd151f8",
   "metadata": {},
   "outputs": [],
   "source": [
    "def get_corr(df, name):\n",
    "    correlation_df = df.corr()['scaled_rating']\n",
    "    plt.figure(figsize=(10, 8))\n",
    "    sns.heatmap(correlation_df.to_frame(), annot=True, cmap='coolwarm', fmt='.2f')\n",
    "    plt.title(\"Correlation Heatmap - scaled_rating\")\n",
    "    plt.savefig(f'/opt/ml/wine/EDA/{name}_heatmap.png')\n",
    "\n",
    "get_corr(hvy_country, 'hvy_country')\n",
    "get_corr(hvy_winetype, 'hvy_winetype')\n",
    "\n",
    "get_corr(med_country, 'med_country')\n",
    "get_corr(med_winetype, 'med_winetype')\n",
    "\n",
    "get_corr(lgt_country, 'lgt_country')\n",
    "get_corr(lgt_winetype, 'lgt_winetype')"
   ]
  },
  {
   "cell_type": "code",
   "execution_count": null,
   "id": "39f74ecc",
   "metadata": {},
   "outputs": [],
   "source": [
    "heavys_item = heavys_inter.groupby('wine_id').agg({'scaled_rating':'mean'})\n",
    "heavys_item = heavys_item.sort_values(by = 'scaled_rating', ascending= False)\n",
    "\n",
    "mediums_item = mediums_inter.groupby('wine_id').agg({'scaled_rating':'mean'})\n",
    "mediums_item = mediums_item.sort_values(by = 'scaled_rating', ascending= False)\n",
    "\n",
    "lights_item = lights_inter.groupby('wine_id').agg({'scaled_rating':'mean'})\n",
    "lights_item = lights_item.sort_values(by = 'scaled_rating', ascending= False)\n"
   ]
  },
  {
   "cell_type": "code",
   "execution_count": null,
   "id": "1d641553",
   "metadata": {},
   "outputs": [],
   "source": [
    "heavys_items_set = set(heavys_item.index)\n",
    "mediums_items_set = set(mediums_item.index)\n",
    "lights_items_set = set(lights_item.index)\n",
    "\n",
    "common_items = heavys_items_set.intersection(mediums_items_set, lights_items_set)\n",
    "\n",
    "num_common_items = len(common_items)\n",
    "\n",
    "# Calculate the percentage of common items\n",
    "total_unique_items = len(set(list(heavys_item.index) + list(mediums_item.index) + list(lights_item.index)))\n",
    "percentage_common_items = (num_common_items / total_unique_items) * 100\n",
    "\n",
    "print(f\"Number of items common to all three user groups: {num_common_items}\")\n",
    "print(f\"Percentage of items common to all three user groups: {percentage_common_items:.2f}%\")"
   ]
  },
  {
   "cell_type": "code",
   "execution_count": null,
   "id": "45648242",
   "metadata": {},
   "outputs": [],
   "source": [
    "heavy_common = heavys_item.loc[list(common_items)]\n",
    "medium_common = mediums_item.loc[list(common_items)]\n",
    "light_common = lights_item.loc[list(common_items)]"
   ]
  },
  {
   "cell_type": "code",
   "execution_count": null,
   "id": "74b769a1",
   "metadata": {},
   "outputs": [],
   "source": [
    "item_per_user_type = pd.merge(heavy_common, medium_common, on='wine_id', suffixes=('_heavy', '_medium'))\n",
    "item_per_user_type = pd.merge(item_per_user_type, light_common, on='wine_id', suffixes=('', '', '_light'))\n",
    "\n",
    "item_per_user_type.rename(columns={'scaled_rating': 'scaled_rating_light'}, inplace=True)"
   ]
  },
  {
   "cell_type": "code",
   "execution_count": null,
   "id": "a5f2713e",
   "metadata": {},
   "outputs": [],
   "source": [
    "item_per_user_type"
   ]
  },
  {
   "cell_type": "code",
   "execution_count": null,
   "id": "e3211fec",
   "metadata": {},
   "outputs": [],
   "source": [
    "corr_matrix = item_per_user_type.corr()\n",
    "\n",
    "# Plot the heatmap\n",
    "plt.figure(figsize=(8, 6))\n",
    "sns.heatmap(corr_matrix, annot=True, cmap='coolwarm', fmt='.2f', linewidths=0.5)\n",
    "plt.title('Correlation Heatmap of Scaled Ratings for Different User Groups')\n",
    "plt.show()\n"
   ]
  },
  {
   "cell_type": "code",
   "execution_count": null,
   "id": "19b75201",
   "metadata": {},
   "outputs": [],
   "source": [
    "def see_diff(hvy, med, lgt, name_list):\n",
    "    \n",
    "    for name in name_list:\n",
    "        attributes = list(hvy.loc[name].keys())\n",
    "\n",
    "        x = np.arange(len(attributes))  # Create index for the bars\n",
    "        width = 0.2  # Width of the bars\n",
    "\n",
    "        fig, ax = plt.subplots(figsize=(15, 9))\n",
    "        heavy_bars = ax.bar(x - width, list(hvy.loc[name]), width, label='Heavy', alpha=0.8)\n",
    "        medium_bars = ax.bar(x, list(med.loc[name]), width, label='Medium', alpha=0.8)\n",
    "        light_bars = ax.bar(x + width, list(lgt.loc[name]), width, label='Light', alpha=0.8)\n",
    "\n",
    "        # Add labels, title, and legend\n",
    "        ax.set_xlabel('Attributes')\n",
    "        ax.set_ylabel('Values')\n",
    "        ax.set_title(f'Comparison of {name}')\n",
    "        ax.set_xticks(x)\n",
    "        ax.set_xticklabels(attributes, rotation=45)\n",
    "        ax.legend()\n",
    "        \n",
    "        plt.tight_layout()\n",
    "        plt.savefig(f'/opt/ml/wine/EDA/{name}_compare.jpg')\n",
    "        \n",
    "\n",
    "see_diff(hvy_country, med_country, lgt_country, hvy_country.index)\n",
    "    "
   ]
  },
  {
   "cell_type": "code",
   "execution_count": null,
   "id": "3a99e356",
   "metadata": {},
   "outputs": [],
   "source": [
    "see_diff(hvy_winetype, med_winetype, lgt_winetype, hvy_winetype.index)"
   ]
  },
  {
   "cell_type": "code",
   "execution_count": null,
   "id": "42862b84",
   "metadata": {},
   "outputs": [],
   "source": [
    "inter_per_user = inter.groupby('email')['wine_id'].agg(list)"
   ]
  },
  {
   "cell_type": "code",
   "execution_count": null,
   "id": "a0c54bae",
   "metadata": {},
   "outputs": [],
   "source": [
    "inter_per_user['user_100001.0@example.com']"
   ]
  },
  {
   "cell_type": "code",
   "execution_count": null,
   "id": "68f95334",
   "metadata": {},
   "outputs": [],
   "source": [
    "item_data.set_index('wine_id', inplace = True)\n",
    "item_data['wine_id'] = item_data.index\n",
    "item_data['vectors'] = item_data['vectors'].apply(string2array)"
   ]
  },
  {
   "cell_type": "code",
   "execution_count": null,
   "id": "d3f6913c",
   "metadata": {},
   "outputs": [],
   "source": [
    "import numpy as np\n",
    "from sklearn.feature_extraction.text import TfidfVectorizer\n",
    "from sklearn.cluster import KMeans\n",
    "from sklearn.preprocessing import StandardScaler\n",
    "import matplotlib.pyplot as plt\n",
    "import faiss\n",
    "\n",
    "def get_nns(user : str,\n",
    "            inter_per_user : pd.DataFrame,\n",
    "            item_data: pd.DataFrame,\n",
    "            index:faiss.IndexIDMap2,\n",
    "            total_k: int = 15000):\n",
    "    \n",
    "    wine_ids = inter_per_user[user]\n",
    "\n",
    "\n",
    "    vectors = item_data.loc[wine_ids, 'vectors']\n",
    "\n",
    "    vectorizer = TfidfVectorizer(tokenizer=lambda x: x, lowercase=False)\n",
    "    X = vectorizer.fit_transform(vectors).toarray()\n",
    "\n",
    "    # Step 2: Normalize the vectors\n",
    "    scaler = StandardScaler()\n",
    "    X_normalized = scaler.fit_transform(X)\n",
    "\n",
    "    # Determine the optimal number of clusters using the Elbow Method\n",
    "    inertia = []\n",
    "    max_k = len(vectors) if len(vectors) < 12 else 12\n",
    "    k_range = range(1, max_k)  # Test different K values from 1 to 10\n",
    "    for k in tqdm(k_range):\n",
    "        kmeans = KMeans(n_clusters=k, random_state=42)\n",
    "        kmeans.fit(X_normalized)\n",
    "        inertia.append(kmeans.inertia_)\n",
    "\n",
    "    # Determine the optimal K value (Elbow point)\n",
    "    optimal_k = np.argmin(np.diff(inertia)) + 1\n",
    "\n",
    "    # Step 4: Apply K-Means with the optimal K value\n",
    "    kmeans = KMeans(n_clusters=optimal_k, random_state=42)\n",
    "    clusters = kmeans.fit_predict(X_normalized)\n",
    "\n",
    "    mean_vectors = {}\n",
    "    for vector, cluster in zip(vectors, clusters):\n",
    "        if cluster not in vector:\n",
    "            mean_vectors[cluster] = {'count': 1, 'mean': vector}\n",
    "        else:\n",
    "            mean_vectors[cluster]['count'] += 1\n",
    "            mean_vectors[cluster]['mean'] += (vector - mean_vectors[cluster]['mean']) / mean_vectors[cluster]['count']\n",
    "\n",
    "    num_cluster = len(mean_vectors)\n",
    "\n",
    "    k = total_k // num_cluster\n",
    "\n",
    "    result = []\n",
    "    for _, to_search in tqdm(mean_vectors.items()):\n",
    "        # Faiss expects the query vectors to be normalized\n",
    "        to_search  = to_search['mean']\n",
    "        to_search = np.expand_dims(to_search, axis=0)\n",
    "        to_search = np.ascontiguousarray(to_search.astype(np.float32))\n",
    "\n",
    "        distances, searched_wine_ids = index.search(to_search, k=k)\n",
    "\n",
    "        for dis, id in zip(distances[0], searched_wine_ids[0]):\n",
    "            result.append((id, dis))\n",
    "    \n",
    "    result.sort(key = lambda x: x[1])\n",
    "    return result"
   ]
  },
  {
   "cell_type": "code",
   "execution_count": null,
   "id": "ad376e75",
   "metadata": {},
   "outputs": [],
   "source": [
    "inter_per_user = inter.groupby('email')['wine_id'].agg(list)\n",
    "\n",
    "item_data.set_index('wine_id', inplace = True)\n",
    "item_data['wine_id'] = item_data.index\n",
    "item_data['vectors'] = item_data['vectors'].apply(string2array)\n",
    "\n",
    "wine_vectors = []\n",
    "for vector in item_data['vectors']: wine_vectors.append(vector)\n",
    "wine_vectors = np.array(wine_vectors)\n",
    "\n",
    "wine_ids = list(item_data.index) #####wine id \n",
    "vector_dimension = wine_vectors.shape[0]\n",
    "\n",
    "index = faiss.IndexFlatIP(vector_dimension)\n",
    "index = faiss.IndexIDMap2(index)\n",
    "index.add_with_ids(wine_vectors, wine_ids)"
   ]
  },
  {
   "cell_type": "code",
   "execution_count": null,
   "id": "02a72ff0",
   "metadata": {},
   "outputs": [],
   "source": [
    "inter['wine_id'].nunique()"
   ]
  },
  {
   "cell_type": "code",
   "execution_count": null,
   "id": "47c64a99",
   "metadata": {},
   "outputs": [],
   "source": [
    "get_nns(user = 'user_100001.0@example.com', \n",
    "        inter_per_user = inter_per_user,\n",
    "        item_data = item_data,\n",
    "        index = index,\n",
    "        total_k = 15000)"
   ]
  },
  {
   "cell_type": "code",
   "execution_count": null,
   "id": "925e3ae8",
   "metadata": {},
   "outputs": [],
   "source": [
    "item = pd.read_csv('/opt/ml/wine/dataset/train_data/train_data.item', encoding='utf-8-sig', sep = '\\t')"
   ]
  },
  {
   "cell_type": "code",
   "execution_count": null,
   "id": "9f8ea9d2",
   "metadata": {},
   "outputs": [],
   "source": [
    "rv = pd.read_csv('/opt/ml/wine/data/review_df.csv', encoding='utf-8-sig')"
   ]
  },
  {
   "cell_type": "code",
   "execution_count": null,
   "id": "b38929d3",
   "metadata": {},
   "outputs": [],
   "source": [
    "crawl = pd.read_csv('/opt/ml/wine/data/wine_df.csv', encoding = 'utf-8-sig')"
   ]
  },
  {
   "cell_type": "code",
   "execution_count": null,
   "id": "b8421ef8",
   "metadata": {},
   "outputs": [],
   "source": [
    "crawl = crawl[crawl['url'].notna()]\n"
   ]
  },
  {
   "cell_type": "code",
   "execution_count": null,
   "id": "ff5dde18",
   "metadata": {},
   "outputs": [],
   "source": [
    "items = list(crawl['url'].unique())\n",
    "items.sort()\n",
    "\n"
   ]
  },
  {
   "cell_type": "code",
   "execution_count": null,
   "id": "2fac6a3d",
   "metadata": {},
   "outputs": [],
   "source": [
    "item2idx = {feature: index for index, feature in enumerate(items)}\n",
    "idx2item = {index: feature for index, feature in enumerate(items)}\n",
    "with open('/opt/ml/wine/code/data/feature_map/item2idx.json','w') as f: json.dump(item2idx,f)\n",
    "with open('/opt/ml/wine/code/data/feature_map/idx2item.json','w') as f: json.dump(idx2item,f)"
   ]
  },
  {
   "cell_type": "code",
   "execution_count": null,
   "id": "45fbbb81",
   "metadata": {},
   "outputs": [],
   "source": [
    "emb = pd.read_csv('/opt/ml/wine/dataset/train_data/train_data.itememb', encoding='utf-8-sig', sep = '\\t')"
   ]
  },
  {
   "cell_type": "code",
   "execution_count": null,
   "id": "aa228b7e",
   "metadata": {},
   "outputs": [],
   "source": []
  },
  {
   "cell_type": "code",
   "execution_count": null,
   "id": "e7d90656",
   "metadata": {},
   "outputs": [],
   "source": [
    "emb=emb.rename(columns = {'wine_id:token':'wid:token'})"
   ]
  },
  {
   "cell_type": "code",
   "execution_count": null,
   "id": "6daacebc",
   "metadata": {},
   "outputs": [],
   "source": [
    "outpath = f\"/opt/ml/wine/dataset/train_data\"\n",
    "emb.to_csv(os.path.join(outpath,\"train_data.itememb\"),sep='\\t',index=False, encoding='utf-8')"
   ]
  },
  {
   "cell_type": "code",
   "execution_count": null,
   "id": "a77e848f",
   "metadata": {},
   "outputs": [],
   "source": [
    "outpath = f\"/opt/ml/wine/dataset/train_data\"\n",
    "emb.to_csv(os.path.join(outpath,\"train_data.itememb\"),sep='\\t',index=False, encoding='utf-8')"
   ]
  },
  {
   "cell_type": "code",
   "execution_count": null,
   "id": "c5e77043",
   "metadata": {},
   "outputs": [],
   "source": [
    "outpath = f\"/opt/ml/wine/dataset/train_data\"\n",
    "item.to_csv(os.path.join(outpath,\"train_data.item\"),sep='\\t',index=False, encoding='utf-8')"
   ]
  },
  {
   "cell_type": "code",
   "execution_count": null,
   "id": "a48105e8",
   "metadata": {},
   "outputs": [],
   "source": [
    "item_data.to_csv(os.path.join(outpath,\"train_data.item\"),sep='\\t',index=False, encoding='utf-8')"
   ]
  },
  {
   "cell_type": "code",
   "execution_count": null,
   "id": "5b7b2df9",
   "metadata": {},
   "outputs": [],
   "source": [
    "list(item_data[(item_data['price'] > 100) & (item_data['winetype'] == 'dessertwine')]['wine_id'])"
   ]
  },
  {
   "cell_type": "code",
   "execution_count": null,
   "id": "2be39124",
   "metadata": {},
   "outputs": [],
   "source": [
    "item_data = pd.read_csv('/opt/ml/wine/data/item_data_sample.csv', encoding='utf-8-sig')\n",
    "wine_df = pd.read_csv('/opt/ml/wine/data/wine_df.csv', encoding='utf-8-sig')"
   ]
  },
  {
   "cell_type": "code",
   "execution_count": null,
   "id": "35157854",
   "metadata": {},
   "outputs": [],
   "source": [
    "wine_df.drop_duplicates(inplace = True)\n",
    "wine_df = wine_df[wine_df['url'].notna()]"
   ]
  },
  {
   "cell_type": "code",
   "execution_count": null,
   "id": "ce3423a7",
   "metadata": {},
   "outputs": [],
   "source": [
    "for col in wine_df.columns:\n",
    "    if 'Unnamed' in col:\n",
    "        wine_df.drop(col, axis =1, inplace = True)"
   ]
  },
  {
   "cell_type": "code",
   "execution_count": null,
   "id": "93cced3c",
   "metadata": {},
   "outputs": [],
   "source": [
    "\n",
    "\n",
    "count_only_list = [item for item in wine_df.columns if (\"count\" in item) & (item != 'country')]\n",
    "\n",
    "print(count_only_list)\n"
   ]
  },
  {
   "cell_type": "code",
   "execution_count": null,
   "id": "ec5a773a",
   "metadata": {},
   "outputs": [],
   "source": [
    "for col in count_only_list:\n",
    "    wine_df[col.replace('_count','').replace('_',' ')] = wine_df[col]"
   ]
  },
  {
   "cell_type": "code",
   "execution_count": null,
   "id": "7b615887",
   "metadata": {},
   "outputs": [],
   "source": [
    "for col in count_only_list:\n",
    "    wine_df.drop(col, axis=1, inplace = True)"
   ]
  },
  {
   "cell_type": "code",
   "execution_count": null,
   "id": "f66ba827",
   "metadata": {},
   "outputs": [],
   "source": [
    "for col in wine_df.columns:\n",
    "    if '_child' in col: wine_df.drop(col, axis=1, inplace = True)"
   ]
  },
  {
   "cell_type": "code",
   "execution_count": null,
   "id": "6c077993",
   "metadata": {},
   "outputs": [],
   "source": [
    "wine_df.drop(\"None\", axis=1, inplace = True)"
   ]
  },
  {
   "cell_type": "code",
   "execution_count": null,
   "id": "c69a2123",
   "metadata": {},
   "outputs": [],
   "source": [
    "notes_col = 'Red Fruit','Tropical', 'Tree Fruit', 'Oaky', 'Ageing', 'Black Fruit', 'Citrus','Dried Fruit', 'Earthy', 'Floral', 'Microbio', 'Spices', 'Vegetal'\n",
    "wine_df.loc[:, notes_col] = wine_df.loc[:, notes_col].fillna(0)"
   ]
  },
  {
   "cell_type": "code",
   "execution_count": null,
   "id": "86d24aaf",
   "metadata": {},
   "outputs": [],
   "source": [
    "wine_df['wine_id'] = wine_df['url'].map(item2idx)"
   ]
  },
  {
   "cell_type": "code",
   "execution_count": null,
   "id": "c2577be5",
   "metadata": {},
   "outputs": [],
   "source": [
    "basic_info = pd.read_csv('/opt/ml/wine/data/basic_info_total.csv', encoding='utf-8-sig')\n",
    "pallete = pd.read_csv('/opt/ml/wine/data/wine_pallete_df.csv', encoding='utf-8-sig')"
   ]
  },
  {
   "cell_type": "code",
   "execution_count": null,
   "id": "a4f5ffd2",
   "metadata": {},
   "outputs": [],
   "source": [
    "basic_info['wine_id'] = basic_info['url'].map(item2idx)\n",
    "basic_info = basic_info[basic_info['wine_id'].notna()]"
   ]
  },
  {
   "cell_type": "code",
   "execution_count": null,
   "id": "d1f8e7e3",
   "metadata": {},
   "outputs": [],
   "source": [
    "pallete['wine_id'] = pallete['url'].map(item2idx)\n",
    "pallete = pallete[pallete['wine_id'].notna()]"
   ]
  },
  {
   "cell_type": "code",
   "execution_count": null,
   "id": "5a7b86b2",
   "metadata": {},
   "outputs": [],
   "source": [
    "pallete.fillna(0, inplace= True)"
   ]
  },
  {
   "cell_type": "code",
   "execution_count": null,
   "id": "150b3e85",
   "metadata": {},
   "outputs": [],
   "source": [
    "pallete['wine_id'] = pallete['wine_id'].astype(int).astype('category')\n",
    "basic_info['wine_id'] = basic_info['wine_id'].astype(int).astype('category')\n",
    "wine_df['wine_id'] = wine_df['wine_id'].astype(int).astype('category')"
   ]
  },
  {
   "cell_type": "code",
   "execution_count": null,
   "id": "6433fb87",
   "metadata": {},
   "outputs": [],
   "source": [
    "pallete.drop('url',axis = 1, inplace = True)\n",
    "basic_info.drop('url',axis = 1, inplace = True)"
   ]
  },
  {
   "cell_type": "code",
   "execution_count": null,
   "id": "319499f2",
   "metadata": {},
   "outputs": [],
   "source": [
    "basic_info['grapes'].fillna('[]', inplace = True)"
   ]
  },
  {
   "cell_type": "code",
   "execution_count": null,
   "id": "b59055ec",
   "metadata": {},
   "outputs": [],
   "source": [
    "wine_df['region1'] = wine_df['region']"
   ]
  },
  {
   "cell_type": "code",
   "execution_count": null,
   "id": "19bbe60f",
   "metadata": {},
   "outputs": [],
   "source": [
    "wine_df['region2'] = None\n",
    "\n",
    "wine_df['region3'] = None\n",
    "wine_df['region4'] = None\n",
    "wine_df['region5'] = None\n",
    "wine_df['wine style'] = None\n",
    "wine_df['alcohol content'] = None\n",
    "wine_df['allergens'] = None"
   ]
  },
  {
   "cell_type": "code",
   "execution_count": null,
   "id": "92f9f306",
   "metadata": {},
   "outputs": [],
   "source": [
    "wine_df.drop(['grape','region'], axis = 1, inplace= True)"
   ]
  },
  {
   "cell_type": "code",
   "execution_count": null,
   "id": "a585e8ff",
   "metadata": {},
   "outputs": [],
   "source": [
    "wine_df.set_index('wine_id', inplace= True)\n",
    "basic_info.set_index('wine_id', inplace= True)"
   ]
  },
  {
   "cell_type": "code",
   "execution_count": null,
   "id": "cf5df1a4",
   "metadata": {},
   "outputs": [],
   "source": [
    "fill_col = ['winery', 'grapes', 'country', 'region1', 'region2', 'region3',\n",
    "       'wine style', 'allergens', 'alcohol content', 'region4','region5']\n",
    "for id in tqdm(wine_df.index):\n",
    "    for col in fill_col:\n",
    "        if col == 'grapes':\n",
    "            if id in basic_info.index:\n",
    "                wine_df.loc[id, 'grape'] = basic_info.loc[id, 'grapes']\n",
    "            else: wine_df.loc[id, 'grape'] = '[]'\n",
    "    \n",
    "        elif (wine_df.loc[id, col] is None) & (id in basic_info.index):\n",
    "            wine_df.loc[id, col] = basic_info.loc[id, col]\n"
   ]
  },
  {
   "cell_type": "code",
   "execution_count": null,
   "id": "868a1469",
   "metadata": {},
   "outputs": [],
   "source": [
    "wine_df['grape_detail'] = wine_df['grape']"
   ]
  },
  {
   "cell_type": "code",
   "execution_count": null,
   "id": "442e82bf",
   "metadata": {},
   "outputs": [],
   "source": [
    "import ast\n",
    "wine_df['grape'] = wine_df['grape'].apply(ast.literal_eval)"
   ]
  },
  {
   "cell_type": "code",
   "execution_count": null,
   "id": "f3b0420d",
   "metadata": {},
   "outputs": [],
   "source": [
    "wine_df['grape_detail'] = wine_df['grape_detail'].apply(ast.literal_eval)"
   ]
  },
  {
   "cell_type": "code",
   "execution_count": null,
   "id": "07691eca",
   "metadata": {},
   "outputs": [],
   "source": [
    "import re\n",
    "def remove_non_english_chars(text):\n",
    "    # 정규 표현식으로 영어 이외의 모든 문자(공백 문자 제외) 제거\n",
    "    text = text.replace('_',' ')\n",
    "    cleaned_text = re.sub(r'[^a-zA-Z ]', '', text)\n",
    "    return cleaned_text\n",
    "\n",
    "def regex_in_list(input_list):\n",
    "    return [remove_non_english_chars(x).lower() for x in input_list]\n",
    "\n",
    "wine_df['grape'] = wine_df['grape_detail'].apply(regex_in_list)"
   ]
  },
  {
   "cell_type": "code",
   "execution_count": null,
   "id": "565eb3f6",
   "metadata": {},
   "outputs": [],
   "source": [
    "\n",
    "wine_df_pallete  = pd.merge(wine_df, pallete, on = 'wine_id', how = 'left')"
   ]
  },
  {
   "cell_type": "code",
   "execution_count": null,
   "id": "692a00e5",
   "metadata": {},
   "outputs": [],
   "source": [
    "pallete_col = ['Light', 'Bold', 'Smooth', 'Tannic', 'Dry', 'Sweet', 'Soft', 'Acidic','Fizzy', 'Gentle']\n",
    "for col in pallete_col:\n",
    "    wine_df_pallete.loc[:,col].fillna(0, inplace =True)"
   ]
  },
  {
   "cell_type": "code",
   "execution_count": null,
   "id": "69903c8b",
   "metadata": {},
   "outputs": [],
   "source": [
    "wine_df_pallete.to_csv('/opt/ml/wine/data/item_data_final.csv', index = False, encoding = 'utf-8-sig')"
   ]
  },
  {
   "cell_type": "code",
   "execution_count": null,
   "id": "46295bb2",
   "metadata": {},
   "outputs": [],
   "source": [
    "review_df = pd.read_csv('/opt/ml/wine/data/review_df_total.csv',encoding='utf-8-sig',\n",
    "                        usecols=lambda col: col != 'text')\n"
   ]
  },
  {
   "cell_type": "code",
   "execution_count": null,
   "id": "60c047a2",
   "metadata": {},
   "outputs": [],
   "source": [
    "with open('/opt/ml/wine/code/data/feature_map/item2idx.json','r') as f:\n",
    "    item2idx = json.load(f)"
   ]
  },
  {
   "cell_type": "code",
   "execution_count": null,
   "id": "4ab2738d",
   "metadata": {},
   "outputs": [],
   "source": [
    "review_df['wine_id'] = review_df['wine_url'].map(item2idx)"
   ]
  },
  {
   "cell_type": "code",
   "execution_count": null,
   "id": "a9ce3723",
   "metadata": {},
   "outputs": [],
   "source": [
    "from datetime import datetime\n",
    "def date_to_int(x):\n",
    "    try:\n",
    "        date_object = datetime.strptime(x, \"%b %d, %Y\")\n",
    "\n",
    "        timestamp = int(date_object.timestamp())\n",
    "        return timestamp\n",
    "    except: return None\n",
    "\n",
    "    \n",
    "\n"
   ]
  },
  {
   "cell_type": "code",
   "execution_count": null,
   "id": "b1cc9ee9",
   "metadata": {},
   "outputs": [],
   "source": [
    "review_df['timestamp'] = review_df['date'].apply(date_to_int)"
   ]
  },
  {
   "cell_type": "code",
   "execution_count": null,
   "id": "755fa821",
   "metadata": {},
   "outputs": [],
   "source": [
    "review_df['wine_id'] = review_df['wine_id'].astype(int).astype('category')"
   ]
  },
  {
   "cell_type": "code",
   "execution_count": null,
   "id": "0727de5b",
   "metadata": {},
   "outputs": [],
   "source": [
    "review_df = review_df[review_df['user_url'].notna()]"
   ]
  },
  {
   "cell_type": "code",
   "execution_count": null,
   "id": "63d625e0",
   "metadata": {},
   "outputs": [],
   "source": [
    "user2idx = {feature: index for index, feature in enumerate(users)}\n",
    "idx2user = {index: feature for index, feature in enumerate(users)}"
   ]
  },
  {
   "cell_type": "code",
   "execution_count": null,
   "id": "2dd3ab4c",
   "metadata": {},
   "outputs": [],
   "source": [
    "users = set(review_df['user_url'].unique())"
   ]
  },
  {
   "cell_type": "code",
   "execution_count": null,
   "id": "f0b2d053",
   "metadata": {},
   "outputs": [],
   "source": [
    "review_df['email'] = review_df['email'].apply(lambda x: str(x) + \"@example.com\")"
   ]
  },
  {
   "cell_type": "code",
   "execution_count": null,
   "id": "349a40ee",
   "metadata": {},
   "outputs": [],
   "source": [
    "review_df = review_df[review_df['wine_id'].notna()]\n",
    "review_df['wine_id'] = review_df['wine_id'].astype(int).astype('category')"
   ]
  },
  {
   "cell_type": "code",
   "execution_count": 64,
   "id": "bafeaa87",
   "metadata": {},
   "outputs": [],
   "source": [
    "item_data = pd.read_csv('/opt/ml/wine/data/item_data.csv',encoding='utf-8-sig')\n"
   ]
  },
  {
   "cell_type": "code",
   "execution_count": 65,
   "id": "de760c05",
   "metadata": {},
   "outputs": [
    {
     "data": {
      "text/plain": [
       "' 0.2325901836156845'"
      ]
     },
     "execution_count": 65,
     "metadata": {},
     "output_type": "execute_result"
    }
   ],
   "source": [
    "item_data['vectors'][0][-19:]"
   ]
  },
  {
   "cell_type": "code",
   "execution_count": 61,
   "id": "7052a8a0",
   "metadata": {},
   "outputs": [],
   "source": [
    "item_data['vectors'] = item_data['vectors'].apply(string2array)"
   ]
  },
  {
   "cell_type": "code",
   "execution_count": 62,
   "id": "f4c59a2f",
   "metadata": {},
   "outputs": [],
   "source": [
    "wine_vectors = []\n",
    "for vector in item_data['vectors']: wine_vectors.append(vector)\n",
    "wine_vectors = np.array(wine_vectors)"
   ]
  },
  {
   "cell_type": "code",
   "execution_count": 63,
   "id": "a95fc024",
   "metadata": {},
   "outputs": [
    {
     "data": {
      "text/plain": [
       "(71348, 768)"
      ]
     },
     "execution_count": 63,
     "metadata": {},
     "output_type": "execute_result"
    }
   ],
   "source": [
    "wine_vectors.shape"
   ]
  },
  {
   "cell_type": "code",
   "execution_count": null,
   "id": "aaa267dd",
   "metadata": {},
   "outputs": [],
   "source": [
    "review_df.to_csv('/opt/ml/wine/data/inter.csv',index= False, encoding = 'utf-8-sig')"
   ]
  },
  {
   "cell_type": "code",
   "execution_count": null,
   "id": "e224fd7b",
   "metadata": {},
   "outputs": [],
   "source": [
    "sam = pd.read_csv('/opt/ml/wine/Recbole/item_data_js.csv',encoding='utf-8-sig')"
   ]
  },
  {
   "cell_type": "code",
   "execution_count": null,
   "id": "51e0af1f",
   "metadata": {},
   "outputs": [],
   "source": [
    "sam['vectors'] = sam['vectors'].apply(string2array)\n",
    "wine_vectors = []\n",
    "for vector in sam['vectors']: wine_vectors.append(vector)\n",
    "wine_vectors = np.array(wine_vectors)\n"
   ]
  },
  {
   "cell_type": "code",
   "execution_count": 59,
   "id": "82b9af71",
   "metadata": {},
   "outputs": [
    {
     "data": {
      "text/plain": [
       "(5, 512)"
      ]
     },
     "execution_count": 59,
     "metadata": {},
     "output_type": "execute_result"
    }
   ],
   "source": [
    "wine_vectors.shape"
   ]
  },
  {
   "cell_type": "code",
   "execution_count": null,
   "id": "54d8a374",
   "metadata": {},
   "outputs": [],
   "source": []
  }
 ],
 "metadata": {
  "kernelspec": {
   "display_name": "Python 3",
   "language": "python",
   "name": "python3"
  },
  "language_info": {
   "codemirror_mode": {
    "name": "ipython",
    "version": 3
   },
   "file_extension": ".py",
   "mimetype": "text/x-python",
   "name": "python",
   "nbconvert_exporter": "python",
   "pygments_lexer": "ipython3",
   "version": "3.8.5"
  }
 },
 "nbformat": 4,
 "nbformat_minor": 5
}
