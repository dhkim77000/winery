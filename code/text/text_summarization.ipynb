{
 "cells": [
  {
   "cell_type": "code",
   "execution_count": 6,
   "metadata": {},
   "outputs": [],
   "source": [
    "from summarizer import Summarizer,TransformerSummarizer\n",
    "from typing import Union, Tuple, List\n",
    "import numpy as np\n",
    "import random\n",
    "import pandas as pd\n",
    "import torch\n",
    "import numpy as np\n",
    "import random\n",
    "import pandas as pd\n",
    "from datetime import datetime, date\n",
    "from tqdm.notebook import tqdm\n",
    "from tqdm import tqdm\n",
    "# from IPython.display import Image\n",
    "from joblib import Parallel, delayed\n",
    "import re\n",
    "import argparse\n",
    "import gc\n",
    "from datetime import datetime, date\n",
    "from tqdm.notebook import tqdm\n",
    "from tqdm import tqdm\n",
    "# from IPython.display import Image\n",
    "from joblib import Parallel, delayed\n",
    "import json\n",
    "import ast\n"
   ]
  },
  {
   "cell_type": "code",
   "execution_count": 5,
   "metadata": {},
   "outputs": [
    {
     "data": {
      "application/vnd.jupyter.widget-view+json": {
       "model_id": "610d89303e984c15b2f204127aa96140",
       "version_major": 2,
       "version_minor": 0
      },
      "text/plain": [
       "Downloading (…)lve/main/config.json:   0%|          | 0.00/718 [00:00<?, ?B/s]"
      ]
     },
     "metadata": {},
     "output_type": "display_data"
    },
    {
     "data": {
      "application/vnd.jupyter.widget-view+json": {
       "model_id": "ca97a8b524db4b27bd49962e4a0c0aab",
       "version_major": 2,
       "version_minor": 0
      },
      "text/plain": [
       "Downloading model.safetensors:   0%|          | 0.00/1.52G [00:00<?, ?B/s]"
      ]
     },
     "metadata": {},
     "output_type": "display_data"
    },
    {
     "data": {
      "application/vnd.jupyter.widget-view+json": {
       "model_id": "ab096d2a02644faea93f2edc0123c87f",
       "version_major": 2,
       "version_minor": 0
      },
      "text/plain": [
       "Downloading (…)olve/main/vocab.json:   0%|          | 0.00/1.04M [00:00<?, ?B/s]"
      ]
     },
     "metadata": {},
     "output_type": "display_data"
    },
    {
     "data": {
      "application/vnd.jupyter.widget-view+json": {
       "model_id": "ba90372d876942aab00f45795e5a2c0f",
       "version_major": 2,
       "version_minor": 0
      },
      "text/plain": [
       "Downloading (…)olve/main/merges.txt:   0%|          | 0.00/456k [00:00<?, ?B/s]"
      ]
     },
     "metadata": {},
     "output_type": "display_data"
    }
   ],
   "source": [
    "GPT2_model = TransformerSummarizer(transformer_type=\"GPT2\",transformer_model_key=\"gpt2-medium\")\n"
   ]
  },
  {
   "cell_type": "code",
   "execution_count": 7,
   "metadata": {},
   "outputs": [],
   "source": [
    "merged_review = pd.read_csv('/home/dhkim/server_front/winery_AI/winery/data/merged_review.csv')"
   ]
  },
  {
   "cell_type": "code",
   "execution_count": 9,
   "metadata": {},
   "outputs": [
    {
     "data": {
      "text/plain": [
       "'Casual night in, easy drinking cherry juice. Like it, and the price is right., Great I think for a young wine. Heavy and balanced. Surprisingly good. A yes at 14.99., It was a little dry for me perhaps needs maturing., Deep nose in which the oak is perceptible. The wine is light and smooth on the palate. Medium level of tannins. Good table wine. I give it a 3.7., Easy drinking for a Cab, smooth down and light so a good choice for a casual dinner wine., Light nose, peach and mango Initially quite smooth on the palate, a little harsh on the finish. But still very drinkable. Definitely somewhere between 3 and 3.5 stars., Lovely easy drinking res smooth works well chilled.'"
      ]
     },
     "execution_count": 9,
     "metadata": {},
     "output_type": "execute_result"
    }
   ],
   "source": [
    "merged_review['text'][0]"
   ]
  },
  {
   "cell_type": "code",
   "execution_count": 18,
   "metadata": {},
   "outputs": [
    {
     "name": "stdout",
     "output_type": "stream",
     "text": [
      "Great whine, that really opened up after there hours in decanter. A nice story as apparently this is how their wine was made in the XIXth century. Very robust and rich wine, intriguing as difficult to identify. great joy having this palmer 07, super experience mvenpick wine bar., Heres Palmer blended with Hermitage Syrah As was the style in the 19th century. Such elegant bouquet of cassis and blueberr, with touch of pepper. The palate is dense and full bodied with a gentle warmth stemming from the Syrah ., Complex in the mouth with very well balanced body, elegant tannins and long finish. The nosing is still quite Bordeauxish, but body certainly bolder than the usual Palmer. On nose, hint of black fruits, blackberry, cranberry and tobacco aromas. The first hr in this evening, this bottle is still closed, fruit and oak are not fds. Violets, blackberry, blueberry, hazelnut cream, black pepper. Youthful red fruit, excellent bottle drank side by side with 89 Palmer. Interesting nose, blending the spiciness of Rhne with depth of Bordeaux. Decanted at restaurant and enjoyed after a Kosta Brown Pinot. Fruta negra, jamones curados arropados por ciruelas un sueo lquido., unglaublich vielschichtige und komplexe Nase mit roter sowie dunkler Beerenfrucht. Encore jeune pour ce vin, trs fin au nez avec beaucoup de longueur.\n"
     ]
    }
   ],
   "source": [
    "full = ''.join(GPT2_model(merged_review['text'][2], min_length=60, max_length=100))\n",
    "print(full)"
   ]
  },
  {
   "cell_type": "code",
   "execution_count": 13,
   "metadata": {},
   "outputs": [
    {
     "name": "stdout",
     "output_type": "stream",
     "text": [
      "Great summer drinking wine with friends in the backyard on a summer eve\n",
      " Amazing notes fruit particularly sweet berries and melon\n",
      ", Watermelon  peach notes\n",
      " Floral  delicious\n",
      " Recommended\n",
      ", Summer party Ros\n",
      " Exactly what youd expect for this price\n",
      ", Price value of money here\n",
      " Interesting apricot and straw flavor\n",
      ", Interesting flavor profile\n",
      " Wife called it Mandarin oranges\n",
      " Has that odd no sweat, with some apricots as well\n",
      " Full body\n",
      " Little Freezon today\n",
      " Tasty\n",
      ", Clean, fragrant rose, with flower notes\n",
      ", Nice dry fruity light drinkable rose\n",
      ", Great summer drinking wine with friends in the backyard on a summer eve\n",
      " Amazing notes fruit particularly sweet berries and melon\n",
      ", strawberry, watermelon, maybe another stone fruit\n",
      " Quite refreshing chilled and on a cold day\n",
      " Much better than the 1st time I experienced this wine\n",
      " Would make a nice slushy\n",
      ", Raspberry and strawberries on the nose\n",
      " Watermelon Cantaloupe Nice medium to full body\n",
      " Creamy texture, hint of sweetnessfruitiness on the tip of the tongue initially\n",
      " Flavors of Raspberry, watermelon\n",
      " red berry candy finish\n",
      " Some heat on the end\n",
      ", Fragrant nose, some raspberry and strawberry, light acidity on the finish\n",
      "\n"
     ]
    }
   ],
   "source": [
    "for t in merged_review['text'][1].split('.'):\n",
    "    print(t)"
   ]
  },
  {
   "cell_type": "code",
   "execution_count": null,
   "metadata": {},
   "outputs": [],
   "source": []
  }
 ],
 "metadata": {
  "kernelspec": {
   "display_name": "base",
   "language": "python",
   "name": "python3"
  },
  "language_info": {
   "codemirror_mode": {
    "name": "ipython",
    "version": 3
   },
   "file_extension": ".py",
   "mimetype": "text/x-python",
   "name": "python",
   "nbconvert_exporter": "python",
   "pygments_lexer": "ipython3",
   "version": "3.8.5"
  },
  "orig_nbformat": 4
 },
 "nbformat": 4,
 "nbformat_minor": 2
}
