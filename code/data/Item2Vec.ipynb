{
  "cells": [
    {
      "cell_type": "markdown",
      "id": "c26f3f32",
      "metadata": {
        "id": "c26f3f32"
      },
      "source": [
        "# Recommender System - 심화 과제 \\#1 (답안)"
      ]
    },
    {
      "cell_type": "markdown",
      "id": "d383f82d",
      "metadata": {
        "id": "d383f82d"
      },
      "source": [
        "## 개요\n",
        "\n",
        "Item2Vec을 PyTorch로 구현해본다.\n",
        "\n",
        "- Item2Vec에 가장 적합한 데이터는 유저 혹은 세션 단위로 비슷한 의도를 가지고 아이템을 소비한 로그입니다\n",
        "- 무비렌즈 데이터는 Item2Vec을 수행하기에 적합한 데이터는 아니지만 Item2Vec을 통한 연관 추천의 결과가 잘 드러나기 때문에 해당 데이터를 실습으로 사용하겠습니다.\n",
        "\n",
        "\n",
        "- 과제는 **<font color=#5F71F7>과제 HOMEWORK</font>** 라는 키워드로 표시하였습니다.\n",
        "- <code><font color=#007979># FILL HERE : ... #</font></code>라고 쓰여 있는 부분을 채워넣으시면 됩니다.\n",
        "\n",
        "\n",
        "- **그 외의 부분은 따로 건드리지 않으셔도 됩니다.**\n",
        "\n",
        "- **제출은 따로 하지 않습니다.**\n",
        "\n",
        "---"
      ]
    },
    {
      "cell_type": "markdown",
      "id": "b8b1156d",
      "metadata": {
        "id": "b8b1156d"
      },
      "source": [
        "## 0. 전처리\n",
        "\n",
        "### 0.1. 기본 설정"
      ]
    },
    {
      "cell_type": "code",
      "execution_count": 1,
      "id": "c25aad1a",
      "metadata": {
        "id": "c25aad1a"
      },
      "outputs": [],
      "source": [
        "from typing import Union, Tuple, List\n",
        "\n",
        "import numpy as np\n",
        "import random\n",
        "import pandas as pd\n",
        "from datetime import datetime, date\n",
        "from tqdm.notebook import tqdm\n",
        "from sklearn.metrics import log_loss, accuracy_score, precision_score, recall_score\n",
        "from tqdm import tqdm\n",
        "\n",
        "import matplotlib.pyplot as plt\n",
        "# import seaborn as sns\n",
        "%matplotlib inline\n",
        "\n",
        "# from IPython.display import Image\n",
        "\n",
        "import torch\n",
        "import torch.nn as nn\n",
        "from torch.nn.init import normal_\n",
        "from torch.utils.data import TensorDataset, DataLoader"
      ]
    },
    {
      "cell_type": "code",
      "execution_count": null,
      "id": "af48b5b7",
      "metadata": {
        "id": "af48b5b7"
      },
      "outputs": [],
      "source": [
        "###############################################################################\n",
        "# 주어진 결과와 정확히 비교하기 위한 random seed 고정\n",
        "###############################################################################\n",
        "\n",
        "seed = 0  # 바꾸지 마시오!\n",
        "random.seed(seed)\n",
        "np.random.seed(seed)"
      ]
    },
    {
      "cell_type": "markdown",
      "id": "8939e931",
      "metadata": {
        "id": "8939e931"
      },
      "source": [
        "### 0.2. MovieLens 데이터셋 불러오기\n",
        "\n",
        "\n",
        "#### 활용 데이터셋 : MovieLens 100k Dataset\n",
        "\n",
        "- 출처 :\n",
        "    <br>Harper, F. M., & Konstan, J. A. (2015). **The MovieLens Datasets: History and Context.** ACM Transactions on Interactive Intelligent Systems (TIIS), 5(4), 1-19. http://dx.doi.org/10.1145/2827872\n",
        "    \n",
        "    \n",
        "- 본 데이터셋은 직접 GroupLens 측을 통해 Naver Boostcamp RecSys 강좌 내에서 활용 및 재배포를 허가받은 데이터셋입니다.\n",
        "    <br> 과제 외의 목적으로 이용하고자 할 경우 [원시 데이터](https://grouplens.org/datasets/movielens/)를 직접 다운받아 사용하시기 바랍니다.\n",
        "    <br> ( 각 데이터셋에 대한 README.txt 파일을 통해 라이센스 정보를 확인하실 수 있습니다. )"
      ]
    },
    {
      "cell_type": "code",
      "execution_count": null,
      "id": "292c72e4",
      "metadata": {
        "id": "292c72e4"
      },
      "outputs": [],
      "source": [
        "import os"
      ]
    },
    {
      "cell_type": "code",
      "execution_count": 9,
      "id": "d3fb86dd",
      "metadata": {
        "id": "d3fb86dd"
      },
      "outputs": [],
      "source": [
        "# 평점 데이터\n",
        "ratings_df = pd.read_csv('/home/dhkim/winery/dataset/train_data/train_data.inter', sep='\\t', encoding='utf-8')\n",
        "\n",
        "# 영화 데이터\n",
        "items_df = pd.read_csv('/home/dhkim/winery/dataset/train_data/train_data.item', sep='\\t', encoding='utf-8')\n"
      ]
    },
    {
      "cell_type": "code",
      "execution_count": 10,
      "id": "2010174f",
      "metadata": {
        "id": "2010174f"
      },
      "outputs": [],
      "source": [
        "items_df['item_id:token'] = items_df['item_id:token'] - 1"
      ]
    },
    {
      "cell_type": "code",
      "execution_count": 12,
      "id": "7d7e6286",
      "metadata": {
        "id": "7d7e6286"
      },
      "outputs": [],
      "source": [
        "from sklearn.model_selection import train_test_split\n",
        "\n",
        "ratings_df['liked'] = np.where(ratings_df['user_rating:float'] >= 4, 1, 0)\n",
        "ratings_df['item_id:token'] = ratings_df['item_id:token'] - 1\n",
        "ratings_df['user_id:token'] = ratings_df['user_id:token'] - 1\n"
      ]
    },
    {
      "cell_type": "markdown",
      "id": "02e6eb74",
      "metadata": {
        "id": "02e6eb74"
      },
      "source": [
        "### 0.3. MovieLens 데이터에서 positive sample 뽑기"
      ]
    },
    {
      "cell_type": "code",
      "execution_count": 13,
      "id": "13957a6d",
      "metadata": {
        "id": "13957a6d"
      },
      "outputs": [],
      "source": [
        "positive_samples = ratings_df.copy()\n",
        "positive_samples = positive_samples[positive_samples['liked'] == 1]\n",
        "positive_samples = positive_samples[['user_id:token', 'item_id:token', 'liked']]"
      ]
    },
    {
      "cell_type": "code",
      "execution_count": 14,
      "id": "2f82dc47",
      "metadata": {
        "id": "2f82dc47"
      },
      "outputs": [],
      "source": [
        "# 단어가 최소 3회 이상 등장해야 학습되고 모델에 저장됨\n",
        "min_count = 3\n",
        "# 1개의 positive sample당 negative sample의 개수\n",
        "negative = 5"
      ]
    },
    {
      "cell_type": "code",
      "execution_count": 15,
      "id": "5a5f4ef3",
      "metadata": {
        "id": "5a5f4ef3"
      },
      "outputs": [],
      "source": [
        "movie_ids_for_training = list()\n",
        "for movie_id in ratings_df['item_id:token'].unique():\n",
        "    if positive_samples[positive_samples['item_id:token'] == movie_id].shape[0] >= min_count:\n",
        "        movie_ids_for_training.append(movie_id)"
      ]
    },
    {
      "cell_type": "code",
      "execution_count": 16,
      "id": "090c3f56",
      "metadata": {
        "colab": {
          "base_uri": "https://localhost:8080/"
        },
        "id": "090c3f56",
        "outputId": "c7e9d5b3-d95a-4319-91e0-7ccc5e269840"
      },
      "outputs": [
        {
          "name": "stderr",
          "output_type": "stream",
          "text": [
            "  1%|          | 8856/1154807 [09:43<14:21:48, 22.16it/s] "
          ]
        }
      ],
      "source": [
        "new_positive_samples = dict()\n",
        "new_positive_samples['user_id:token'] = list()\n",
        "new_positive_samples['w_movie_id'] = list()\n",
        "new_positive_samples['c_movie_id'] = list()\n",
        "\n",
        "user_negative_samples = dict()\n",
        "\n",
        "movie_ids = ratings_df['item_id:token'].unique()\n",
        "\n",
        "for user_id in tqdm(ratings_df['user_id:token'].unique()):\n",
        "    user_positive_samples = positive_samples[positive_samples['user_id:token'] == user_id]\n",
        "    user_movies = user_positive_samples['item_id:token'].tolist()\n",
        "    # sampling을 위해 각 user id의 negative movies를 저장\n",
        "    user_neg_movies = [movie_id for movie_id in movie_ids if movie_id not in user_movies]\n",
        "    user_negative_samples[user_id] = np.array(user_neg_movies)\n",
        "    for w_movie_id in user_movies:\n",
        "        # 단어가 최소 등장 횟수를 만족하지 않음\n",
        "        if w_movie_id not in movie_ids_for_training:\n",
        "            continue\n",
        "        for c_movie_id in user_movies:\n",
        "            if c_movie_id == w_movie_id:\n",
        "                continue\n",
        "            new_positive_samples['user_id:token'].append(user_id)\n",
        "            new_positive_samples['w_movie_id'].append(w_movie_id)\n",
        "            new_positive_samples['c_movie_id'].append(c_movie_id)\n",
        "\n",
        "new_positive_samples = pd.DataFrame(new_positive_samples)"
      ]
    },
    {
      "cell_type": "code",
      "execution_count": null,
      "id": "e88ae7e6",
      "metadata": {
        "id": "e88ae7e6"
      },
      "outputs": [],
      "source": [
        "for user_id in user_negative_samples:\n",
        "    user_negative_samples[user_id] = np.array(user_negative_samples[user_id])"
      ]
    },
    {
      "cell_type": "markdown",
      "id": "134c1419",
      "metadata": {
        "id": "134c1419"
      },
      "source": [
        "### 0.5. SGNS 모델에 사용할 데이터셋 만들기"
      ]
    },
    {
      "cell_type": "code",
      "execution_count": null,
      "id": "c08bd067",
      "metadata": {
        "id": "c08bd067"
      },
      "outputs": [],
      "source": [
        "new_positive_samples['user_id:token'] = new_positive_samples['user_id:token'].astype(\"category\")\n",
        "new_positive_samples['w_movie_id'] = new_positive_samples['w_movie_id'].astype(\"category\")\n",
        "new_positive_samples['c_movie_id'] = new_positive_samples['c_movie_id'].astype(\"category\")"
      ]
    },
    {
      "cell_type": "code",
      "execution_count": null,
      "id": "4ee7e411",
      "metadata": {
        "colab": {
          "base_uri": "https://localhost:8080/"
        },
        "id": "4ee7e411",
        "outputId": "2e67c492-8804-453a-fa94-2c8ef08fa99f"
      },
      "outputs": [
        {
          "name": "stdout",
          "output_type": "stream",
          "text": [
            "학습 데이터 크기: (4773415, 3)\n",
            "테스트 데이터 크기: (1193354, 3)\n"
          ]
        }
      ],
      "source": [
        "train_df, test_df = train_test_split(\n",
        "    new_positive_samples, stratify=new_positive_samples['user_id:token'], random_state=seed, test_size=0.20\n",
        ")\n",
        "print('학습 데이터 크기:', train_df.shape)\n",
        "print('테스트 데이터 크기:', test_df.shape)"
      ]
    },
    {
      "cell_type": "code",
      "execution_count": null,
      "id": "7PMuBXsbTxWl",
      "metadata": {
        "id": "7PMuBXsbTxWl"
      },
      "outputs": [],
      "source": []
    },
    {
      "cell_type": "code",
      "execution_count": null,
      "id": "58c0989c",
      "metadata": {
        "id": "58c0989c"
      },
      "outputs": [],
      "source": [
        "# PyTorch의 DataLoader에서 사용할 수 있도록 변환\n",
        "train_dataset = TensorDataset(torch.LongTensor(np.array(train_df)))\n",
        "test_dataset = TensorDataset(torch.LongTensor(np.array(test_df)))"
      ]
    },
    {
      "cell_type": "markdown",
      "id": "f9e5cd7b",
      "metadata": {
        "id": "f9e5cd7b"
      },
      "source": [
        "---"
      ]
    },
    {
      "cell_type": "markdown",
      "id": "03d3db32",
      "metadata": {
        "id": "03d3db32"
      },
      "source": [
        "## 1. PyTorch로 SGNS 구현하기"
      ]
    },
    {
      "cell_type": "markdown",
      "id": "ea2f7a3e",
      "metadata": {
        "id": "ea2f7a3e"
      },
      "source": [
        "### <font color='#5F71F7'>과제 HOMEWORK (1)</font>\n",
        "### 1.1. `Negative Sampler` 클래스 구현하기\n",
        "- HINT: user_negative_samples에 user id 별 전체 negative samples 정보를 가진 Dictionary이다. (i.e. keys: user id, items: list of negative samples)"
      ]
    },
    {
      "cell_type": "code",
      "execution_count": null,
      "id": "6c49e6d9",
      "metadata": {
        "id": "6c49e6d9"
      },
      "outputs": [],
      "source": [
        "class Negative_Sampler(nn.Module):\n",
        "    \"\"\"\n",
        "    Negative Sampler\n",
        "\n",
        "    Args:\n",
        "        - user_negative_samples: (Dict) keys: user id, items: list of negative samples\n",
        "        - n_negs: (int) negative sample의 수\n",
        "    Shape:\n",
        "        - Input: (torch.Tensor) user id들. Shape: (batch size,)\n",
        "        - Output: (torch.Tensor) sampling된 negative samples. Shape: (batch size, n_negs)\n",
        "    \"\"\"\n",
        "    def __init__(self, user_negative_samples, n_negs):\n",
        "        super(Negative_Sampler, self).__init__()\n",
        "        self.user_negative_samples = user_negative_samples\n",
        "        self.n_negs = n_negs\n",
        "\n",
        "    def forward(self, user_ids):\n",
        "        user_ids = user_ids.to('cpu').numpy()\n",
        "        negative_samples = np.array([\n",
        "            # FILL HERE : USE np.random.choice(), self.user_negative_samples, self.n_negs #\n",
        "            np.random.choice(a=self.user_negative_samples[user_id], size=self.n_negs,replace=False)\n",
        "            for user_id in user_ids\n",
        "        ])\n",
        "        return torch.from_numpy(negative_samples)\n"
      ]
    },
    {
      "cell_type": "markdown",
      "id": "661d66dc",
      "metadata": {
        "id": "661d66dc"
      },
      "source": [
        "### <font color='#5F71F7'>과제 HOMEWORK (2)</font>\n",
        "### 1.2. `SGNS` 클래스 구현하기\n",
        "- 'SGNS'에서 구현할 부분 : 중심 아이템 Embedding, 주변 아이템 Embedding, 중심 아이템 Embedding과 주변 아이템 Embedding 내적"
      ]
    },
    {
      "cell_type": "markdown",
      "id": "d069ad5d",
      "metadata": {
        "id": "d069ad5d"
      },
      "source": [
        "![SGNS_embedding.png](data:image/png;base64,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)"
      ]
    },
    {
      "cell_type": "markdown",
      "id": "f91726b6",
      "metadata": {
        "id": "f91726b6"
      },
      "source": [
        "![SGNS_forward.png](data:image/png;base64,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)"
      ]
    },
    {
      "cell_type": "code",
      "execution_count": null,
      "id": "f28c14bc",
      "metadata": {
        "id": "f28c14bc"
      },
      "outputs": [],
      "source": [
        "class SGNS(nn.Module):\n",
        "    \"\"\"\n",
        "    Skip-Gram with Negative Sampling\n",
        "\n",
        "    Args:\n",
        "        - n_items: (int) 전체 아이템의 수\n",
        "        - emb_dim: (int) Embedding의 Dimension\n",
        "        - user_negative_samples: (Dict) user id 별 전체 negative sample\n",
        "        - n_negs: (int) negative sample의 수\n",
        "    Shape:\n",
        "        - Input: (torch.Tensor) input features, (user id, 중심 item id, 주변 item id). Shape: (batch size, 3)\n",
        "        - Output: (torch.Tensor) sampling된 negative samples와 positive sample의 Loss 합. Shape: ()\n",
        "    \"\"\"\n",
        "    def __init__(self, n_items, emb_dim, user_negative_samples, n_negs ,device=torch.device('cpu')):\n",
        "        super(SGNS, self).__init__()\n",
        "\n",
        "        # initialize Class attributes\n",
        "        self.n_items = n_items\n",
        "        self.emb_dim = emb_dim\n",
        "        self.user_negative_samples = user_negative_samples\n",
        "        self.n_negs = n_negs\n",
        "        self.negative_sampler = Negative_Sampler(self.user_negative_samples, self.n_negs)\n",
        "\n",
        "        # define embeddings\n",
        "        # 중심 아이템\n",
        "        self.w_item_embedding = nn.Embedding(self.n_items, self.emb_dim) # FILL HERE : USE nn.Embedding() #\n",
        "        # 주변 아이템\n",
        "        self.c_item_embedding = nn.Embedding(self.n_items, self.emb_dim) # FILL HERE : USE nn.Embedding() #\n",
        "\n",
        "        self.sigmoid = nn.Sigmoid()\n",
        "\n",
        "        self.loss_fn = nn.BCELoss()\n",
        "\n",
        "        self.apply(self._init_weights)\n",
        "        self.device = device\n",
        "        self.to(device)\n",
        "\n",
        "    # initialize weights\n",
        "    def _init_weights(self, module):\n",
        "        if isinstance(module, nn.Embedding):\n",
        "            normal_(module.weight.data, mean=0.0, std=0.01)\n",
        "\n",
        "    def forward(self, input_feature):\n",
        "        batch_size = input_feature.size()[0]\n",
        "\n",
        "        user_ids, w_item, c_item = torch.split(input_feature, [1, 1, 1], -1)\n",
        "        # 유저 id\n",
        "        user_ids = user_ids.squeeze(-1)\n",
        "        # 중심 아이템\n",
        "        w_item = w_item.squeeze(-1)\n",
        "        # 주변 아이템 (positive sample)\n",
        "        c_item = c_item.squeeze(-1)\n",
        "        # 주변 아이템 negative sampling\n",
        "        neg_c_items = self.negative_sampler(user_ids)\n",
        "\n",
        "        # 중심 아이템 embedding\n",
        "        w_item_e = self.w_item_embedding(w_item).to(self.device) # FILL HERE : USE self.w_item_embedding() #\n",
        "        # 주변 아이템 (positive sample) embedding\n",
        "        c_item_e = self.c_item_embedding(c_item).to(self.device) # FILL HERE : USE self.c_item_embedding() #\n",
        "        # 주변 아이템 (negative sample) embedding\n",
        "        neg_c_items_e = self.c_item_embedding(neg_c_items).to(self.device) # FILL HERE : USE self.c_item_embedding() #\n",
        "                         # HINT: neg_c_items_e.shape == (batch_size, self.n_negs, self.emb_dim)\n",
        "\n",
        "        w_item_e = w_item_e.view(batch_size, 1, self.emb_dim)\n",
        "        c_item_e = c_item_e.view(batch_size, self.emb_dim, 1)\n",
        "        neg_c_items_e = neg_c_items_e.permute(0, 2, 1)\n",
        "\n",
        "        pos_output = torch.bmm(w_item_e, c_item_e) # FILL HERE : Use torch.bmm() #\n",
        "        pos_output = pos_output.squeeze(-1)\n",
        "        pos_output = self.sigmoid(pos_output).squeeze(-1)\n",
        "\n",
        "        pos_y = torch.ones(pos_output.size()).to(device)\n",
        "        pos_loss = self.loss_fn(pos_output, pos_y)\n",
        "\n",
        "        neg_output = torch.bmm(w_item_e, neg_c_items_e) # FILL HERE : Use torch.bmm() #\n",
        "        neg_output = neg_output.squeeze(-1)\n",
        "        neg_output = self.sigmoid(neg_output)\n",
        "\n",
        "        neg_y = torch.zeros(neg_output.size()).to(device)\n",
        "        neg_loss = self.loss_fn(neg_output, neg_y)\n",
        "\n",
        "        return pos_loss + neg_loss\n"
      ]
    },
    {
      "cell_type": "markdown",
      "id": "ae0fdd07",
      "metadata": {
        "id": "ae0fdd07"
      },
      "source": [
        "### 1.3. SGNS 모델 학습하기"
      ]
    },
    {
      "cell_type": "code",
      "execution_count": null,
      "id": "88773198",
      "metadata": {
        "id": "88773198"
      },
      "outputs": [],
      "source": [
        "# Reference - https://pytorch.org/tutorials/beginner/basics/optimization_tutorial.html\n",
        "\n",
        "def train_loop(dataloader, model, optimizer):\n",
        "    size = len(dataloader.dataset)\n",
        "    num_batches = len(dataloader)\n",
        "    train_loss = 0\n",
        "\n",
        "    for batch, (X,) in enumerate(dataloader):\n",
        "        X = X.to(device)\n",
        "        # Compute prediction and loss\n",
        "        loss = model(X)\n",
        "        train_loss += loss.item()\n",
        "\n",
        "        # Backpropagation\n",
        "        optimizer.zero_grad()\n",
        "        loss.backward()\n",
        "        optimizer.step()\n",
        "\n",
        "\n",
        "        if (batch+1) % 100 == 0:\n",
        "            loss, current = loss.item(), (batch+1) * len(X)\n",
        "            print(f\"Loss: {loss:>7f} | [{current:>5d}/{size:>5d}]\")\n",
        "    train_loss /= num_batches\n",
        "\n",
        "    return train_loss\n",
        "\n",
        "\n",
        "def test_loop(dataloader, model):\n",
        "    size = len(dataloader.dataset)\n",
        "    num_batches = len(dataloader)\n",
        "    test_loss= 0\n",
        "\n",
        "    with torch.no_grad():\n",
        "        for X, in dataloader:\n",
        "            X= X.to(device)\n",
        "            loss = model(X)\n",
        "            test_loss += loss.item()\n",
        "    test_loss /= num_batches\n",
        "    print(f\"Test Error:\\n\\tAvg Loss: {test_loss:>8f}\")\n",
        "    return test_loss\n"
      ]
    },
    {
      "cell_type": "code",
      "execution_count": null,
      "id": "d26b47b8",
      "metadata": {
        "id": "d26b47b8"
      },
      "outputs": [],
      "source": [
        "def train_and_test(train_dataloader, test_dataloader, model, optimizer, epochs):\n",
        "    train_loss, test_loss = list(), list()\n",
        "\n",
        "    for t in range(epochs):\n",
        "        print(f\"Epoch {t+1}\\n-------------------------------\")\n",
        "        train_result= train_loop(train_dataloader, model, optimizer)\n",
        "        train_loss.append(train_result)\n",
        "        test_result = test_loop(test_dataloader, model)\n",
        "        test_loss.append(test_result)\n",
        "        print(\"-------------------------------\\n\")\n",
        "    print(\"Done!\")\n",
        "\n",
        "    return train_loss, test_loss\n"
      ]
    },
    {
      "cell_type": "code",
      "execution_count": null,
      "id": "8bf26adb",
      "metadata": {
        "id": "8bf26adb"
      },
      "outputs": [],
      "source": [
        "######## Hyperparameter ########\n",
        "\n",
        "batch_size = 2048\n",
        "data_shuffle = True\n",
        "emb_dim = 512\n",
        "epochs = 5\n",
        "learning_rate = 0.001\n",
        "gpu_idx = 0\n",
        "\n",
        "n_items = ratings_df['item_id:token'].nunique()\n",
        "\n",
        "################################\n",
        "# torch.cuda.empty_cache() # if necessary\n",
        "torch.manual_seed(seed)\n",
        "if torch.cuda.is_available():\n",
        "    torch.cuda.manual_seed_all(seed)\n",
        "    torch.backends.cudnn.deterministic = True\n",
        "\n",
        "device = torch.device(\"cuda:{}\".format(gpu_idx) if torch.cuda.is_available() else \"cpu\")\n",
        "\n",
        "train_dataloader = DataLoader(train_dataset, batch_size=batch_size, shuffle=data_shuffle)\n",
        "test_dataloader = DataLoader(test_dataset, batch_size=batch_size, shuffle=data_shuffle)\n",
        "\n",
        "model = SGNS(n_items, emb_dim, user_negative_samples, negative, device)\n",
        "\n",
        "optimizer = torch.optim.Adam(model.parameters(), lr=learning_rate, amsgrad=True)"
      ]
    },
    {
      "cell_type": "code",
      "execution_count": null,
      "id": "abc8ec7b",
      "metadata": {
        "colab": {
          "base_uri": "https://localhost:8080/"
        },
        "id": "abc8ec7b",
        "outputId": "61bac3d9-168d-450e-a25c-dbdc85d89eb2"
      },
      "outputs": [
        {
          "name": "stdout",
          "output_type": "stream",
          "text": [
            "Epoch 1\n",
            "-------------------------------\n",
            "Loss: 0.865434 | [204800/4773415]\n",
            "Loss: 0.836429 | [409600/4773415]\n",
            "Loss: 0.862397 | [614400/4773415]\n",
            "Loss: 0.834195 | [819200/4773415]\n",
            "Loss: 0.829993 | [1024000/4773415]\n",
            "Loss: 0.830558 | [1228800/4773415]\n",
            "Loss: 0.824250 | [1433600/4773415]\n",
            "Loss: 0.812925 | [1638400/4773415]\n",
            "Loss: 0.838753 | [1843200/4773415]\n",
            "Loss: 0.827197 | [2048000/4773415]\n",
            "Loss: 0.824673 | [2252800/4773415]\n",
            "Loss: 0.809536 | [2457600/4773415]\n",
            "Loss: 0.804674 | [2662400/4773415]\n",
            "Loss: 0.805392 | [2867200/4773415]\n",
            "Loss: 0.826882 | [3072000/4773415]\n",
            "Loss: 0.827568 | [3276800/4773415]\n",
            "Loss: 0.834233 | [3481600/4773415]\n",
            "Loss: 0.808003 | [3686400/4773415]\n",
            "Loss: 0.835117 | [3891200/4773415]\n",
            "Loss: 0.817518 | [4096000/4773415]\n",
            "Loss: 0.811845 | [4300800/4773415]\n",
            "Loss: 0.812034 | [4505600/4773415]\n",
            "Loss: 0.843436 | [4710400/4773415]\n",
            "Test Error:\n",
            "\tAvg Loss: 0.807501\n",
            "-------------------------------\n",
            "\n",
            "Epoch 2\n",
            "-------------------------------\n",
            "Loss: 0.782746 | [204800/4773415]\n",
            "Loss: 0.807924 | [409600/4773415]\n",
            "Loss: 0.785240 | [614400/4773415]\n",
            "Loss: 0.799270 | [819200/4773415]\n",
            "Loss: 0.773042 | [1024000/4773415]\n",
            "Loss: 0.802288 | [1228800/4773415]\n",
            "Loss: 0.794522 | [1433600/4773415]\n",
            "Loss: 0.795468 | [1638400/4773415]\n",
            "Loss: 0.788003 | [1843200/4773415]\n",
            "Loss: 0.807974 | [2048000/4773415]\n",
            "Loss: 0.795404 | [2252800/4773415]\n",
            "Loss: 0.798730 | [2457600/4773415]\n",
            "Loss: 0.786309 | [2662400/4773415]\n",
            "Loss: 0.808297 | [2867200/4773415]\n",
            "Loss: 0.777817 | [3072000/4773415]\n",
            "Loss: 0.804799 | [3276800/4773415]\n",
            "Loss: 0.803117 | [3481600/4773415]\n",
            "Loss: 0.803309 | [3686400/4773415]\n",
            "Loss: 0.811537 | [3891200/4773415]\n",
            "Loss: 0.806029 | [4096000/4773415]\n",
            "Loss: 0.801397 | [4300800/4773415]\n",
            "Loss: 0.814791 | [4505600/4773415]\n",
            "Loss: 0.807128 | [4710400/4773415]\n",
            "Test Error:\n",
            "\tAvg Loss: 0.798078\n",
            "-------------------------------\n",
            "\n",
            "Epoch 3\n",
            "-------------------------------\n",
            "Loss: 0.802475 | [204800/4773415]\n",
            "Loss: 0.776275 | [409600/4773415]\n",
            "Loss: 0.773232 | [614400/4773415]\n",
            "Loss: 0.794798 | [819200/4773415]\n",
            "Loss: 0.767907 | [1024000/4773415]\n",
            "Loss: 0.800435 | [1228800/4773415]\n",
            "Loss: 0.786831 | [1433600/4773415]\n",
            "Loss: 0.784184 | [1638400/4773415]\n",
            "Loss: 0.802284 | [1843200/4773415]\n",
            "Loss: 0.794550 | [2048000/4773415]\n",
            "Loss: 0.797397 | [2252800/4773415]\n",
            "Loss: 0.790035 | [2457600/4773415]\n",
            "Loss: 0.807555 | [2662400/4773415]\n",
            "Loss: 0.800516 | [2867200/4773415]\n",
            "Loss: 0.802059 | [3072000/4773415]\n",
            "Loss: 0.794320 | [3276800/4773415]\n",
            "Loss: 0.787720 | [3481600/4773415]\n",
            "Loss: 0.801022 | [3686400/4773415]\n",
            "Loss: 0.787973 | [3891200/4773415]\n",
            "Loss: 0.816064 | [4096000/4773415]\n",
            "Loss: 0.788998 | [4300800/4773415]\n",
            "Loss: 0.807900 | [4505600/4773415]\n",
            "Loss: 0.801122 | [4710400/4773415]\n",
            "Test Error:\n",
            "\tAvg Loss: 0.794594\n",
            "-------------------------------\n",
            "\n",
            "Epoch 4\n",
            "-------------------------------\n",
            "Loss: 0.788981 | [204800/4773415]\n",
            "Loss: 0.790123 | [409600/4773415]\n",
            "Loss: 0.783609 | [614400/4773415]\n",
            "Loss: 0.785350 | [819200/4773415]\n",
            "Loss: 0.772536 | [1024000/4773415]\n",
            "Loss: 0.779509 | [1228800/4773415]\n",
            "Loss: 0.787762 | [1433600/4773415]\n",
            "Loss: 0.790996 | [1638400/4773415]\n",
            "Loss: 0.784378 | [1843200/4773415]\n",
            "Loss: 0.787405 | [2048000/4773415]\n",
            "Loss: 0.782019 | [2252800/4773415]\n",
            "Loss: 0.801426 | [2457600/4773415]\n",
            "Loss: 0.785916 | [2662400/4773415]\n",
            "Loss: 0.815322 | [2867200/4773415]\n",
            "Loss: 0.786506 | [3072000/4773415]\n",
            "Loss: 0.782519 | [3276800/4773415]\n",
            "Loss: 0.774574 | [3481600/4773415]\n",
            "Loss: 0.798197 | [3686400/4773415]\n",
            "Loss: 0.774515 | [3891200/4773415]\n",
            "Loss: 0.809553 | [4096000/4773415]\n",
            "Loss: 0.786428 | [4300800/4773415]\n",
            "Loss: 0.785017 | [4505600/4773415]\n",
            "Loss: 0.765285 | [4710400/4773415]\n",
            "Test Error:\n",
            "\tAvg Loss: 0.794202\n",
            "-------------------------------\n",
            "\n",
            "Epoch 5\n",
            "-------------------------------\n",
            "Loss: 0.788554 | [204800/4773415]\n",
            "Loss: 0.799507 | [409600/4773415]\n",
            "Loss: 0.789024 | [614400/4773415]\n",
            "Loss: 0.782064 | [819200/4773415]\n",
            "Loss: 0.782145 | [1024000/4773415]\n",
            "Loss: 0.782631 | [1228800/4773415]\n",
            "Loss: 0.788743 | [1433600/4773415]\n",
            "Loss: 0.796823 | [1638400/4773415]\n",
            "Loss: 0.795405 | [1843200/4773415]\n",
            "Loss: 0.760948 | [2048000/4773415]\n",
            "Loss: 0.776019 | [2252800/4773415]\n",
            "Loss: 0.778159 | [2457600/4773415]\n",
            "Loss: 0.783144 | [2662400/4773415]\n",
            "Loss: 0.786848 | [2867200/4773415]\n",
            "Loss: 0.784012 | [3072000/4773415]\n",
            "Loss: 0.806288 | [3276800/4773415]\n",
            "Loss: 0.791700 | [3481600/4773415]\n",
            "Loss: 0.796690 | [3686400/4773415]\n",
            "Loss: 0.802775 | [3891200/4773415]\n",
            "Loss: 0.799138 | [4096000/4773415]\n",
            "Loss: 0.790960 | [4300800/4773415]\n",
            "Loss: 0.796886 | [4505600/4773415]\n",
            "Loss: 0.767624 | [4710400/4773415]\n",
            "Test Error:\n",
            "\tAvg Loss: 0.795302\n",
            "-------------------------------\n",
            "\n",
            "Done!\n"
          ]
        }
      ],
      "source": [
        "train_loss, test_loss = train_and_test(train_dataloader, test_dataloader, model, optimizer, epochs)"
      ]
    },
    {
      "cell_type": "markdown",
      "id": "23e35c9f",
      "metadata": {
        "id": "23e35c9f"
      },
      "source": [
        "### 1.4. SGNS 모델을 활용하여 가장 비슷한 영화 찾기\n",
        "- SGNS 모델의 중심 아이템 Embedding을 활용한다."
      ]
    },
    {
      "cell_type": "code",
      "execution_count": null,
      "id": "0a04379f",
      "metadata": {
        "id": "0a04379f"
      },
      "outputs": [],
      "source": [
        "def get_most_similar(\n",
        "    model: SGNS,\n",
        "    movie_id: int,\n",
        "    n: int,\n",
        "    n_movies: int\n",
        ") -> List:\n",
        "    \"\"\"\n",
        "    해당 movie id와 cosine similarity가 가장 높은 n개의 movie id를 반환합니다.\n",
        "\n",
        "    :param model: (SGNS) SGNS model\n",
        "    :param movie_id: (int) 기준이 되는 movie id\n",
        "    :param n: (int) 반환하는 movie의 수\n",
        "    :param n_movies: (int) 전체 movie의 수\n",
        "    :return: (List) n개의 movie id list\n",
        "    \"\"\"\n",
        "    input_tensor = torch.tensor(movie_id)\n",
        "    movie_embedding = model.w_item_embedding(input_tensor)\n",
        "    movie_embedding = movie_embedding.squeeze(-1)\n",
        "    similarity_list = list()\n",
        "    for m_id in range(n_movies):\n",
        "        if m_id == movie_id:\n",
        "            continue\n",
        "        m_tensor = torch.tensor(m_id)\n",
        "        m_embedding = model.w_item_embedding(m_tensor)\n",
        "        m_embedding = m_embedding.squeeze(-1)\n",
        "        similarity = torch.nn.CosineSimilarity(dim=0)(movie_embedding, m_embedding)\n",
        "        similarity_list.append((m_id, similarity.item()))\n",
        "    similarity_list.sort(key=lambda x: x[1], reverse=True)\n",
        "\n",
        "    return similarity_list[:n]"
      ]
    },
    {
      "cell_type": "markdown",
      "id": "b5463dce",
      "metadata": {
        "id": "b5463dce"
      },
      "source": [
        "### 1.5. SGNS 모델을 활용한 영화에 대한 연관 추천"
      ]
    },
    {
      "cell_type": "code",
      "execution_count": null,
      "id": "8914d9cd",
      "metadata": {
        "id": "8914d9cd"
      },
      "outputs": [],
      "source": [
        "genre_list = ['Action', 'Adventure', 'Animation',\n",
        "             'Children', 'Comedy', 'Crime', 'Documentary', 'Drama', 'Fantasy',\n",
        "             'Film-Noir', 'Horror', 'Musical', 'Mystery', 'Romance', 'Sci-Fi',\n",
        "             'Thriller', 'War', 'Western']"
      ]
    },
    {
      "cell_type": "markdown",
      "id": "cda4699d",
      "metadata": {
        "id": "cda4699d"
      },
      "source": [
        "#### Toy Story (1995) 예제"
      ]
    },
    {
      "cell_type": "markdown",
      "id": "5543fc0a",
      "metadata": {
        "id": "5543fc0a"
      },
      "source": [
        "![toy_story_info.PNG](data:image/png;base64,iVBORw0KGgoAAAANSUhEUgAAAS4AAAArCAYAAADG+mVEAAAAAXNSR0IArs4c6QAAAARnQU1BAACxjwv8YQUAAAAJcEhZcwAADsMAAA7DAcdvqGQAAAUYSURBVHhe7ZnbjuMwDEPn/396FgKWgFaVKNnpZOIuD2DEJnVxXTcv/foWQojD0ItLCHEcenEJIY5DL67/kK+v3//an7AHcS7Lt2f3wt11Ua1PHD/N3f2uwPZXef6zxZjKizqGJ66FmPJyc7rLVPm7eT/FXf2yPl67+3N3VPsxvfssANqqF5nECJHxcnN2L1OX91N1K+76UWR9vHbXPiZ0e+k+C4C26mVM44Tw/HNr7BL5kZHpu3lGl1vldbC8rNdu70kfjIzKgxZ9FtvRxU1rQ1v1MqZxQnhebk13kSp/J2+q7TDZZzUH072wuKkX42yd5U61jC5utV/nxZFR6UIwXm5Nd5F2L2DmT7UddvpV8wkW39X3dLFVnjGNi3Sxmc+0Xc+TaUJ0vNya7iJV/k6eadl4B1mdTqvmK8S8qk6mT/tP4yJdbOWbHgdgXiTzWLwQFS+3prtIlb+TN7m0k5iMaT+vYb7bE2Q1I5k+yTPgsZiMLn5ab7K3jMyb9hTC83JruotU+Tt5k0s7icmY9ouarVd6djWrWrt5wPwuJjKpOYHFwctippoQHS+3prtIlb+TN9V2mOzzHf27Gqwei2N5RudXTPcDmLbrgSxGiAnpzbELVV0qdtl28pDDcndgtVivnT2gXlW30g2Ww+j8CpZXeab74dn1jEwTYoJuzl+qH9fTeMc+n/A5Tzhr8Vx0e4QQx6EXlxDiOPTiEkIch15cQojj0ItLCHEcenEdyu6/cnf/m/ekfw9tLxhgsj8WM8k3pnG/ge0N4252ez73NAVl+wt/8+Xs6v3GjyEj7gPryf5YzPTzTePuJu7r7n3u9nvmaf5HbH9xD/khPGUfjGyP0K7uf5r/xHNi53IXu/2ed5o3YIeFA/MHB937RqUDaJkPLfOMTOtATsxFD4yMTPfxzI+e16MHKt3I8qBl3i6sTuyXxWYa6Dz4Ps5rXjegRa/SrzCpk/XzWlYDvo/zeD0+PZkGaudD8Ydh88nBRS9bs3xPpq2CGrFWtzaYFp9GjO/WkcqveqzWn8BqZN7KHirP6zZna8C06GWxq3Q1vJ/N49Pwc1D5Nse6y4vUzgfCDmfF69aA1bwCanT7mPaP9bIYED0Wa2Q+01brT2A12F7A1XzDa1U9lhe9qsYKrMZkL/FpTPI8VW4W6+Huh8EOzp7ZgOfp1gA14rhCzPdr5gGmxSewtR+euI5kPtNW609gNdhewNV8w2tVPdOzAc8T1zuwGpkX9xKfhs2zAS/itWqewd0Pgx0cO6jodWvAaoJJjMfi4wB+bsS1wbT4NGJ8t45kPtNW609gNdhewNV8w2tVvZU+LHbKSj8DWvU0sjyQeVkuqwH6iA8jHtTksKLXrQGrCSYxHtabeYBp8WnE+G4dyXymrdafsNLPWNnDJN/wWlVvpQ+LnZLVgDbxstgsD2Re1GzNaoA+4gPxhxOfnsrr1oDV3IX1Zh5gWnwace7XRlxHKj/WBZP6VU1GVXdSn/WrPK/bPK4zMh1a9FjsCqxuN49Pw89B5ds8xmf5GbOoDyE7lOwgMYCfG93ag1oYV4k1/Jp5gGnxCWztPeZHKt2oanmyfFaTgX4+f1I/iwGdB9/HTXIwQMyJayPTJqBXVTPqWMcnQA5GxOvRz+IzZlEfBA4NQ5yFvrOc089l9feoWyCEOA69uIQQx6EXlxDiOPTiEkIch15cQojj0ItLCHEcenEJIY5DLy4hxHHoxSWEOA69uIQQh/H9/QeUV2kizC2DhgAAAABJRU5ErkJggg==)"
      ]
    },
    {
      "cell_type": "code",
      "execution_count": null,
      "id": "175790a8",
      "metadata": {
        "id": "175790a8"
      },
      "outputs": [],
      "source": [
        "n = 10\n",
        "movie_id = 0\n",
        "n_movies = ratings_df['movie_id'].nunique()\n",
        "\n",
        "similar_movies = get_most_similar(model, movie_id, n, n_movies)"
      ]
    },
    {
      "cell_type": "markdown",
      "id": "99934c8a",
      "metadata": {
        "id": "99934c8a"
      },
      "source": [
        "#### Toy Story (1995)와 비슷한 영화 10개"
      ]
    },
    {
      "cell_type": "markdown",
      "id": "s0d06aBFbI9v",
      "metadata": {
        "id": "s0d06aBFbI9v"
      },
      "source": [
        "![toy_story_result.PNG](data:image/png;base64,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)"
      ]
    },
    {
      "cell_type": "code",
      "execution_count": null,
      "id": "83cf3a92",
      "metadata": {
        "colab": {
          "base_uri": "https://localhost:8080/"
        },
        "id": "83cf3a92",
        "outputId": "f6f03e09-20f9-43da-d742-ed9eb5f4378d"
      },
      "outputs": [
        {
          "name": "stdout",
          "output_type": "stream",
          "text": [
            "title: Star Wars (1977)\n",
            "\tgenre: Action, Adventure, Romance, Sci-Fi, War\n",
            "\tcosine similarity: 0.6419\n",
            "\n",
            "title: Return of the Jedi (1983)\n",
            "\tgenre: Action, Adventure, Romance, Sci-Fi, War\n",
            "\tcosine similarity: 0.6234\n",
            "\n",
            "title: Twelve Monkeys (1995)\n",
            "\tgenre: Drama, Sci-Fi\n",
            "\tcosine similarity: 0.6093\n",
            "\n",
            "title: Truth About Cats & Dogs, The (1996)\n",
            "\tgenre: Comedy, Romance\n",
            "\tcosine similarity: 0.5897\n",
            "\n",
            "title: Mission: Impossible (1996)\n",
            "\tgenre: Action, Adventure, Mystery\n",
            "\tcosine similarity: 0.5819\n",
            "\n",
            "title: Aladdin (1992)\n",
            "\tgenre: Animation, Children, Comedy, Musical\n",
            "\tcosine similarity: 0.5776\n",
            "\n",
            "title: Star Trek: First Contact (1996)\n",
            "\tgenre: Action, Adventure, Sci-Fi\n",
            "\tcosine similarity: 0.5695\n",
            "\n",
            "title: Mr. Holland's Opus (1995)\n",
            "\tgenre: Drama\n",
            "\tcosine similarity: 0.5644\n",
            "\n",
            "title: Forrest Gump (1994)\n",
            "\tgenre: Comedy, Romance, War\n",
            "\tcosine similarity: 0.5608\n",
            "\n",
            "title: Aliens (1986)\n",
            "\tgenre: Action, Sci-Fi, Thriller, War\n",
            "\tcosine similarity: 0.5594\n",
            "\n"
          ]
        }
      ],
      "source": [
        "for similar_movie_id, similarity in similar_movies:\n",
        "    temp_df = movies_df[movies_df.movie_id == similar_movie_id]\n",
        "    movie_title = temp_df['movie_title'].item()\n",
        "    genre_df = temp_df[genre_list]\n",
        "    genre = genre_df.columns[genre_df.iloc[0,:].values == 1]\n",
        "    print('title: %s\\n\\tgenre: %s\\n\\tcosine similarity: %.4f\\n' % (movie_title, ', '.join(genre), similarity))"
      ]
    },
    {
      "cell_type": "markdown",
      "id": "bf274fd8",
      "metadata": {
        "id": "bf274fd8"
      },
      "source": [
        "#### Heavy Metal (1981) 예제"
      ]
    },
    {
      "cell_type": "markdown",
      "id": "896f6511",
      "metadata": {
        "id": "896f6511"
      },
      "source": [
        "![heavy_metal_info.PNG](data:image/png;base64,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)"
      ]
    },
    {
      "cell_type": "code",
      "execution_count": null,
      "id": "f58b0ea5",
      "metadata": {
        "id": "f58b0ea5"
      },
      "outputs": [],
      "source": [
        "n = 10\n",
        "movie_id = 100\n",
        "n_movies = ratings_df['movie_id'].nunique()\n",
        "\n",
        "similar_movies = get_most_similar(model, movie_id, n, n_movies)"
      ]
    },
    {
      "cell_type": "markdown",
      "id": "9b824b39",
      "metadata": {
        "id": "9b824b39"
      },
      "source": [
        "#### Heavy Metal (1981)와 비슷한 영화 10개"
      ]
    },
    {
      "cell_type": "markdown",
      "id": "h3T9RCLgbNLI",
      "metadata": {
        "id": "h3T9RCLgbNLI"
      },
      "source": [
        "![heavy_metal_result.PNG](data:image/png;base64,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)"
      ]
    },
    {
      "cell_type": "code",
      "execution_count": null,
      "id": "4330d988",
      "metadata": {
        "colab": {
          "base_uri": "https://localhost:8080/"
        },
        "id": "4330d988",
        "outputId": "18ed83a9-1e72-4006-d6ab-05e1b3774342"
      },
      "outputs": [
        {
          "name": "stdout",
          "output_type": "stream",
          "text": [
            "title: Highlander (1986)\n",
            "\tgenre: Action, Adventure\n",
            "\tcosine similarity: 0.5394\n",
            "\n",
            "title: Blink (1994)\n",
            "\tgenre: Thriller\n",
            "\tcosine similarity: 0.5106\n",
            "\n",
            "title: Kalifornia (1993)\n",
            "\tgenre: Drama, Thriller\n",
            "\tcosine similarity: 0.5052\n",
            "\n",
            "title: Terminator, The (1984)\n",
            "\tgenre: Action, Sci-Fi, Thriller\n",
            "\tcosine similarity: 0.4909\n",
            "\n",
            "title: Pete's Dragon (1977)\n",
            "\tgenre: Adventure, Animation, Children, Musical\n",
            "\tcosine similarity: 0.4865\n",
            "\n",
            "title: Hunt for Red October, The (1990)\n",
            "\tgenre: Action, Thriller\n",
            "\tcosine similarity: 0.4860\n",
            "\n",
            "title: Die Hard: With a Vengeance (1995)\n",
            "\tgenre: Action, Thriller\n",
            "\tcosine similarity: 0.4801\n",
            "\n",
            "title: Young Guns (1988)\n",
            "\tgenre: Action, Comedy, Western\n",
            "\tcosine similarity: 0.4773\n",
            "\n",
            "title: Boxing Helena (1993)\n",
            "\tgenre: Mystery, Romance, Thriller\n",
            "\tcosine similarity: 0.4770\n",
            "\n",
            "title: Threesome (1994)\n",
            "\tgenre: Comedy, Romance\n",
            "\tcosine similarity: 0.4728\n",
            "\n"
          ]
        }
      ],
      "source": [
        "for similar_movie_id, similarity in similar_movies:\n",
        "    temp_df = movies_df[movies_df.movie_id == similar_movie_id]\n",
        "    movie_title = temp_df['movie_title'].item()\n",
        "    genre_df = temp_df[genre_list]\n",
        "    genre = genre_df.columns[genre_df.iloc[0,:].values == 1]\n",
        "    print('title: %s\\n\\tgenre: %s\\n\\tcosine similarity: %.4f\\n' % (movie_title, ', '.join(genre), similarity))"
      ]
    },
    {
      "cell_type": "markdown",
      "id": "_slLZvi8PeTQ",
      "metadata": {
        "id": "_slLZvi8PeTQ"
      },
      "source": [
        "## WARNING\n",
        "\n",
        "> 본 교육 콘텐츠의 지식재산권은 재단법인 네이버커넥트에 귀속됩니다.\n",
        "<br>본 콘텐츠를 어떠한 경로로든 외부로 유출 및 수정하는 행위를 엄격히 금합니다.\n",
        "<br>다만, 비영리적 교육 및 연구활동에 한정되어 사용할 수 있으나 재단의 허락을 받아야 합니다.\n",
        "<br>이를 위반하는 경우, 관련 법률에 따라 책임을 질 수 있습니다."
      ]
    }
  ],
  "metadata": {
    "colab": {
      "provenance": []
    },
    "kernelspec": {
      "display_name": "base",
      "language": "python",
      "name": "python3"
    },
    "language_info": {
      "codemirror_mode": {
        "name": "ipython",
        "version": 3
      },
      "file_extension": ".py",
      "mimetype": "text/x-python",
      "name": "python",
      "nbconvert_exporter": "python",
      "pygments_lexer": "ipython3",
      "version": "3.8.5"
    }
  },
  "nbformat": 4,
  "nbformat_minor": 5
}
