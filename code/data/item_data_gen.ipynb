{
 "cells": [
  {
   "cell_type": "code",
   "execution_count": 20,
   "metadata": {},
   "outputs": [],
   "source": [
    "import pandas as pd\n",
    "import json\n",
    "from tqdm import tqdm\n",
    "import ast\n",
    "import numpy as np\n",
    "from collections import deque\n",
    "from pandas import DataFrame\n",
    "from collections import defaultdict\n",
    "import pdb"
   ]
  },
  {
   "cell_type": "code",
   "execution_count": 24,
   "metadata": {},
   "outputs": [],
   "source": [
    "def str2list(x):\n",
    "    if len(x) > 0:\n",
    "        if x[0] != '[':\n",
    "            list = [x]\n",
    "        else: \n",
    "            list = ast.literal_eval(x)\n",
    "            if len(list) == 0: list = ['Empty']\n",
    "    else: list = ['Empty']\n",
    "\n",
    "    return list"
   ]
  },
  {
   "cell_type": "code",
   "execution_count": null,
   "metadata": {},
   "outputs": [],
   "source": [
    "it"
   ]
  },
  {
   "cell_type": "code",
   "execution_count": 23,
   "metadata": {},
   "outputs": [
    {
     "name": "stderr",
     "output_type": "stream",
     "text": [
      "<ipython-input-23-90518a68fd11>:1: DtypeWarning: Columns (15) have mixed types. Specify dtype option on import or set low_memory=False.\n",
      "  basic_info = pd.read_csv('/opt/ml/wine/data/basic_info_total.csv', encoding='utf-8-sig')\n"
     ]
    }
   ],
   "source": [
    "basic_info = pd.read_csv('/opt/ml/wine/data/basic_info_total.csv', encoding='utf-8-sig')\n",
    "with open('/opt/ml/wine/code/feature_map/item2idx.json','r') as f:\n",
    "    item2idx = json.load(f)"
   ]
  },
  {
   "cell_type": "code",
   "execution_count": null,
   "metadata": {},
   "outputs": [],
   "source": [
    "item_data = pd.read_csv('/opt/ml/wine/server/data/item_df_allfeature.csv', encoding='utf-8-sig')\n",
    "item_data = item_data[item_data['item_id'].isna()==False]\n",
    "item_data.drop_duplicates(subset='item_id', inplace = True)"
   ]
  },
  {
   "cell_type": "code",
   "execution_count": 21,
   "metadata": {},
   "outputs": [],
   "source": [
    "wine_df = pd.read_csv('/opt/ml/wine/data/wine_df.csv', encoding='utf-8-sig')"
   ]
  },
  {
   "cell_type": "code",
   "execution_count": 25,
   "metadata": {},
   "outputs": [],
   "source": [
    "wine_df['grape'].fillna('[]', inplace = True)\n",
    "wine_df['grape'] = wine_df['grape'].apply(lambda x: str2list(x))"
   ]
  },
  {
   "cell_type": "code",
   "execution_count": 26,
   "metadata": {},
   "outputs": [],
   "source": [
    "wine_df['item_id'] = wine_df['url'].map(item2idx)\n",
    "wine_df = wine_df[wine_df['item_id'].isna()==False]\n",
    "wine_df['item_id'] = wine_df['item_id'].astype(int).astype('category')"
   ]
  },
  {
   "cell_type": "code",
   "execution_count": 27,
   "metadata": {},
   "outputs": [],
   "source": [
    "basic_info['item_id'] = basic_info['url'].map(item2idx)\n",
    "basic_info = basic_info[basic_info['item_id'].isna()==False]\n",
    "basic_info['item_id'] = basic_info['item_id'].astype(int).astype('category')"
   ]
  },
  {
   "cell_type": "code",
   "execution_count": 28,
   "metadata": {},
   "outputs": [
    {
     "ename": "NameError",
     "evalue": "name 'item_data' is not defined",
     "output_type": "error",
     "traceback": [
      "\u001b[0;31m---------------------------------------------------------------------------\u001b[0m",
      "\u001b[0;31mNameError\u001b[0m                                 Traceback (most recent call last)",
      "\u001b[0;32m<ipython-input-28-f32ab46f3489>\u001b[0m in \u001b[0;36m<module>\u001b[0;34m\u001b[0m\n\u001b[1;32m      1\u001b[0m \u001b[0mbasic_info\u001b[0m\u001b[0;34m.\u001b[0m\u001b[0mset_index\u001b[0m\u001b[0;34m(\u001b[0m\u001b[0;34m'item_id'\u001b[0m\u001b[0;34m,\u001b[0m \u001b[0minplace\u001b[0m\u001b[0;34m=\u001b[0m \u001b[0;32mTrue\u001b[0m\u001b[0;34m)\u001b[0m\u001b[0;34m\u001b[0m\u001b[0;34m\u001b[0m\u001b[0m\n\u001b[0;32m----> 2\u001b[0;31m \u001b[0mitem_data\u001b[0m\u001b[0;34m.\u001b[0m\u001b[0mset_index\u001b[0m\u001b[0;34m(\u001b[0m\u001b[0;34m'item_id'\u001b[0m\u001b[0;34m,\u001b[0m \u001b[0minplace\u001b[0m\u001b[0;34m=\u001b[0m \u001b[0;32mTrue\u001b[0m\u001b[0;34m)\u001b[0m\u001b[0;34m\u001b[0m\u001b[0;34m\u001b[0m\u001b[0m\n\u001b[0m",
      "\u001b[0;31mNameError\u001b[0m: name 'item_data' is not defined"
     ]
    }
   ],
   "source": [
    "basic_info.set_index('item_id', inplace= True)\n",
    "item_data.set_index('item_id', inplace= True)"
   ]
  },
  {
   "cell_type": "code",
   "execution_count": null,
   "metadata": {},
   "outputs": [],
   "source": [
    "no_key = 0\n",
    "for item_id in tqdm(item_data.index):\n",
    "    try:\n",
    "        item_data.loc[item_id,'winery'] = basic_info.loc[item_id,'winery']\n",
    "        item_data.loc[item_id,'grape'] = basic_info.loc[item_id,'grapes']\n",
    "        item_data.loc[item_id,'country'] = basic_info.loc[item_id,'country']\n",
    "        item_data.loc[item_id,'region'] = basic_info.loc[item_id,'region1']\n",
    "        item_data.loc[item_id,'region2'] = basic_info.loc[item_id,'region2']\n",
    "        item_data.loc[item_id,'region3'] = basic_info.loc[item_id,'region3']\n",
    "        item_data.loc[item_id,'region4'] = basic_info.loc[item_id,'region4']\n",
    "        item_data.loc[item_id,'wine_style'] = basic_info.loc[item_id,'wine_style']\n",
    "        item_data.loc[item_id,'allergens'] = basic_info.loc[item_id,'allergens']\n",
    "        item_data.loc[item_id,'alcohol content'] = basic_info.loc[item_id,'alcohol content']\n",
    "    except KeyError:\n",
    "        try:\n",
    "            item_data.loc[item_id,'grape'] = wine_df.loc[item_id,'grape']\n",
    "        except:\n",
    "            no_key +=1\n",
    "print(no_key)"
   ]
  },
  {
   "cell_type": "code",
   "execution_count": null,
   "metadata": {},
   "outputs": [],
   "source": [
    "item_data['item_id'] = item_data.index"
   ]
  },
  {
   "cell_type": "code",
   "execution_count": null,
   "metadata": {},
   "outputs": [],
   "source": [
    "item_data = pd.read_csv('/opt/ml/wine/data/item_df_allfeature.csv',encoding='utf-8-sig')\n",
    "item_data.rename(columns = {'region':'region1'}, inplace= True)"
   ]
  },
  {
   "cell_type": "code",
   "execution_count": null,
   "metadata": {},
   "outputs": [],
   "source": [
    "with open('/opt/ml/wine/data/sample_vectors.json','r') as f: \n",
    "    sample_vec = json.load(f)"
   ]
  },
  {
   "cell_type": "code",
   "execution_count": null,
   "metadata": {},
   "outputs": [],
   "source": [
    "import re\n",
    "\n",
    "def keep_only_english(text):\n",
    "    try:\n",
    "        english_text = re.sub(r'[^a-zA-Z\\s]', '', text)\n",
    "        return english_text.lower().strip()\n",
    "    except: return None"
   ]
  },
  {
   "cell_type": "code",
   "execution_count": null,
   "metadata": {},
   "outputs": [],
   "source": [
    "def find_vectors(columns_name : deque, grouped_vectors: DataFrame):\n",
    "    column, name = columns_name.popleft()\n",
    "    if name is not None:\n",
    "        grouped_vectors = grouped_vectors.query(f\"{column} == '{name}'\")\n",
    "        if columns_name:\n",
    "            vector = find_vectors(columns_name, grouped_vectors.drop(column,axis = 1))\n",
    "        else: \n",
    "            vector = grouped_vectors.vectors.mean()\n",
    "            \n",
    "        return vector\n",
    "    else:\n",
    "        return grouped_vectors.vectors.mean()\n",
    "\n",
    "def get_item_vector(df, vector_path):\n",
    "    df = df.sort_values(by='item_id', ascending=True)\n",
    "    with open(vector_path,'r') as f: \n",
    "        vectors = json.load(f)\n",
    "    vector_list = []\n",
    "\n",
    "    for id in tqdm(item_data.item_id):\n",
    "        id = str(id)\n",
    "        if id in vectors.keys():\n",
    "            vector_list.append(np.array(vectors[id]))\n",
    "        else:\n",
    "            vector_list.append(None)\n",
    "    df['vectors'] = vector_list\n",
    "    return df\n"
   ]
  },
  {
   "cell_type": "code",
   "execution_count": null,
   "metadata": {},
   "outputs": [],
   "source": [
    "item_data_with_vectors = fill_vectors(item_data, '/opt/ml/wine/data/wine_vector.json')"
   ]
  },
  {
   "cell_type": "code",
   "execution_count": null,
   "metadata": {},
   "outputs": [],
   "source": [
    "item_data_with_vectors.to_csv('/opt/ml/wine/data/item_data_vec.csv', index = False, encoding = 'utf-8-sig')"
   ]
  },
  {
   "cell_type": "code",
   "execution_count": null,
   "metadata": {},
   "outputs": [],
   "source": [
    "item_data_with_vectors = pd.read_csv('/opt/ml/wine/data/item_data_sample_vec.csv', encoding = 'utf-8-sig')"
   ]
  },
  {
   "cell_type": "code",
   "execution_count": 5,
   "metadata": {},
   "outputs": [],
   "source": [
    "def string2array(x):\n",
    "    x = x.replace('\\n', '').strip('[]')\n",
    "    x_list = [float(i) for i in x.split(' ') if len(i) != 0]\n",
    "    return np.array(x_list)"
   ]
  },
  {
   "cell_type": "code",
   "execution_count": null,
   "metadata": {},
   "outputs": [],
   "source": [
    "item_data_with_vectors['vectors'] = item_data_with_vectors['vectors'].apply(string2array)"
   ]
  },
  {
   "cell_type": "code",
   "execution_count": null,
   "metadata": {},
   "outputs": [],
   "source": [
    "wine_vectors = []\n",
    "for vector in item_data_with_vectors['vectors']:\n",
    "    wine_vectors.append(vector)\n",
    "wine_vectors = np.array(wine_vectors)"
   ]
  },
  {
   "cell_type": "code",
   "execution_count": null,
   "metadata": {},
   "outputs": [],
   "source": [
    "item_to_fill = item_data_with_vectors.iloc[83,:]\n"
   ]
  },
  {
   "cell_type": "code",
   "execution_count": null,
   "metadata": {},
   "outputs": [],
   "source": []
  },
  {
   "cell_type": "code",
   "execution_count": null,
   "metadata": {},
   "outputs": [],
   "source": [
    "def count_grape(data : pd.DataFrame):\n",
    "    dict = defaultdict(float)\n",
    "    for grapes, dist in zip(data.grape, data.distance):\n",
    "        try: grapes = ast.literal_eval(grapes)\n",
    "        except: pass\n",
    "\n",
    "        for grape in grapes:\n",
    "            try: dict[grape.lower()] += dist\n",
    "            except TypeError as t: continue\n",
    "    return [max(dict , key=lambda k: dict[k])]\n",
    "\n",
    "def count_pairing(data : pd.DataFrame):\n",
    "    dict = defaultdict(float)\n",
    "    for pairings, dist in zip(data.pairing, data.distance):\n",
    "        for menu in pairings.split(' '):\n",
    "            try: dict[menu] += dist\n",
    "            except TypeError as t: continue\n",
    "    return max(dict , key=lambda k: dict[k])\n",
    "\n",
    "def count_most_str(data : pd.DataFrame, column):\n",
    "    dict = defaultdict(float)\n",
    "    for feat, dist in zip(data[column], data.distance):\n",
    "        try:\n",
    "            dict[feat] += dist\n",
    "        except TypeError as t:\n",
    "            continue\n",
    "    return max(dict , key=lambda k: dict[k])\n",
    "\n",
    "def count_most_cont(data : pd.DataFrame, column):\n",
    "    dict = defaultdict(float)\n",
    "    for feat, dist in zip(data[column], data.distance):\n",
    "        try:\n",
    "            dict[feat] += dist\n",
    "        except TypeError as t:\n",
    "            continue\n",
    "    return max(dict , key=lambda k: dict[k])"
   ]
  },
  {
   "cell_type": "code",
   "execution_count": null,
   "metadata": {},
   "outputs": [],
   "source": [
    "from collections import defaultdict\n",
    "def most_close(sim_items : DataFrame):\n",
    "    result = {}\n",
    "    sim_items.dropna(inplace=True)\n",
    "    for col in sim_items.columns:\n",
    "        if col == 'pairing':\n",
    "            result[col] = count_pairing(sim_items)\n",
    "        elif col == 'grape':\n",
    "            result[col] = count_grape(sim_items)\n",
    "        elif col in ['price', 'wine_rating', 'num_votes',\n",
    "                     'Red Fruit', 'Tropical', 'Tree Fruit', 'Oaky', 'Ageing', 'Black Fruit',\n",
    "                     'Citrus', 'Dried Fruit', 'Earthy', 'Floral', 'Microbio', 'Spices',\n",
    "                     'Vegetal', 'Light', 'Bold', 'Smooth', 'Tannic', 'Dry', 'Sweet', 'Soft',\n",
    "                     'Acidic', 'Fizzy', 'Gentle']:\n",
    "            result[col] = count_most_cont(sim_items, col)\n",
    "        else:\n",
    "            result[col] = count_most_str(sim_items, col)\n",
    "    return result\n"
   ]
  },
  {
   "cell_type": "code",
   "execution_count": null,
   "metadata": {},
   "outputs": [],
   "source": [
    "import faiss\n",
    "import pdb\n",
    "from pandas import Series\n",
    "\n",
    "wine_vectors = []\n",
    "for vector in item_data_with_vectors['vectors']:\n",
    "    wine_vectors.append(vector)\n",
    "wine_vectors = np.array(wine_vectors)\n",
    "\n",
    "\n",
    "def find_most_sim_item(df : DataFrame, to_fill_item_id: int, wine_vectors : np.array):\n",
    "\n",
    "    ###index should be wine_id/item_id\n",
    "    item_to_fill = item_data_with_vectors.loc[to_fill_item_id,:]\n",
    "\n",
    "    item_vector = item_to_fill.vectors\n",
    "    try:\n",
    "        None_col = list(item_to_fill.index[item_to_fill.isna()])\n",
    "    except: pdb.set_trace()\n",
    "    None_col.append('distance')\n",
    "\n",
    "    item_data_with_vectors.set_index('item_id', inplace=True)\n",
    "    item_data_with_vectors['item_id'] = item_data_with_vectors.index\n",
    "    item_ids = list(item_data_with_vectors['item_id'])\n",
    "    vector_dimension = item_vector.shape[0]\n",
    "\n",
    "    index = faiss.IndexFlatL2(vector_dimension)\n",
    "    index = faiss.IndexIDMap2(index)\n",
    "    index.add_with_ids(wine_vectors, item_ids)\n",
    "\n",
    "    # Faiss expects the query vectors to be normalized\n",
    "    to_search = np.expand_dims(item_vector, axis=0)\n",
    "    to_search = np.ascontiguousarray(to_search.astype(np.float32))\n",
    "    faiss.normalize_L2(to_search)\n",
    "\n",
    "    k = index.ntotal\n",
    "    distances, searched_wine_ids = index.search(to_search, k=20)\n",
    "\n",
    "    result = []\n",
    "    for ids, dists in zip(searched_wine_ids[0], distances[0]): \n",
    "        result.append((ids, dists))\n",
    "\n",
    "    sim_items = item_data_with_vectors.loc[[x[0] for x in result], :]\n",
    "    sim_items['distance'] = 0\n",
    "    sim_items = sim_items.loc[:, None_col]\n",
    "    \n",
    "    \n",
    "    for id, dist in result: sim_items.loc[id, 'distance'] = 1/dist\n",
    "\n",
    "    to_fill = most_close(sim_items)\n",
    "    \n",
    "    for col, val in to_fill.items():\n",
    "        item_data_with_vectors.loc[to_fill_item_id, col] = val\n",
    "\n",
    "    return item_data_with_vectors\n",
    "    "
   ]
  },
  {
   "cell_type": "code",
   "execution_count": null,
   "metadata": {},
   "outputs": [],
   "source": [
    "for id in tqdm(item_data_with_vectors.index):\n",
    "    item_data_with_vectors = find_most_sim_item(item_data_with_vectors, id, wine_vectors)"
   ]
  },
  {
   "cell_type": "code",
   "execution_count": null,
   "metadata": {},
   "outputs": [],
   "source": [
    "def count_most_cont(data : pd.DataFrame, column):\n",
    "    dict = defaultdict(float)\n",
    "    data.dropna(inplace = True)\n",
    "    total_sum = data['distance'].sum()\n",
    "\n",
    "    # Make the smallest value to 1 and scale other values accordingly\n",
    "    data['distance'] = data['distance'] / total_sum\n",
    "\n",
    "    result = 0\n",
    "    for feat, dist in zip(data[column], data.distance):\n",
    "        try:\n",
    "            result += dist * feat\n",
    "        except TypeError as t:\n",
    "            continue\n",
    "    return result"
   ]
  },
  {
   "cell_type": "code",
   "execution_count": null,
   "metadata": {},
   "outputs": [],
   "source": [
    "item_data = pd.read_csv('/opt/ml/wine/data/item_data_vec.csv', encoding='utf-8-sig')"
   ]
  },
  {
   "cell_type": "code",
   "execution_count": 6,
   "metadata": {},
   "outputs": [],
   "source": [
    "item_data['vectors'] = item_data['vectors'].apply(string2array)"
   ]
  },
  {
   "cell_type": "code",
   "execution_count": 17,
   "metadata": {},
   "outputs": [],
   "source": [
    "def bayesian_average(df, min_votes=20, prior_rating=None):\n",
    "    v = df['num_votes']\n",
    "    R = df['wine_rating']\n",
    "    \n",
    "    if prior_rating is None:\n",
    "        C = df['wine_rating'].mean()  # Mean rating as the prior rating\n",
    "    else:\n",
    "        C = prior_rating\n",
    "\n",
    "    m = min_votes\n",
    "\n",
    "    df['popularity_adjusted_rating'] = ((v / (v + m)) * R) + ((m / (v + m)) * C)\n",
    "    return df"
   ]
  },
  {
   "cell_type": "code",
   "execution_count": 28,
   "metadata": {},
   "outputs": [],
   "source": [
    "min_votes = 20\n",
    "item_data = bayesian_average(item_data, min_votes)\n",
    "# Calculate Bayesian average and add it as a new column in the DataFrame"
   ]
  },
  {
   "cell_type": "code",
   "execution_count": 29,
   "metadata": {},
   "outputs": [
    {
     "data": {
      "text/plain": [
       "0        3.681067\n",
       "1        4.147625\n",
       "2        4.006416\n",
       "3        3.619521\n",
       "4        3.802277\n",
       "           ...   \n",
       "74917    3.506071\n",
       "74918    4.082210\n",
       "74919    4.220119\n",
       "74920    4.306937\n",
       "74921    4.493291\n",
       "Name: popularity_adjusted_rating, Length: 74922, dtype: float64"
      ]
     },
     "execution_count": 29,
     "metadata": {},
     "output_type": "execute_result"
    }
   ],
   "source": [
    "item_data['popularity_adjusted_rating']"
   ]
  },
  {
   "cell_type": "code",
   "execution_count": 31,
   "metadata": {},
   "outputs": [
    {
     "data": {
      "text/html": [
       "<div>\n",
       "<style scoped>\n",
       "    .dataframe tbody tr th:only-of-type {\n",
       "        vertical-align: middle;\n",
       "    }\n",
       "\n",
       "    .dataframe tbody tr th {\n",
       "        vertical-align: top;\n",
       "    }\n",
       "\n",
       "    .dataframe thead th {\n",
       "        text-align: right;\n",
       "    }\n",
       "</style>\n",
       "<table border=\"1\" class=\"dataframe\">\n",
       "  <thead>\n",
       "    <tr style=\"text-align: right;\">\n",
       "      <th></th>\n",
       "      <th>country</th>\n",
       "      <th>region1</th>\n",
       "      <th>winery</th>\n",
       "      <th>winetype</th>\n",
       "      <th>grape</th>\n",
       "      <th>name</th>\n",
       "      <th>vintage</th>\n",
       "      <th>house</th>\n",
       "      <th>price</th>\n",
       "      <th>wine_rating</th>\n",
       "      <th>...</th>\n",
       "      <th>Acidic</th>\n",
       "      <th>Fizzy</th>\n",
       "      <th>Gentle</th>\n",
       "      <th>region2</th>\n",
       "      <th>region3</th>\n",
       "      <th>region4</th>\n",
       "      <th>item_id</th>\n",
       "      <th>vectors</th>\n",
       "      <th>bayesian_avg</th>\n",
       "      <th>popularity_adjusted_rating</th>\n",
       "    </tr>\n",
       "  </thead>\n",
       "  <tbody>\n",
       "    <tr>\n",
       "      <th>22819</th>\n",
       "      <td>unitedstates</td>\n",
       "      <td>california</td>\n",
       "      <td>abreu</td>\n",
       "      <td>dessertwine</td>\n",
       "      <td>['Pinot Noir']</td>\n",
       "      <td>Sauternes 1997</td>\n",
       "      <td>1997.0</td>\n",
       "      <td>Château_d'Yquem</td>\n",
       "      <td>256.99</td>\n",
       "      <td>4.8</td>\n",
       "      <td>...</td>\n",
       "      <td>0.00</td>\n",
       "      <td>0.00</td>\n",
       "      <td>0.00</td>\n",
       "      <td>North_Coast</td>\n",
       "      <td>Napa_County</td>\n",
       "      <td>Napa_Valley</td>\n",
       "      <td>22819</td>\n",
       "      <td>[0.0913422071, 0.507825071, 0.142717776, 0.144...</td>\n",
       "      <td>4.8</td>\n",
       "      <td>4.792745</td>\n",
       "    </tr>\n",
       "    <tr>\n",
       "      <th>16386</th>\n",
       "      <td>france</td>\n",
       "      <td>bordeaux</td>\n",
       "      <td>château d'yquem</td>\n",
       "      <td>dessertwine</td>\n",
       "      <td>['Sauvignon Blanc']</td>\n",
       "      <td>Sauternes 1990</td>\n",
       "      <td>1990.0</td>\n",
       "      <td>Château_d'Yquem</td>\n",
       "      <td>256.99</td>\n",
       "      <td>4.8</td>\n",
       "      <td>...</td>\n",
       "      <td>0.00</td>\n",
       "      <td>0.00</td>\n",
       "      <td>0.00</td>\n",
       "      <td>Sauternes</td>\n",
       "      <td>NaN</td>\n",
       "      <td>NaN</td>\n",
       "      <td>16386</td>\n",
       "      <td>[0.0913422071, 0.507825071, 0.142717776, 0.144...</td>\n",
       "      <td>4.8</td>\n",
       "      <td>4.792163</td>\n",
       "    </tr>\n",
       "    <tr>\n",
       "      <th>51528</th>\n",
       "      <td>france</td>\n",
       "      <td>bourgogne</td>\n",
       "      <td>NaN</td>\n",
       "      <td>redwine</td>\n",
       "      <td>['Malbec']</td>\n",
       "      <td>Unico 1999</td>\n",
       "      <td>1999.0</td>\n",
       "      <td>Vega_Sicilia</td>\n",
       "      <td>782.00</td>\n",
       "      <td>4.8</td>\n",
       "      <td>...</td>\n",
       "      <td>77.50</td>\n",
       "      <td>0.00</td>\n",
       "      <td>0.00</td>\n",
       "      <td>NaN</td>\n",
       "      <td>NaN</td>\n",
       "      <td>NaN</td>\n",
       "      <td>51528</td>\n",
       "      <td>[0.10880302, 0.48559926, 0.11923454, 0.0442084...</td>\n",
       "      <td>4.8</td>\n",
       "      <td>4.791409</td>\n",
       "    </tr>\n",
       "    <tr>\n",
       "      <th>25348</th>\n",
       "      <td>italy</td>\n",
       "      <td>northernitaly</td>\n",
       "      <td>ferrari</td>\n",
       "      <td>redwine</td>\n",
       "      <td>['Cabernet Sauvignon']</td>\n",
       "      <td>Unico 2010</td>\n",
       "      <td>2010.0</td>\n",
       "      <td>Vega_Sicilia</td>\n",
       "      <td>678.00</td>\n",
       "      <td>4.8</td>\n",
       "      <td>...</td>\n",
       "      <td>46.56</td>\n",
       "      <td>55.57</td>\n",
       "      <td>44.43</td>\n",
       "      <td>Trentino-Alto_Adige</td>\n",
       "      <td>Trento</td>\n",
       "      <td>NaN</td>\n",
       "      <td>25348</td>\n",
       "      <td>[0.10061615, 0.557006955, 0.141965389, 0.13747...</td>\n",
       "      <td>4.8</td>\n",
       "      <td>4.790529</td>\n",
       "    </tr>\n",
       "    <tr>\n",
       "      <th>16855</th>\n",
       "      <td>italy</td>\n",
       "      <td>centralitaly</td>\n",
       "      <td>nevio</td>\n",
       "      <td>redwine</td>\n",
       "      <td>['Pinot Noir']</td>\n",
       "      <td>Unico 1996</td>\n",
       "      <td>1996.0</td>\n",
       "      <td>Vega_Sicilia</td>\n",
       "      <td>478.95</td>\n",
       "      <td>4.8</td>\n",
       "      <td>...</td>\n",
       "      <td>0.00</td>\n",
       "      <td>0.00</td>\n",
       "      <td>0.00</td>\n",
       "      <td>Abruzzo</td>\n",
       "      <td>Montepulciano_d'Abruzzo</td>\n",
       "      <td>NaN</td>\n",
       "      <td>16855</td>\n",
       "      <td>[0.105900352, 0.487247233, 0.140899844, 0.1019...</td>\n",
       "      <td>4.8</td>\n",
       "      <td>4.788932</td>\n",
       "    </tr>\n",
       "  </tbody>\n",
       "</table>\n",
       "<p>5 rows × 43 columns</p>\n",
       "</div>"
      ],
      "text/plain": [
       "            country        region1           winery     winetype  \\\n",
       "22819  unitedstates     california            abreu  dessertwine   \n",
       "16386        france       bordeaux  château d'yquem  dessertwine   \n",
       "51528        france      bourgogne              NaN      redwine   \n",
       "25348         italy  northernitaly          ferrari      redwine   \n",
       "16855         italy   centralitaly            nevio      redwine   \n",
       "\n",
       "                        grape            name  vintage            house  \\\n",
       "22819          ['Pinot Noir']  Sauternes 1997   1997.0  Château_d'Yquem   \n",
       "16386     ['Sauvignon Blanc']  Sauternes 1990   1990.0  Château_d'Yquem   \n",
       "51528              ['Malbec']      Unico 1999   1999.0     Vega_Sicilia   \n",
       "25348  ['Cabernet Sauvignon']      Unico 2010   2010.0     Vega_Sicilia   \n",
       "16855          ['Pinot Noir']      Unico 1996   1996.0     Vega_Sicilia   \n",
       "\n",
       "        price  wine_rating  ...  Acidic  Fizzy Gentle              region2  \\\n",
       "22819  256.99          4.8  ...    0.00   0.00   0.00          North_Coast   \n",
       "16386  256.99          4.8  ...    0.00   0.00   0.00            Sauternes   \n",
       "51528  782.00          4.8  ...   77.50   0.00   0.00                  NaN   \n",
       "25348  678.00          4.8  ...   46.56  55.57  44.43  Trentino-Alto_Adige   \n",
       "16855  478.95          4.8  ...    0.00   0.00   0.00              Abruzzo   \n",
       "\n",
       "                       region3      region4  item_id  \\\n",
       "22819              Napa_County  Napa_Valley    22819   \n",
       "16386                      NaN          NaN    16386   \n",
       "51528                      NaN          NaN    51528   \n",
       "25348                   Trento          NaN    25348   \n",
       "16855  Montepulciano_d'Abruzzo          NaN    16855   \n",
       "\n",
       "                                                 vectors  bayesian_avg  \\\n",
       "22819  [0.0913422071, 0.507825071, 0.142717776, 0.144...           4.8   \n",
       "16386  [0.0913422071, 0.507825071, 0.142717776, 0.144...           4.8   \n",
       "51528  [0.10880302, 0.48559926, 0.11923454, 0.0442084...           4.8   \n",
       "25348  [0.10061615, 0.557006955, 0.141965389, 0.13747...           4.8   \n",
       "16855  [0.105900352, 0.487247233, 0.140899844, 0.1019...           4.8   \n",
       "\n",
       "       popularity_adjusted_rating  \n",
       "22819                    4.792745  \n",
       "16386                    4.792163  \n",
       "51528                    4.791409  \n",
       "25348                    4.790529  \n",
       "16855                    4.788932  \n",
       "\n",
       "[5 rows x 43 columns]"
      ]
     },
     "execution_count": 31,
     "metadata": {},
     "output_type": "execute_result"
    }
   ],
   "source": [
    "item_data.sort_values(by = 'popularity_adjusted_rating', ascending= False).head()"
   ]
  },
  {
   "cell_type": "code",
   "execution_count": 2,
   "metadata": {},
   "outputs": [],
   "source": [
    "item = pd.read_csv('/opt/ml/wine/dataset/train_data/train_data.item', sep = '\\t')"
   ]
  },
  {
   "cell_type": "code",
   "execution_count": 6,
   "metadata": {},
   "outputs": [
    {
     "data": {
      "text/plain": [
       "'-1.01311721e-016.82000041e-011.96760818e-011.59401506e-01\\n1.64711446e-019.75074526e-031.33600831e+00-5.03013236e-03\\n2.12512448e-018.13960552e-013.12727690e-024.82736588e-01\\n6.82997108e-013.11376095e-01-3.20802510e-01-2.76718020e-01\\n-4.95105058e-012.05793291e-01-4.47369248e-011.77953988e-01\\n-3.65629286e-01-1.81205079e-01-1.32020223e+00-2.85510212e-01\\n-1.00134194e+001.10023171e-014.89672989e-01-6.00624621e-01\\n-3.70308220e-015.24713814e-012.60561913e-01-3.79807234e-01\\n3.59316617e-014.44908321e-015.46144426e-012.30730847e-01\\n-1.05190501e-01-3.66421670e-01-8.54111969e-01-4.51880872e-01\\n2.36353353e-01-5.20874374e-023.12811315e-01-7.42904544e-01\\n3.27833891e-01-2.73616254e-016.38046265e-01-1.36867434e-01\\n-3.95588100e-015.60747445e-015.67298710e-011.52754828e-01\\n7.00274169e-016.83347285e-024.55757380e-014.71648842e-01\\n-7.19975948e-012.39471987e-01-1.22060999e-01-2.26985842e-01\\n1.83927089e-014.38517064e-01-1.02341795e+00-2.13116348e-01\\n-2.20430437e-02-1.04745197e+009.35723782e-011.35449976e-01\\n-9.35048401e-012.08388597e-01-8.48743081e-011.11400640e+00\\n-4.02329594e-011.97782964e-01-6.33295357e-015.16749084e-01\\n4.20386121e-02-5.70336998e-013.73692930e-011.48141250e-01\\n5.98908328e-02-5.42403907e-026.52842999e-01-2.76498944e-01\\n-3.42785150e-01-2.01266602e-012.70410568e-011.05697799e+00\\n3.06507021e-01-2.61493802e-019.11130369e-012.26962537e-01\\n5.81183359e-02-1.21959472e+00-4.94112074e-026.91864610e-01\\n7.04371929e-013.87627542e-011.44501939e-011.12526250e+00\\n-6.04282498e-01-6.92931116e-011.48794621e-01-7.90504813e-01\\n-3.64791960e-01-3.87064487e-015.15892923e-011.05438456e-01\\n-3.87127161e-012.10987758e-02-3.76195103e-01-1.29627094e-01\\n6.02383673e-01-1.52139798e-01-3.99009198e-014.36900467e-01\\n-3.83627206e-019.22223926e-01-7.32906088e-022.70517379e-01\\n-2.23495409e-01-5.50732091e-02-1.31229591e-022.51661651e-02\\n1.42477944e-017.18603730e-025.03964543e-019.49957371e-01\\n1.38307393e-01-1.48197245e-027.00991511e-016.42902076e-01\\n4.82760370e-025.28133929e-01-1.52017623e-01-3.57446037e-02\\n-3.52248371e-011.47067875e-01-9.89913493e-026.55750185e-02\\n-4.61259991e-01-1.26120076e-011.01336324e+007.94868588e-01\\n1.15704276e-01-8.52946863e-02-3.80200237e-011.85298741e-01\\n-3.10587823e-011.09112807e-01-3.17921713e-02-1.78919107e-01\\n-3.62686455e-017.21668601e-01-3.69870700e-02-4.39687312e-01\\n6.18974984e-01-3.30451846e-01-4.56880629e-012.63101961e-02\\n-3.08529794e-01-8.46365809e-01-8.55193079e-014.78095114e-01\\n-6.44327283e-01-1.44853637e-01-6.84004128e-01-4.49972957e-01\\n-5.79003394e-013.49485874e-032.86176622e-01-2.68709332e-01\\n-2.07319960e-01-1.56146631e-018.32893699e-02-7.80730486e-01\\n-6.76778793e-01-7.21337199e-01-8.61556530e-01-4.83777761e-01\\n-4.02854025e-015.09071231e-012.37211585e-012.84948319e-01\\n5.35892189e-01-6.71014905e-01-4.24669504e-015.97339749e-01\\n-2.48957291e-015.12896061e-011.14029847e-015.60677350e-02\\n1.96584061e-017.35157654e-021.94184616e-01-8.23282719e-01\\n8.36130440e-014.98080939e-01-1.23301316e-02-7.38352001e-01\\n1.13261789e-011.30379236e+003.08182269e-01-3.89149114e-02\\n-6.19109929e-016.06562197e-027.92261660e-01-3.02802771e-01\\n3.71045381e-012.31069177e-015.34742236e-012.45717123e-01\\n3.95669132e-01-4.15134192e-01-3.05988550e-011.19083643e-01\\n-1.84913710e-01-6.51394010e-018.93814415e-023.36549968e-01\\n8.34955394e-015.28635323e-01-5.54526806e-01-5.05288541e-01\\n1.46785215e-019.20584738e-01-3.72584969e-013.90365021e-03\\n-1.32141292e-019.83572483e-013.07391793e-01-8.19330588e-02\\n-1.28670228e+00-9.13535714e-01-1.01671767e+002.52385736e-01\\n-1.38200974e+001.31030651e-021.15398003e-03-5.68669379e-01\\n3.29079777e-01-2.18265623e-01-2.03817874e-017.74009705e-01\\n4.06124443e-01-6.27648830e-03-7.46262670e-02-3.67459118e-01\\n-1.61519915e-01-3.63401264e-013.04096907e-01-4.28915918e-02\\n4.32191581e-01-5.29532909e-016.03817916e-037.65165448e-01\\n6.04594871e-02-9.49645519e-014.36130434e-01-4.61672515e-01\\n-8.76184165e-01-1.99255981e-02-2.05757529e-01-7.86147535e-01\\n-3.11579019e-011.17531431e+00-1.89299532e-036.79436803e-01\\n-3.57785463e-014.76900011e-01-4.24500197e-01-5.21348238e-01\\n4.06196088e-01-2.48313934e-014.74407256e-01-7.59397566e-01\\n-9.14777577e-01-2.64491796e-01-4.61034447e-01-4.23190624e-01\\n2.13136673e-013.47939163e-014.77385968e-02-6.80634797e-01\\n5.72502851e-01-3.17693174e-012.00330466e-01-3.61204177e-01\\n1.14019048e+002.33469065e-02-7.39364803e-01-2.64698118e-02\\n5.64436913e-02-2.51913786e-01-8.04915667e-012.29621276e-01\\n-4.29219231e-028.48431885e-01-1.67876497e-013.29962909e-01\\n-7.46456444e-015.08800745e-024.25541610e-012.27202121e-02\\n-2.06767336e-01-5.48531562e-02-6.15313590e-015.19224465e-01\\n-9.55859423e-01-8.95322487e-02-2.35262513e-01-5.11315525e-01\\n-3.58351380e-018.78709078e-01-7.70259500e-017.53090620e-01\\n-9.38504487e-022.08060313e-022.61795908e-01-3.92139763e-01\\n-6.08550012e-01-4.67400044e-014.86056395e-02-5.18829226e-01\\n9.43608940e-017.36414716e-02-3.20718825e-01-6.44239068e-01\\n-8.78270157e-03-3.67119104e-011.02602971e+00-1.97332084e-01\\n2.37108588e-01-4.25434917e-01-5.83206475e-01-7.21084893e-01\\n3.58755052e-011.48063213e-016.65021315e-025.40123701e-01\\n4.64239657e-011.48413211e-01-8.31414089e-02-7.12984860e-01\\n8.53063107e-01-3.34822983e-01-3.75678182e-011.28910378e-01\\n2.55613532e-02-3.82316232e-014.00454670e-017.08980337e-02\\n-5.68565249e-016.07541680e-01-3.00301254e-018.18314254e-01\\n6.55005872e-011.54183358e-01-2.68120050e-01-3.30614775e-01\\n-1.01716176e-016.59418404e-01-3.15643668e-011.09252095e+00\\n8.92352223e-011.70327374e-039.46706474e-011.65070087e-01\\n-8.16747665e-014.79708433e-017.08800077e-012.38254860e-01\\n-1.58949241e-017.27146268e-016.45100698e-02-5.16877830e-01\\n-3.49338382e-01-8.62313747e-014.38282281e-013.18163425e-01\\n-1.21079139e-01-5.85665405e-01-8.87275577e-01-4.62158203e-01\\n-1.17587745e-016.52010977e-011.05538368e-01-8.83362293e-01\\n5.33611216e-02-5.78739941e-011.26739657e+003.20397705e-01\\n1.83189243e-011.14397049e-011.30797416e-01-4.52804893e-01\\n-8.86668801e-014.12111342e-01-8.08260620e-019.86964524e-01\\n6.35392487e-013.40614378e-019.90744710e-014.72171247e-01\\n-1.11308157e-018.96214247e-01-3.45056593e-01-2.28607491e-01\\n3.09384137e-019.78659242e-02-3.65074217e-013.36667478e-01\\n3.30604970e-01-7.16418624e-01-7.23514497e-012.10464835e-01\\n8.63201499e-011.15142465e+00-1.44690216e-01-1.32117361e-01\\n-9.89091516e-014.49770868e-014.37405631e-022.08849728e-01\\n-4.92984354e-01-2.98536718e-014.45277900e-01-1.04482388e+00\\n7.38815010e-01-1.58927768e-015.44007719e-017.07393944e-01\\n-1.18160792e-018.12453553e-021.85682267e-018.10064435e-01\\n-1.09705649e-01-7.55871475e-018.94239545e-013.77603680e-01\\n-9.06527936e-024.27477986e-01-6.23777211e-014.24130887e-01\\n3.81965399e-014.07037377e-012.00745016e-021.00692403e+00\\n-1.39114201e+00-5.16814828e-01-6.06410444e-01-2.58888525e-04\\n2.50538945e-01-1.71764009e-02-2.21460611e-012.22257478e-03\\n3.31996739e-017.77026951e-013.16847265e-01-1.13995600e+00\\n3.46150815e-01-7.97268629e-011.27026081e-01-3.34366292e-01\\n2.37566993e-013.50745648e-011.65158629e-011.79183468e-01\\n-3.85086000e-014.11669195e-01-4.96669441e-011.85908651e+00\\n-8.30927074e-01-8.24359059e-013.26746434e-01-4.01364654e-01\\n-4.71605629e-013.80141795e-015.87516606e-012.38522083e-01\\n-2.63915241e-01-5.06511331e-011.01848602e+003.84937912e-01\\n-1.83732778e-01-9.64545310e-022.84003586e-01-4.43591058e-01\\n-8.36052775e-012.92430878e-01-7.55087018e-01-5.71230352e-01\\n6.74703479e-01-4.55365449e-01-1.34462178e-01-6.05158925e-01\\n2.74883121e-019.32834819e-027.42625117e-01-3.24821830e-01\\n3.92695487e-01-5.90118885e-011.12726009e+00-7.26645052e-01\\n-2.09613144e-013.26926082e-016.13014698e-01-6.75138593e-01\\n-3.96759838e-012.37871721e-01-1.57893729e+002.44137496e-01'"
      ]
     },
     "execution_count": 6,
     "metadata": {},
     "output_type": "execute_result"
    }
   ],
   "source": [
    "item['vectors:float_seq'][0].replace(' ','')"
   ]
  },
  {
   "cell_type": "code",
   "execution_count": 7,
   "metadata": {},
   "outputs": [],
   "source": [
    "item = pd.read_csv('/opt/ml/wine/data/item_data.csv')"
   ]
  },
  {
   "cell_type": "code",
   "execution_count": 19,
   "metadata": {},
   "outputs": [
    {
     "data": {
      "text/plain": [
       "'[-1.01311721e-01  6.82000041e-01  1.96760818e-01  1.59401506e-01  1.64711446e-01  9.75074526e-03  1.33600831e+00 -5.03013236e-03  2.12512448e-01  8.13960552e-01  3.12727690e-02  4.82736588e-01  6.82997108e-01  3.11376095e-01 -3.20802510e-01 -2.76718020e-01 -4.95105058e-01  2.05793291e-01 -4.47369248e-01  1.77953988e-01 -3.65629286e-01 -1.81205079e-01 -1.32020223e+00 -2.85510212e-01 -1.00134194e+00  1.10023171e-01  4.89672989e-01 -6.00624621e-01 -3.70308220e-01  5.24713814e-01  2.60561913e-01 -3.79807234e-01  3.59316617e-01  4.44908321e-01  5.46144426e-01  2.30730847e-01 -1.05190501e-01 -3.66421670e-01 -8.54111969e-01 -4.51880872e-01  2.36353353e-01 -5.20874374e-02  3.12811315e-01 -7.42904544e-01  3.27833891e-01 -2.73616254e-01  6.38046265e-01 -1.36867434e-01 -3.95588100e-01  5.60747445e-01  5.67298710e-01  1.52754828e-01  7.00274169e-01  6.83347285e-02  4.55757380e-01  4.71648842e-01 -7.19975948e-01  2.39471987e-01 -1.22060999e-01 -2.26985842e-01  1.83927089e-01  4.38517064e-01 -1.02341795e+00 -2.13116348e-01 -2.20430437e-02 -1.04745197e+00  9.35723782e-01  1.35449976e-01 -9.35048401e-01  2.08388597e-01 -8.48743081e-01  1.11400640e+00 -4.02329594e-01  1.97782964e-01 -6.33295357e-01  5.16749084e-01  4.20386121e-02 -5.70336998e-01  3.73692930e-01  1.48141250e-01  5.98908328e-02 -5.42403907e-02  6.52842999e-01 -2.76498944e-01 -3.42785150e-01 -2.01266602e-01  2.70410568e-01  1.05697799e+00  3.06507021e-01 -2.61493802e-01  9.11130369e-01  2.26962537e-01  5.81183359e-02 -1.21959472e+00 -4.94112074e-02  6.91864610e-01  7.04371929e-01  3.87627542e-01  1.44501939e-01  1.12526250e+00 -6.04282498e-01 -6.92931116e-01  1.48794621e-01 -7.90504813e-01 -3.64791960e-01 -3.87064487e-01  5.15892923e-01  1.05438456e-01 -3.87127161e-01  2.10987758e-02 -3.76195103e-01 -1.29627094e-01  6.02383673e-01 -1.52139798e-01 -3.99009198e-01  4.36900467e-01 -3.83627206e-01  9.22223926e-01 -7.32906088e-02  2.70517379e-01 -2.23495409e-01 -5.50732091e-02 -1.31229591e-02  2.51661651e-02  1.42477944e-01  7.18603730e-02  5.03964543e-01  9.49957371e-01  1.38307393e-01 -1.48197245e-02  7.00991511e-01  6.42902076e-01  4.82760370e-02  5.28133929e-01 -1.52017623e-01 -3.57446037e-02 -3.52248371e-01  1.47067875e-01 -9.89913493e-02  6.55750185e-02 -4.61259991e-01 -1.26120076e-01  1.01336324e+00  7.94868588e-01  1.15704276e-01 -8.52946863e-02 -3.80200237e-01  1.85298741e-01 -3.10587823e-01  1.09112807e-01 -3.17921713e-02 -1.78919107e-01 -3.62686455e-01  7.21668601e-01 -3.69870700e-02 -4.39687312e-01  6.18974984e-01 -3.30451846e-01 -4.56880629e-01  2.63101961e-02 -3.08529794e-01 -8.46365809e-01 -8.55193079e-01  4.78095114e-01 -6.44327283e-01 -1.44853637e-01 -6.84004128e-01 -4.49972957e-01 -5.79003394e-01  3.49485874e-03  2.86176622e-01 -2.68709332e-01 -2.07319960e-01 -1.56146631e-01  8.32893699e-02 -7.80730486e-01 -6.76778793e-01 -7.21337199e-01 -8.61556530e-01 -4.83777761e-01 -4.02854025e-01  5.09071231e-01  2.37211585e-01  2.84948319e-01  5.35892189e-01 -6.71014905e-01 -4.24669504e-01  5.97339749e-01 -2.48957291e-01  5.12896061e-01  1.14029847e-01  5.60677350e-02  1.96584061e-01  7.35157654e-02  1.94184616e-01 -8.23282719e-01  8.36130440e-01  4.98080939e-01 -1.23301316e-02 -7.38352001e-01  1.13261789e-01  1.30379236e+00  3.08182269e-01 -3.89149114e-02 -6.19109929e-01  6.06562197e-02  7.92261660e-01 -3.02802771e-01  3.71045381e-01  2.31069177e-01  5.34742236e-01  2.45717123e-01  3.95669132e-01 -4.15134192e-01 -3.05988550e-01  1.19083643e-01 -1.84913710e-01 -6.51394010e-01  8.93814415e-02  3.36549968e-01  8.34955394e-01  5.28635323e-01 -5.54526806e-01 -5.05288541e-01  1.46785215e-01  9.20584738e-01 -3.72584969e-01  3.90365021e-03 -1.32141292e-01  9.83572483e-01  3.07391793e-01 -8.19330588e-02 -1.28670228e+00 -9.13535714e-01 -1.01671767e+00  2.52385736e-01 -1.38200974e+00  1.31030651e-02  1.15398003e-03 -5.68669379e-01  3.29079777e-01 -2.18265623e-01 -2.03817874e-01  7.74009705e-01  4.06124443e-01 -6.27648830e-03 -7.46262670e-02 -3.67459118e-01 -1.61519915e-01 -3.63401264e-01  3.04096907e-01 -4.28915918e-02  4.32191581e-01 -5.29532909e-01  6.03817916e-03  7.65165448e-01  6.04594871e-02 -9.49645519e-01  4.36130434e-01 -4.61672515e-01 -8.76184165e-01 -1.99255981e-02 -2.05757529e-01 -7.86147535e-01 -3.11579019e-01  1.17531431e+00 -1.89299532e-03  6.79436803e-01 -3.57785463e-01  4.76900011e-01 -4.24500197e-01 -5.21348238e-01  4.06196088e-01 -2.48313934e-01  4.74407256e-01 -7.59397566e-01 -9.14777577e-01 -2.64491796e-01 -4.61034447e-01 -4.23190624e-01  2.13136673e-01  3.47939163e-01  4.77385968e-02 -6.80634797e-01  5.72502851e-01 -3.17693174e-01  2.00330466e-01 -3.61204177e-01  1.14019048e+00  2.33469065e-02 -7.39364803e-01 -2.64698118e-02  5.64436913e-02 -2.51913786e-01 -8.04915667e-01  2.29621276e-01 -4.29219231e-02  8.48431885e-01 -1.67876497e-01  3.29962909e-01 -7.46456444e-01  5.08800745e-02  4.25541610e-01  2.27202121e-02 -2.06767336e-01 -5.48531562e-02 -6.15313590e-01  5.19224465e-01 -9.55859423e-01 -8.95322487e-02 -2.35262513e-01 -5.11315525e-01 -3.58351380e-01  8.78709078e-01 -7.70259500e-01  7.53090620e-01 -9.38504487e-02  2.08060313e-02  2.61795908e-01 -3.92139763e-01 -6.08550012e-01 -4.67400044e-01  4.86056395e-02 -5.18829226e-01  9.43608940e-01  7.36414716e-02 -3.20718825e-01 -6.44239068e-01 -8.78270157e-03 -3.67119104e-01  1.02602971e+00 -1.97332084e-01  2.37108588e-01 -4.25434917e-01 -5.83206475e-01 -7.21084893e-01  3.58755052e-01  1.48063213e-01  6.65021315e-02  5.40123701e-01  4.64239657e-01  1.48413211e-01 -8.31414089e-02 -7.12984860e-01  8.53063107e-01 -3.34822983e-01 -3.75678182e-01  1.28910378e-01  2.55613532e-02 -3.82316232e-01  4.00454670e-01  7.08980337e-02 -5.68565249e-01  6.07541680e-01 -3.00301254e-01  8.18314254e-01  6.55005872e-01  1.54183358e-01 -2.68120050e-01 -3.30614775e-01 -1.01716176e-01  6.59418404e-01 -3.15643668e-01  1.09252095e+00  8.92352223e-01  1.70327374e-03  9.46706474e-01  1.65070087e-01 -8.16747665e-01  4.79708433e-01  7.08800077e-01  2.38254860e-01 -1.58949241e-01  7.27146268e-01  6.45100698e-02 -5.16877830e-01 -3.49338382e-01 -8.62313747e-01  4.38282281e-01  3.18163425e-01 -1.21079139e-01 -5.85665405e-01 -8.87275577e-01 -4.62158203e-01 -1.17587745e-01  6.52010977e-01  1.05538368e-01 -8.83362293e-01  5.33611216e-02 -5.78739941e-01  1.26739657e+00  3.20397705e-01  1.83189243e-01  1.14397049e-01  1.30797416e-01 -4.52804893e-01 -8.86668801e-01  4.12111342e-01 -8.08260620e-01  9.86964524e-01  6.35392487e-01  3.40614378e-01  9.90744710e-01  4.72171247e-01 -1.11308157e-01  8.96214247e-01 -3.45056593e-01 -2.28607491e-01  3.09384137e-01  9.78659242e-02 -3.65074217e-01  3.36667478e-01  3.30604970e-01 -7.16418624e-01 -7.23514497e-01  2.10464835e-01  8.63201499e-01  1.15142465e+00 -1.44690216e-01 -1.32117361e-01 -9.89091516e-01  4.49770868e-01  4.37405631e-02  2.08849728e-01 -4.92984354e-01 -2.98536718e-01  4.45277900e-01 -1.04482388e+00  7.38815010e-01 -1.58927768e-01  5.44007719e-01  7.07393944e-01 -1.18160792e-01  8.12453553e-02  1.85682267e-01  8.10064435e-01 -1.09705649e-01 -7.55871475e-01  8.94239545e-01  3.77603680e-01 -9.06527936e-02  4.27477986e-01 -6.23777211e-01  4.24130887e-01  3.81965399e-01  4.07037377e-01  2.00745016e-02  1.00692403e+00 -1.39114201e+00 -5.16814828e-01 -6.06410444e-01 -2.58888525e-04  2.50538945e-01 -1.71764009e-02 -2.21460611e-01  2.22257478e-03  3.31996739e-01  7.77026951e-01  3.16847265e-01 -1.13995600e+00  3.46150815e-01 -7.97268629e-01  1.27026081e-01 -3.34366292e-01  2.37566993e-01  3.50745648e-01  1.65158629e-01  1.79183468e-01 -3.85086000e-01  4.11669195e-01 -4.96669441e-01  1.85908651e+00 -8.30927074e-01 -8.24359059e-01  3.26746434e-01 -4.01364654e-01 -4.71605629e-01  3.80141795e-01  5.87516606e-01  2.38522083e-01 -2.63915241e-01 -5.06511331e-01  1.01848602e+00  3.84937912e-01 -1.83732778e-01 -9.64545310e-02  2.84003586e-01 -4.43591058e-01 -8.36052775e-01  2.92430878e-01 -7.55087018e-01 -5.71230352e-01  6.74703479e-01 -4.55365449e-01 -1.34462178e-01 -6.05158925e-01  2.74883121e-01  9.32834819e-02  7.42625117e-01 -3.24821830e-01  3.92695487e-01 -5.90118885e-01  1.12726009e+00 -7.26645052e-01 -2.09613144e-01  3.26926082e-01  6.13014698e-01 -6.75138593e-01 -3.96759838e-01  2.37871721e-01 -1.57893729e+00  2.44137496e-01'"
      ]
     },
     "execution_count": 19,
     "metadata": {},
     "output_type": "execute_result"
    }
   ],
   "source": [
    "item['vectors'].iloc[:7].apply(lambda x: \"\".join(map(str, x))).str.replace('\\n', '').replace('[', '').str.replace(']', '')[0]"
   ]
  },
  {
   "cell_type": "code",
   "execution_count": null,
   "metadata": {},
   "outputs": [],
   "source": []
  }
 ],
 "metadata": {
  "kernelspec": {
   "display_name": "base",
   "language": "python",
   "name": "python3"
  },
  "language_info": {
   "codemirror_mode": {
    "name": "ipython",
    "version": 3
   },
   "file_extension": ".py",
   "mimetype": "text/x-python",
   "name": "python",
   "nbconvert_exporter": "python",
   "pygments_lexer": "ipython3",
   "version": "3.8.5"
  },
  "orig_nbformat": 4
 },
 "nbformat": 4,
 "nbformat_minor": 2
}
